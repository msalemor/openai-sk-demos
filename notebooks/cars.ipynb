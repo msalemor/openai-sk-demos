{
 "cells": [
  {
   "cell_type": "markdown",
   "metadata": {},
   "source": [
    "# English and Spanish used car sales descriptions using REST<br/>Text generation and translation scenarios\n",
    "\n",
    "This sample will generate a sales car descriptions for used cars. It will mock getting structured data from a database call and turing that data into a simple description that then is sent to a GPT API call to create a rich sales description in English. A second GPT call translates the sales description into Spanish. This demo is based on the following user story:\n",
    "\n",
    "- https://customers.microsoft.com/en-us/story/1501304071775762777-carmax-retailer-azure-openai-service\n",
    "\n",
    "Learning objectives:\n",
    "\n",
    "- Understand what I have to provide to make this REST demo work including:\n",
    "  - The prompt and completion models to make the API calls\n",
    "  - The code and knowledge of using the HttpClient to make make rest calls and make them resilient\n",
    "  - The disjoined functions to hadle sales description and translation\n",
    "  - The Code to handle submit the prompt and process the completion\n",
    "\n",
    "## Load the required .NET packages and supporting classes"
   ]
  },
  {
   "cell_type": "code",
   "execution_count": 1,
   "metadata": {
    "dotnet_interactive": {
     "language": "csharp"
    },
    "polyglot_notebook": {
     "kernelName": "csharp"
    },
    "vscode": {
     "languageId": "polyglot-notebook"
    }
   },
   "outputs": [
    {
     "data": {
      "text/html": [
       "<div><div></div><div></div><div><strong>Installed Packages</strong><ul><li><span>dotenv.net, 3.1.2</span></li><li><span>Microsoft.Extensions.Logging.Console, 7.0.0</span></li></ul></div></div>"
      ]
     },
     "metadata": {},
     "output_type": "display_data"
    }
   ],
   "source": [
    "#r \"nuget: dotenv.net\"\n",
    "#r \"nuget: Microsoft.Extensions.Logging.Console\"\n",
    "\n",
    "using System;\n",
    "using System.Net;\n",
    "using System.Net.Http;\n",
    "using System.Net.Http.Headers;\n",
    "using System.Text;\n",
    "using System.Text.Json;\n",
    "using System.Text.Json.Serialization;\n",
    "using System.Threading;\n",
    "using System.Threading.Tasks;\n",
    "using Microsoft.Extensions.Logging;\n",
    "using Microsoft.Extensions.Logging.Abstractions;\n",
    "using dotenv.net;\n",
    "\n",
    "#!import Models/Models.cs\n",
    "#!import Utils/HttpUtils.cs\n",
    "#!import Utils/ConsoleLogger.cs"
   ]
  },
  {
   "cell_type": "markdown",
   "metadata": {},
   "source": [
    "## Read the OpenAI endpoint and API key from environment variables or an .env file"
   ]
  },
  {
   "cell_type": "code",
   "execution_count": 2,
   "metadata": {
    "dotnet_interactive": {
     "language": "csharp"
    },
    "polyglot_notebook": {
     "kernelName": "csharp"
    },
    "vscode": {
     "languageId": "polyglot-notebook"
    }
   },
   "outputs": [
    {
     "name": "stdout",
     "output_type": "stream",
     "text": [
      "Using deployment at: https://alemorfr.openai.azure.com/openai/deployments/gpt/chat/completions?api-version=2023-03-15-preview with key 32c87...\r\n"
     ]
    }
   ],
   "source": [
    "DotEnv.Load();\n",
    "var uri = Environment.GetEnvironmentVariable(\"GPT_OPENAI_FULL_ENDPOINT\");\n",
    "var apiKey = Environment.GetEnvironmentVariable(\"GPT_OPENAI_KEY\");\n",
    "Console.WriteLine($\"Using deployment at: {uri} with key {apiKey.Substring(0, 5)}...\");"
   ]
  },
  {
   "cell_type": "markdown",
   "metadata": {},
   "source": [
    "## Prepare the HttpClient\n",
    "\n",
    "- The HttpClient is the C# network object that handles HTTP/S calls."
   ]
  },
  {
   "cell_type": "code",
   "execution_count": 3,
   "metadata": {
    "dotnet_interactive": {
     "language": "csharp"
    },
    "polyglot_notebook": {
     "kernelName": "csharp"
    },
    "vscode": {
     "languageId": "polyglot-notebook"
    }
   },
   "outputs": [],
   "source": [
    "// Get an HttpClient Instance\n",
    "var client = new HttpClient();\n",
    "client.DefaultRequestHeaders.TryAddWithoutValidation(\"api-key\",apiKey);"
   ]
  },
  {
   "cell_type": "markdown",
   "metadata": {},
   "source": [
    "## Mock a database call to get the car details"
   ]
  },
  {
   "cell_type": "code",
   "execution_count": 4,
   "metadata": {
    "dotnet_interactive": {
     "language": "csharp"
    },
    "polyglot_notebook": {
     "kernelName": "csharp"
    },
    "vscode": {
     "languageId": "polyglot-notebook"
    }
   },
   "outputs": [],
   "source": [
    "var mockCarData = new List<Car>{\n",
    "    new Car(\"123\",\"Ford\", \"Explorer\", 2015, \"Silver\", \"V6\", \"Platinum\", 10000, 16500),\n",
    "    new Car(\"456\",\"Ford\", \"Mustang\", 2018, \"Blue\", \"V8\", \"Sports\", 10000, 250000),\n",
    "    new Car(\"789\",\"Ford\", \"Escape\", 2020, \"Red\", \"V6\",\"Special\", 3000, 15000)\n",
    "  };\n",
    "\n",
    "List<Car> MockDBCall() {  \n",
    "  return mockCarData;\n",
    "}"
   ]
  },
  {
   "cell_type": "markdown",
   "metadata": {},
   "source": [
    "## Get a vehicle description from the car properties\n",
    "\n",
    "This function turns the structured data into a sentence."
   ]
  },
  {
   "cell_type": "code",
   "execution_count": 5,
   "metadata": {
    "dotnet_interactive": {
     "language": "csharp"
    },
    "polyglot_notebook": {
     "kernelName": "csharp"
    },
    "vscode": {
     "languageId": "polyglot-notebook"
    }
   },
   "outputs": [],
   "source": [
    "// Reminder: I created this function, to make more impact, but the car record has a ToString defition to return the same information\n",
    "string GetCarDescription(Car car) {\n",
    "  return $\"{car.Year} {car.Make} {car.Model} {car.Color} {car.Motor} {car.Package} with {car.milage} miles for ${car.price}\";\n",
    "}"
   ]
  },
  {
   "cell_type": "markdown",
   "metadata": {},
   "source": [
    "## Use GPT to get a vehicle sales description"
   ]
  },
  {
   "cell_type": "code",
   "execution_count": 6,
   "metadata": {
    "dotnet_interactive": {
     "language": "csharp"
    },
    "polyglot_notebook": {
     "kernelName": "csharp"
    },
    "vscode": {
     "languageId": "polyglot-notebook"
    }
   },
   "outputs": [],
   "source": [
    "async Task<string> GetSalesDescription(HttpClient client, string desc) {\n",
    "    var prompt = $\"Get a sales description for the following car:\\n{desc}\";\n",
    "    var chatHistory = new List<Message>();\n",
    "    chatHistory.Add(new Message(\"user\", prompt));\n",
    "    var ans = await GetGptCompletionAsync(client,uri,chatHistory);\n",
    "    return ans.Item1;\n",
    "}"
   ]
  },
  {
   "cell_type": "markdown",
   "metadata": {},
   "source": [
    "## Use GPT to translate from English to Spanish"
   ]
  },
  {
   "cell_type": "code",
   "execution_count": 7,
   "metadata": {
    "dotnet_interactive": {
     "language": "csharp"
    },
    "polyglot_notebook": {
     "kernelName": "csharp"
    },
    "vscode": {
     "languageId": "polyglot-notebook"
    }
   },
   "outputs": [],
   "source": [
    "async Task<string> TranslateIntoES(HttpClient client, string translate) {\n",
    "    var prompt = $\"Translate the following text from English to Spanish:\\n{translate}\";\n",
    "    var chatHistory = new List<Message>();\n",
    "    chatHistory.Add(new Message(\"user\", prompt));\n",
    "    var ans = await GetGptCompletionAsync(client,uri,chatHistory);\n",
    "    return ans.Item1;\n",
    "}"
   ]
  },
  {
   "cell_type": "markdown",
   "metadata": {},
   "source": [
    "## Process each used car for a sales description, translate into Spanish,<br/>and keep a list of the work"
   ]
  },
  {
   "cell_type": "code",
   "execution_count": 10,
   "metadata": {
    "dotnet_interactive": {
     "language": "csharp"
    },
    "polyglot_notebook": {
     "kernelName": "csharp"
    },
    "vscode": {
     "languageId": "polyglot-notebook"
    }
   },
   "outputs": [
    {
     "name": "stdout",
     "output_type": "stream",
     "text": [
      "Processing: 2015 Ford Explorer Silver V6 Platinum with 10000 miles for $16500\n",
      "Sales Description: Looking for a sleek and stylish SUV that delivers top-notch performance and comfort? Look no further than the 2015 Ford Explorer Silver V6 Platinum! With only 10000 miles on the odometer, this vehicle is practically brand new and ready to hit the road. The powerful V6 engine delivers impressive acceleration and handling, while the Platinum trim level offers a host of premium features like leather upholstery, heated and cooled front seats, and a premium sound system. And at just $16500, this Explorer is an unbeatable value that won't break the bank. So why wait? Come test drive the 2015 Ford Explorer Silver V6 Platinum today and experience the ultimate in SUV luxury and performance!\n",
      "Translation: Looking for a sleek and stylish SUV that delivers top-notch performance and comfort? Look no further than the 2015 Ford Explorer Silver V6 Platinum! With only 10000 miles on the odometer, this vehicle is practically brand new and ready to hit the road. The powerful V6 engine delivers impressive acceleration and handling, while the Platinum trim level offers a host of premium features like leather upholstery, heated and cooled front seats, and a premium sound system. And at just $16500, this Explorer is an unbeatable value that won't break the bank. So why wait? Come test drive the 2015 Ford Explorer Silver V6 Platinum today and experience the ultimate in SUV luxury and performance!\n",
      "Processing: 2018 Ford Mustang Blue V8 Sports with 10000 miles for $250000\n",
      "Sales Description: Introducing the ultimate driving machine - the 2018 Ford Mustang Blue V8 Sports! This stunning car is a true masterpiece, boasting a powerful V8 engine that delivers an exhilarating driving experience. With only 10000 miles on the clock, this Mustang is practically brand new and ready to hit the open road. The sleek blue exterior is sure to turn heads wherever you go, while the luxurious interior is packed with all the latest features and technology. And at just $250000, this Mustang is an absolute steal. Don't miss your chance to own this incredible car - come test drive it today!\n",
      "Translation: Introducing the ultimate driving machine - the 2018 Ford Mustang Blue V8 Sports! This stunning car is a true masterpiece, boasting a powerful V8 engine that delivers an exhilarating driving experience. With only 10000 miles on the clock, this Mustang is practically brand new and ready to hit the open road. The sleek blue exterior is sure to turn heads wherever you go, while the luxurious interior is packed with all the latest features and technology. And at just $250000, this Mustang is an absolute steal. Don't miss your chance to own this incredible car - come test drive it today!\n",
      "Processing: 2020 Ford Escape Red V6 Special with 3000 miles for $15000\n",
      "Sales Description: Introducing the 2020 Ford Escape Red V6 Special, the perfect combination of style, power, and affordability! With only 3000 miles on the odometer, this vehicle is practically brand new and ready to hit the road. The sleek red exterior is sure to turn heads, while the powerful V6 engine provides a thrilling driving experience. And at just $15000, this incredible deal won't last long. Don't miss your chance to own this amazing car - come test drive it today!\n",
      "Translation: Introducing the 2020 Ford Escape Red V6 Special, the perfect combination of style, power, and affordability! With only 3000 miles on the odometer, this vehicle is practically brand new and ready to hit the road. The sleek red exterior is sure to turn heads, while the powerful V6 engine provides a thrilling driving experience. And at just $15000, this incredible deal won't last long. Don't miss your chance to own this amazing car - come test drive it today!\n"
     ]
    },
    {
     "data": {
      "text/html": [
       "<table><thead><tr><th><i>index</i></th><th>value</th></tr></thead><tbody><tr><td>0</td><td><details class=\"dni-treeview\"><summary><span class=\"dni-code-hint\"><code>CarTranslation { VIN = 123, En = Looking for a sleek and stylish SUV that delivers top-notch performance and comfort? Look no further than the 2015 Ford Explorer Silver V6 Platinum! With only 10000 miles on the odometer, this vehicle is practically brand new and ready to hit the road. The powerful V...</code></span></summary><div><table><thead><tr></tr></thead><tbody><tr><td>VIN</td><td><div class=\"dni-plaintext\"><pre>123</pre></div></td></tr><tr><td>En</td><td><div class=\"dni-plaintext\"><pre>Looking for a sleek and stylish SUV that delivers top-notch performance and comfort? Look no further than the 2015 Ford Explorer Silver V6 Platinum! With only 10000 miles on the odometer, this vehicle is practically brand new and ready to hit the road. The powerful V6 engine delivers impressive acceleration and handling, while the Platinum trim level offers a host of premium features like leather upholstery, heated and cooled front seats, and a premium sound system. And at just $16500, this Explorer is an unbeatable value that won&#39;t break the bank. So why wait? Come test drive the 2015 Ford Explorer Silver V6 Platinum today and experience the ultimate in SUV luxury and performance!</pre></div></td></tr><tr><td>ES</td><td><div class=\"dni-plaintext\"><pre>&#191;Buscas un SUV elegante y con estilo que ofrezca un rendimiento y comodidad de primera? &#161;No busques m&#225;s all&#225; del Ford Explorer Silver V6 Platinum 2015! Con solo 10000 millas en el od&#243;metro, este veh&#237;culo es pr&#225;cticamente nuevo y est&#225; listo para salir a la carretera. El potente motor V6 ofrece una impresionante aceleraci&#243;n y manejo, mientras que el nivel de acabado Platinum ofrece una gran cantidad de caracter&#237;sticas premium como tapicer&#237;a de cuero, asientos delanteros con calefacci&#243;n y refrigeraci&#243;n y un sistema de sonido premium. Y a solo $16500, este Explorer es una oferta imbatible que no romper&#225; el banco. Entonces, &#191;por qu&#233; esperar? &#161;Ven a probar el Ford Explorer Silver V6 Platinum 2015 hoy y experimenta lo &#250;ltimo en lujo y rendimiento de SUV!</pre></div></td></tr></tbody></table></div></details></td></tr><tr><td>1</td><td><details class=\"dni-treeview\"><summary><span class=\"dni-code-hint\"><code>CarTranslation { VIN = 456, En = Introducing the ultimate driving machine - the 2018 Ford Mustang Blue V8 Sports! This stunning car is a true masterpiece, boasting a powerful V8 engine that delivers an exhilarating driving experience. With only 10000 miles on the clock, this Mustang is practically b...</code></span></summary><div><table><thead><tr></tr></thead><tbody><tr><td>VIN</td><td><div class=\"dni-plaintext\"><pre>456</pre></div></td></tr><tr><td>En</td><td><div class=\"dni-plaintext\"><pre>Introducing the ultimate driving machine - the 2018 Ford Mustang Blue V8 Sports! This stunning car is a true masterpiece, boasting a powerful V8 engine that delivers an exhilarating driving experience. With only 10000 miles on the clock, this Mustang is practically brand new and ready to hit the open road. The sleek blue exterior is sure to turn heads wherever you go, while the luxurious interior is packed with all the latest features and technology. And at just $250000, this Mustang is an absolute steal. Don&#39;t miss your chance to own this incredible car - come test drive it today!</pre></div></td></tr><tr><td>ES</td><td><div class=\"dni-plaintext\"><pre>&#161;Presentamos la m&#225;quina de conducci&#243;n definitiva: el Ford Mustang Blue V8 Sports 2018! Este impresionante autom&#243;vil es una verdadera obra maestra, con un potente motor V8 que ofrece una experiencia de conducci&#243;n emocionante. Con solo 10000 millas en el od&#243;metro, este Mustang es pr&#225;cticamente nuevo y est&#225; listo para recorrer la carretera abierta. El elegante exterior azul seguramente llamar&#225; la atenci&#243;n donde quiera que vaya, mientras que el lujoso interior est&#225; equipado con todas las &#250;ltimas caracter&#237;sticas y tecnolog&#237;a. Y por solo $250000, este Mustang es un verdadero robo. &#161;No pierda la oportunidad de ser due&#241;o de este incre&#237;ble autom&#243;vil, venga a probarlo hoy mismo!</pre></div></td></tr></tbody></table></div></details></td></tr><tr><td>2</td><td><details class=\"dni-treeview\"><summary><span class=\"dni-code-hint\"><code>CarTranslation { VIN = 789, En = Introducing the 2020 Ford Escape Red V6 Special, the perfect combination of style, power, and affordability! With only 3000 miles on the odometer, this vehicle is practically brand new and ready to hit the road. The sleek red exterior is sure to turn heads, while the...</code></span></summary><div><table><thead><tr></tr></thead><tbody><tr><td>VIN</td><td><div class=\"dni-plaintext\"><pre>789</pre></div></td></tr><tr><td>En</td><td><div class=\"dni-plaintext\"><pre>Introducing the 2020 Ford Escape Red V6 Special, the perfect combination of style, power, and affordability! With only 3000 miles on the odometer, this vehicle is practically brand new and ready to hit the road. The sleek red exterior is sure to turn heads, while the powerful V6 engine provides a thrilling driving experience. And at just $15000, this incredible deal won&#39;t last long. Don&#39;t miss your chance to own this amazing car - come test drive it today!</pre></div></td></tr><tr><td>ES</td><td><div class=\"dni-plaintext\"><pre>&#161;Presentamos el Ford Escape Red V6 Special 2020, la combinaci&#243;n perfecta de estilo, potencia y asequibilidad! Con solo 3000 millas en el od&#243;metro, este veh&#237;culo es pr&#225;cticamente nuevo y est&#225; listo para salir a la carretera. El elegante exterior rojo seguramente llamar&#225; la atenci&#243;n, mientras que el potente motor V6 proporciona una emocionante experiencia de conducci&#243;n. Y por solo $15000, esta incre&#237;ble oferta no durar&#225; mucho. No pierdas la oportunidad de ser due&#241;o de este incre&#237;ble autom&#243;vil, &#161;ven a probarlo hoy mismo!</pre></div></td></tr></tbody></table></div></details></td></tr></tbody></table><style>\r\n",
       ".dni-code-hint {\r\n",
       "    font-style: italic;\r\n",
       "    overflow: hidden;\r\n",
       "    white-space: nowrap;\r\n",
       "}\r\n",
       ".dni-treeview {\r\n",
       "    white-space: nowrap;\r\n",
       "}\r\n",
       ".dni-treeview td {\r\n",
       "    vertical-align: top;\r\n",
       "    text-align: start;\r\n",
       "}\r\n",
       "details.dni-treeview {\r\n",
       "    padding-left: 1em;\r\n",
       "}\r\n",
       "table td {\r\n",
       "    text-align: start;\r\n",
       "}\r\n",
       "table tr { \r\n",
       "    vertical-align: top; \r\n",
       "    margin: 0em 0px;\r\n",
       "}\r\n",
       "table tr td pre \r\n",
       "{ \r\n",
       "    vertical-align: top !important; \r\n",
       "    margin: 0em 0px !important;\r\n",
       "} \r\n",
       "table th {\r\n",
       "    text-align: start;\r\n",
       "}\r\n",
       "</style>"
      ]
     },
     "metadata": {},
     "output_type": "display_data"
    }
   ],
   "source": [
    "// Mock making a call to a database to get a list of cars\n",
    "var cars = MockDBCall();\n",
    "\n",
    "var processedCars = new List<CarTranslation>();\n",
    "foreach(var car in cars) {\n",
    "\n",
    "  // Get a short description given the car properties\n",
    "  var desc = GetCarDescription(car);\n",
    "  Console.WriteLine($\"Processing: {desc}\");\n",
    "  \n",
    "  // Get a sales description from Davinci\n",
    "  var result = await GetSalesDescription(client, desc);\n",
    "  Console.WriteLine($\"Sales Description: {result}\");\n",
    "\n",
    "  \n",
    "  //Translate into Spanish\n",
    "  var esResult = await TranslateIntoES(client,result);\n",
    "  Console.WriteLine($\"Translation: {result}\");\n",
    "  \n",
    "  // Add processed car to list\n",
    "  processedCars.Add(new CarTranslation(car.VIN, result.ToString(), esResult.ToString()));\n",
    "}\n",
    "\n",
    "// Show the processed cars\n",
    "processedCars"
   ]
  }
 ],
 "metadata": {
  "language_info": {
   "name": "python"
  },
  "orig_nbformat": 4
 },
 "nbformat": 4,
 "nbformat_minor": 2
}
