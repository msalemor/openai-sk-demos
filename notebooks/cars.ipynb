{
 "cells": [
  {
   "cell_type": "markdown",
   "metadata": {},
   "source": [
    "# English and Spanish used car sales descriptions without SK\n",
    "\n",
    "Learning objectives:\n",
    "- What did I have to provide that SK provides for me?\n",
    "  - Provided the prompt and completion models\n",
    "  - Code to make make rest calls\n",
    "  - Code to handle submit the prompt and process the completion\n",
    "\n",
    "## Load the required .NET packages and supporting classes"
   ]
  },
  {
   "cell_type": "code",
   "execution_count": null,
   "metadata": {
    "dotnet_interactive": {
     "language": "csharp"
    },
    "polyglot_notebook": {
     "kernelName": "csharp"
    },
    "vscode": {
     "languageId": "polyglot-notebook"
    }
   },
   "outputs": [],
   "source": [
    "#r \"nuget: dotenv.net\"\n",
    "#r \"nuget: Microsoft.Extensions.Logging.Console\"\n",
    "using System;\n",
    "\n",
    "using System.Net;\n",
    "using System.Net.Http;\n",
    "using System.Net.Http.Headers;\n",
    "using System.Text;\n",
    "using System.Text.Json;\n",
    "using System.Text.Json.Serialization;\n",
    "using System.Threading;\n",
    "using System.Threading.Tasks;\n",
    "using Microsoft.Extensions.Logging;\n",
    "using Microsoft.Extensions.Logging.Abstractions;\n",
    "using dotenv.net;\n",
    "\n",
    "#!import Models/Models.cs\n",
    "#!import Utils/HttpUtils.cs\n",
    "#!import Utils/ConsoleLogger.cs"
   ]
  },
  {
   "cell_type": "markdown",
   "metadata": {},
   "source": [
    "## Load the OpenAI variables from environment variables or an .env file"
   ]
  },
  {
   "cell_type": "code",
   "execution_count": null,
   "metadata": {
    "dotnet_interactive": {
     "language": "csharp"
    },
    "polyglot_notebook": {
     "kernelName": "csharp"
    },
    "vscode": {
     "languageId": "polyglot-notebook"
    }
   },
   "outputs": [],
   "source": [
    "DotEnv.Load();\n",
    "var uri = Environment.GetEnvironmentVariable(\"GPT_OPENAI_FULL_ENDPOINT\");\n",
    "var apiKey = Environment.GetEnvironmentVariable(\"GPT_OPENAI_KEY\");\n",
    "Console.WriteLine($\"Using deployment at: {uri} with key {apiKey.Substring(0, 5)}...\");"
   ]
  },
  {
   "cell_type": "markdown",
   "metadata": {},
   "source": [
    "## Prepare the HttpClient"
   ]
  },
  {
   "cell_type": "code",
   "execution_count": null,
   "metadata": {
    "dotnet_interactive": {
     "language": "csharp"
    },
    "polyglot_notebook": {
     "kernelName": "csharp"
    },
    "vscode": {
     "languageId": "polyglot-notebook"
    }
   },
   "outputs": [],
   "source": [
    "// Get an HttpClient Instance\n",
    "var client = new HttpClient();\n",
    "client.DefaultRequestHeaders.TryAddWithoutValidation(\"api-key\",apiKey);"
   ]
  },
  {
   "cell_type": "markdown",
   "metadata": {},
   "source": [
    "# Create a mock function to simulate a DB call to get the car details"
   ]
  },
  {
   "cell_type": "code",
   "execution_count": null,
   "metadata": {
    "dotnet_interactive": {
     "language": "csharp"
    },
    "polyglot_notebook": {
     "kernelName": "csharp"
    },
    "vscode": {
     "languageId": "polyglot-notebook"
    }
   },
   "outputs": [],
   "source": [
    "var mockCarData = new List<Car>{\n",
    "    new Car(\"123\",\"Ford\", \"Explorer\", 2015, \"Silver\", \"V6\", \"Platinum\", 10000, 16500),\n",
    "    new Car(\"456\",\"Ford\", \"Mustang\", 2018, \"Blue\", \"V8\", \"Sports\", 10000, 250000),\n",
    "    new Car(\"789\",\"Ford\", \"Escape\", 2020, \"Red\", \"V6\",\"Special\", 3000, 15000)\n",
    "  };\n",
    "\n",
    "List<Car> MockDBCall() {  \n",
    "  return mockCarData;\n",
    "}"
   ]
  },
  {
   "cell_type": "markdown",
   "metadata": {},
   "source": [
    "## Get a vehicle description from the car properties"
   ]
  },
  {
   "cell_type": "code",
   "execution_count": null,
   "metadata": {
    "dotnet_interactive": {
     "language": "csharp"
    },
    "polyglot_notebook": {
     "kernelName": "csharp"
    },
    "vscode": {
     "languageId": "polyglot-notebook"
    }
   },
   "outputs": [],
   "source": [
    "string GetCarDescription(Car car) {\n",
    "  return $\"{car.Year} {car.Make} {car.Model} {car.Color} {car.Motor} {car.Package} with {car.milage} miles for ${car.price}\";\n",
    "}"
   ]
  },
  {
   "cell_type": "markdown",
   "metadata": {},
   "source": [
    "## Use Davinci to get a vehicle sales description"
   ]
  },
  {
   "cell_type": "code",
   "execution_count": null,
   "metadata": {
    "dotnet_interactive": {
     "language": "csharp"
    },
    "polyglot_notebook": {
     "kernelName": "csharp"
    },
    "vscode": {
     "languageId": "polyglot-notebook"
    }
   },
   "outputs": [],
   "source": [
    "async Task<string> GetSalesDescription(HttpClient client, string desc) {\n",
    "    var prompt = $\"Get a sales description for the following car:\\n{desc}\";\n",
    "    var chatHistory = new List<Message>();\n",
    "    chatHistory.Add(new Message(\"user\", prompt));\n",
    "    var ans = await GetGptCompletionAsync(client,uri,chatHistory);\n",
    "    return ans.Item1;\n",
    "}"
   ]
  },
  {
   "cell_type": "markdown",
   "metadata": {},
   "source": [
    "## Use Davinci to get a vehicle sales description translation from English to Spanish"
   ]
  },
  {
   "cell_type": "code",
   "execution_count": null,
   "metadata": {
    "dotnet_interactive": {
     "language": "csharp"
    },
    "polyglot_notebook": {
     "kernelName": "csharp"
    },
    "vscode": {
     "languageId": "polyglot-notebook"
    }
   },
   "outputs": [],
   "source": [
    "async Task<string> TranslateIntoES(HttpClient client, string translate) {\n",
    "    var prompt = $\"Translate the following text from English to Spanish:\\n{translate}\";\n",
    "    var chatHistory = new List<Message>();\n",
    "    chatHistory.Add(new Message(\"user\", prompt));\n",
    "    var ans = await GetGptCompletionAsync(client,uri,chatHistory);\n",
    "    return ans.Item1;\n",
    "}"
   ]
  },
  {
   "cell_type": "markdown",
   "metadata": {},
   "source": [
    "## Process each used car for sales description and translation"
   ]
  },
  {
   "cell_type": "code",
   "execution_count": null,
   "metadata": {
    "dotnet_interactive": {
     "language": "csharp"
    },
    "polyglot_notebook": {
     "kernelName": "csharp"
    },
    "vscode": {
     "languageId": "polyglot-notebook"
    }
   },
   "outputs": [],
   "source": [
    "// Mock making a call to a database to get a list of cars\n",
    "var cars = MockDBCall();\n",
    "\n",
    "var processedCars = new List<CarTranslation>();\n",
    "foreach(var car in cars) {\n",
    "\n",
    "  // Get a short description given the car properties\n",
    "  var desc = GetCarDescription(car);\n",
    "  Console.WriteLine($\"Processing: {desc}\");\n",
    "  \n",
    "  // Get a sales description from Davinci\n",
    "  var result = await GetSalesDescription(client, desc);\n",
    "  Console.WriteLine($\"Sales Description: {result}\");\n",
    "\n",
    "  \n",
    "  //Translate into Spanish\n",
    "  result = await TranslateIntoES(client,result);\n",
    "  Console.WriteLine($\"Translation: {result}\");\n",
    "  \n",
    "  // Add processed car to list\n",
    "  //processedCars.Add(new CarTranslation(car.VIN, result.ToString(), es.ToString()));\n",
    "}\n",
    "\n",
    "// Show the processed cars\n",
    "processedCars"
   ]
  }
 ],
 "metadata": {
  "language_info": {
   "name": "python"
  },
  "orig_nbformat": 4
 },
 "nbformat": 4,
 "nbformat_minor": 2
}
