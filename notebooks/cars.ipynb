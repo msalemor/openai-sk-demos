{
 "cells": [
  {
   "cell_type": "markdown",
   "metadata": {},
   "source": [
    "# English and Spanish used car sales descriptions without SK\n",
    "\n",
    "## Load the required .NET packages and supporting classes"
   ]
  },
  {
   "cell_type": "code",
   "execution_count": 12,
   "metadata": {
    "dotnet_interactive": {
     "language": "csharp"
    },
    "polyglot_notebook": {
     "kernelName": "csharp"
    },
    "vscode": {
     "languageId": "polyglot-notebook"
    }
   },
   "outputs": [
    {
     "data": {
      "text/html": [
       "<div><div></div><div></div><div><strong>Installed Packages</strong><ul><li><span>dotenv.net, 3.1.2</span></li><li><span>Microsoft.Extensions.Logging.Console, 7.0.0</span></li></ul></div></div>"
      ]
     },
     "metadata": {},
     "output_type": "display_data"
    }
   ],
   "source": [
    "#r \"nuget: dotenv.net\"\n",
    "#r \"nuget: Microsoft.Extensions.Logging.Console\"\n",
    "using System;\n",
    "\n",
    "using System.Net;\n",
    "using System.Net.Http;\n",
    "using System.Net.Http.Headers;\n",
    "using System.Text;\n",
    "using System.Text.Json;\n",
    "using System.Text.Json.Serialization;\n",
    "using System.Threading;\n",
    "using System.Threading.Tasks;\n",
    "using Microsoft.Extensions.Logging;\n",
    "using Microsoft.Extensions.Logging.Abstractions;\n",
    "using dotenv.net;\n",
    "\n",
    "#!import Models/Models.cs\n",
    "#!import Utils/HttpUtils.cs\n",
    "#!import Utils/ConsoleLogger.cs"
   ]
  },
  {
   "cell_type": "markdown",
   "metadata": {},
   "source": [
    "## Load the OpenAI variables from environment variables or an .env file"
   ]
  },
  {
   "cell_type": "code",
   "execution_count": 13,
   "metadata": {
    "dotnet_interactive": {
     "language": "csharp"
    },
    "polyglot_notebook": {
     "kernelName": "csharp"
    },
    "vscode": {
     "languageId": "polyglot-notebook"
    }
   },
   "outputs": [
    {
     "name": "stdout",
     "output_type": "stream",
     "text": [
      "Using deployment at: https://alemorfr.openai.azure.com/openai/deployments/gpt/chat/completions?api-version=2023-03-15-preview with key 32c87...\n"
     ]
    }
   ],
   "source": [
    "DotEnv.Load();\n",
    "var uri = Environment.GetEnvironmentVariable(\"GPT_OPENAI_FULL_ENDPOINT\");\n",
    "var apiKey = Environment.GetEnvironmentVariable(\"GPT_OPENAI_KEY\");\n",
    "Console.WriteLine($\"Using deployment at: {uri} with key {apiKey.Substring(0, 5)}...\");"
   ]
  },
  {
   "cell_type": "markdown",
   "metadata": {},
   "source": [
    "## Prepare the HttpClient"
   ]
  },
  {
   "cell_type": "code",
   "execution_count": 14,
   "metadata": {
    "dotnet_interactive": {
     "language": "csharp"
    },
    "polyglot_notebook": {
     "kernelName": "csharp"
    },
    "vscode": {
     "languageId": "polyglot-notebook"
    }
   },
   "outputs": [],
   "source": [
    "// Get an HttpClient Instance\n",
    "var client = new HttpClient();\n",
    "client.DefaultRequestHeaders.TryAddWithoutValidation(\"api-key\",apiKey);"
   ]
  },
  {
   "cell_type": "markdown",
   "metadata": {},
   "source": [
    "# Create a mock function to simulate a DB call to get the car details"
   ]
  },
  {
   "cell_type": "code",
   "execution_count": 15,
   "metadata": {
    "dotnet_interactive": {
     "language": "csharp"
    },
    "polyglot_notebook": {
     "kernelName": "csharp"
    },
    "vscode": {
     "languageId": "polyglot-notebook"
    }
   },
   "outputs": [],
   "source": [
    "var mockCarData = new List<Car>{\n",
    "    new Car(\"123\",\"Ford\", \"Explorer\", 2015, \"Silver\", \"V6\", \"Platinum\", 10000, 16500),\n",
    "    new Car(\"456\",\"Ford\", \"Mustang\", 2018, \"Blue\", \"V8\", \"Sports\", 10000, 250000),\n",
    "    new Car(\"789\",\"Ford\", \"Escape\", 2020, \"Red\", \"V6\",\"Special\", 3000, 15000)\n",
    "  };\n",
    "\n",
    "List<Car> MockDBCall() {  \n",
    "  return mockCarData;\n",
    "}"
   ]
  },
  {
   "cell_type": "markdown",
   "metadata": {},
   "source": [
    "## Get a vehicle description from the car properties"
   ]
  },
  {
   "cell_type": "code",
   "execution_count": 17,
   "metadata": {
    "dotnet_interactive": {
     "language": "csharp"
    },
    "polyglot_notebook": {
     "kernelName": "csharp"
    },
    "vscode": {
     "languageId": "polyglot-notebook"
    }
   },
   "outputs": [],
   "source": [
    "string GetCarDescription(Car car) {\n",
    "  return $\"{car.Year} {car.Make} {car.Model} {car.Color} {car.Motor} {car.Package} with {car.milage} miles for ${car.price}\";\n",
    "}"
   ]
  },
  {
   "cell_type": "markdown",
   "metadata": {},
   "source": [
    "## Use Davinci to get a vehicle sales description"
   ]
  },
  {
   "cell_type": "code",
   "execution_count": 20,
   "metadata": {
    "dotnet_interactive": {
     "language": "csharp"
    },
    "polyglot_notebook": {
     "kernelName": "csharp"
    },
    "vscode": {
     "languageId": "polyglot-notebook"
    }
   },
   "outputs": [],
   "source": [
    "async Task<string> GetSalesDescription(HttpClient client, string desc) {\n",
    "    var prompt = $\"Get a sales description for the following car:\\n{desc}\";\n",
    "    var chatHistory = new List<Message>();\n",
    "    chatHistory.Add(new Message(\"user\", prompt));\n",
    "    var ans = await GetGptCompletionAsync(client,uri,chatHistory);\n",
    "    return ans.Item1;\n",
    "}"
   ]
  },
  {
   "cell_type": "markdown",
   "metadata": {},
   "source": [
    "## Use Davinci to get a vehicle sales description translation from English to Spanish"
   ]
  },
  {
   "cell_type": "code",
   "execution_count": 22,
   "metadata": {
    "dotnet_interactive": {
     "language": "csharp"
    },
    "polyglot_notebook": {
     "kernelName": "csharp"
    },
    "vscode": {
     "languageId": "polyglot-notebook"
    }
   },
   "outputs": [],
   "source": [
    "async Task<string> TranslateIntoES(HttpClient client, string translate) {\n",
    "    var prompt = $\"Translate the following text from English to Spanish:\\n{translate}\";\n",
    "    var chatHistory = new List<Message>();\n",
    "    chatHistory.Add(new Message(\"user\", prompt));\n",
    "    var ans = await GetGptCompletionAsync(client,uri,chatHistory);\n",
    "    return ans.Item1;\n",
    "}"
   ]
  },
  {
   "cell_type": "markdown",
   "metadata": {},
   "source": [
    "## Process each used car for sales description and translation"
   ]
  },
  {
   "cell_type": "code",
   "execution_count": 23,
   "metadata": {
    "dotnet_interactive": {
     "language": "csharp"
    },
    "polyglot_notebook": {
     "kernelName": "csharp"
    },
    "vscode": {
     "languageId": "polyglot-notebook"
    }
   },
   "outputs": [
    {
     "name": "stdout",
     "output_type": "stream",
     "text": [
      "Processing: 2015 Ford Explorer Silver V6 Platinum with 10000 miles for $16500\n",
      "Sales Description: Introducing the stunning 2015 Ford Explorer Silver V6 Platinum, the perfect combination of luxury and performance. With only 10000 miles on the odometer, this beauty is practically brand new and ready to take you on your next adventure. Equipped with a powerful V6 engine, this SUV is designed to deliver a smooth and exhilarating ride every time. The Platinum trim level adds a touch of elegance to the already impressive Explorer, with premium features like leather seats, a premium sound system, and advanced safety technology. And at an unbeatable price of just $16500, this Explorer is an absolute steal. Don't miss out on the opportunity to own this exceptional vehicle - come see it for yourself today!\n",
      "Translation: Presentamos el impresionante Ford Explorer Silver V6 Platinum 2015, la combinación perfecta de lujo y rendimiento. Con solo 10000 millas en el odómetro, esta belleza es prácticamente nueva y está lista para llevarte en tu próxima aventura. Equipado con un potente motor V6, este SUV está diseñado para ofrecer un viaje suave y emocionante cada vez. El nivel de acabado Platinum agrega un toque de elegancia al ya impresionante Explorer, con características premium como asientos de cuero, un sistema de sonido premium y tecnología avanzada de seguridad. Y a un precio imbatible de solo $16500, este Explorer es un robo absoluto. No pierdas la oportunidad de ser dueño de este vehículo excepcional, ¡ven a verlo por ti mismo hoy!\n",
      "Processing: 2018 Ford Mustang Blue V8 Sports with 10000 miles for $250000\n",
      "Sales Description: Introducing the ultimate driving machine - the 2018 Ford Mustang Blue V8 Sports. With only 10000 miles on the odometer, this car is practically brand new and ready to hit the road. The powerful V8 engine delivers an exhilarating driving experience that will leave you breathless. The sleek blue exterior is sure to turn heads and make a statement wherever you go. Inside, you'll find a comfortable and stylish cabin with all the latest features and technology. And at just $250000, this Mustang is an incredible value for anyone looking for a high-performance sports car. Don't miss your chance to own this incredible machine - come test drive the 2018 Ford Mustang Blue V8 Sports today!\n",
      "Translation: Presentamos la máquina de conducción definitiva: el Ford Mustang Blue V8 Sports del 2018. Con solo 10000 millas en el odómetro, este automóvil es prácticamente nuevo y está listo para salir a la carretera. El potente motor V8 ofrece una experiencia de conducción emocionante que te dejará sin aliento. El elegante exterior azul seguramente llamará la atención y hará una declaración donde quiera que vayas. En el interior, encontrarás una cabina cómoda y elegante con todas las últimas características y tecnología. Y por solo $250000, este Mustang es una increíble oferta para cualquiera que busque un automóvil deportivo de alto rendimiento. No pierdas la oportunidad de ser dueño de esta increíble máquina: ¡ven a probar el Ford Mustang Blue V8 Sports del 2018 hoy mismo!\n",
      "Processing: 2020 Ford Escape Red V6 Special with 3000 miles for $15000\n",
      "Sales Description: Introducing the sleek and stylish 2020 Ford Escape Red V6 Special! With only 3000 miles on the odometer, this vehicle is practically brand new and ready to hit the road. Equipped with a powerful V6 engine, you'll experience a smooth and exhilarating ride every time you get behind the wheel. The striking red exterior is sure to turn heads and make a statement wherever you go. And at just $15000, this incredible deal won't last long. Don't miss your chance to own this exceptional vehicle and elevate your driving experience to the next level. Come test drive the 2020 Ford Escape Red V6 Special today!\n",
      "Translation: ¡Presentamos el elegante y con estilo 2020 Ford Escape Red V6 Special! Con solo 3000 millas en el odómetro, este vehículo es prácticamente nuevo y está listo para salir a la carretera. Equipado con un potente motor V6, experimentará un viaje suave y emocionante cada vez que se ponga detrás del volante. El llamativo exterior rojo seguramente llamará la atención y hará una declaración donde quiera que vaya. Y por solo $15000, esta increíble oferta no durará mucho. No pierda la oportunidad de ser dueño de este vehículo excepcional y elevar su experiencia de conducción al siguiente nivel. ¡Venga a probar el 2020 Ford Escape Red V6 Special hoy mismo!\n"
     ]
    },
    {
     "data": {
      "text/html": [
       "<i>(empty)</i><style>\r\n",
       ".dni-code-hint {\r\n",
       "    font-style: italic;\r\n",
       "    overflow: hidden;\r\n",
       "    white-space: nowrap;\r\n",
       "}\r\n",
       ".dni-treeview {\r\n",
       "    white-space: nowrap;\r\n",
       "}\r\n",
       ".dni-treeview td {\r\n",
       "    vertical-align: top;\r\n",
       "    text-align: start;\r\n",
       "}\r\n",
       "details.dni-treeview {\r\n",
       "    padding-left: 1em;\r\n",
       "}\r\n",
       "table td {\r\n",
       "    text-align: start;\r\n",
       "}\r\n",
       "table tr { \r\n",
       "    vertical-align: top; \r\n",
       "    margin: 0em 0px;\r\n",
       "}\r\n",
       "table tr td pre \r\n",
       "{ \r\n",
       "    vertical-align: top !important; \r\n",
       "    margin: 0em 0px !important;\r\n",
       "} \r\n",
       "table th {\r\n",
       "    text-align: start;\r\n",
       "}\r\n",
       "</style>"
      ]
     },
     "metadata": {},
     "output_type": "display_data"
    }
   ],
   "source": [
    "// Mock making a call to a database to get a list of cars\n",
    "var cars = MockDBCall();\n",
    "\n",
    "var processedCars = new List<CarTranslation>();\n",
    "foreach(var car in cars) {\n",
    "\n",
    "  // Get a short description given the car properties\n",
    "  var desc = GetCarDescription(car);\n",
    "  Console.WriteLine($\"Processing: {desc}\");\n",
    "  \n",
    "  // Get a sales description from Davinci\n",
    "  var result = await GetSalesDescription(client, desc);\n",
    "  Console.WriteLine($\"Sales Description: {result}\");\n",
    "\n",
    "  \n",
    "  //Translate into Spanish\n",
    "  result = await TranslateIntoES(client,result);\n",
    "  Console.WriteLine($\"Translation: {result}\");\n",
    "  \n",
    "  // Add processed car to list\n",
    "  //processedCars.Add(new CarTranslation(car.VIN, result.ToString(), es.ToString()));\n",
    "}\n",
    "\n",
    "// Show the processed cars\n",
    "processedCars"
   ]
  }
 ],
 "metadata": {
  "language_info": {
   "name": "python"
  },
  "orig_nbformat": 4
 },
 "nbformat": 4,
 "nbformat_minor": 2
}
