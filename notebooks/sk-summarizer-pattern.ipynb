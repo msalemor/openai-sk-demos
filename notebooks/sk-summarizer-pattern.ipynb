{
 "cells": [
  {
   "cell_type": "markdown",
   "metadata": {},
   "source": [
    "# SK Summarizer Pattern\n",
    "\n",
    "Learning objectives:\n",
    "\n",
    "- Understand a simple Summarization Implementation\n",
    "\n",
    "## Setup\n",
    "\n",
    "### Load required .NET packages and supporting constants, classes, etc."
   ]
  },
  {
   "cell_type": "code",
   "execution_count": 1,
   "metadata": {
    "dotnet_interactive": {
     "language": "csharp"
    },
    "polyglot_notebook": {
     "kernelName": "csharp"
    }
   },
   "outputs": [
    {
     "data": {
      "text/html": [
       "<div><div></div><div></div><div><strong>Installed Packages</strong><ul><li><span>dotenv.net, 3.1.3</span></li><li><span>Microsoft.SemanticKernel, 1.4.0</span></li><li><span>Microsoft.SemanticKernel.Core, 1.4.0</span></li></ul></div></div>"
      ]
     },
     "metadata": {},
     "output_type": "display_data"
    }
   ],
   "source": [
    "#r \"nuget: Microsoft.SemanticKernel, 1.4.0\"\n",
    "#r \"nuget: Microsoft.SemanticKernel.Core, 1.4.0\"\n",
    "#r \"nuget: dotenv.net\"\n",
    "\n",
    "using System;\n",
    "using System.IO;\n",
    "using System.Text;\n",
    "using System.Text.RegularExpressions;\n",
    "using System.Text.Json;\n",
    "using System.Text.Json.Serialization;\n",
    "using Microsoft.SemanticKernel;\n",
    "using Microsoft.SemanticKernel.Connectors.OpenAI;\n",
    "using dotenv.net;\n",
    "\n",
    "#!import Models/Models.cs\n",
    "#!import Utils/TextChunker.cs\n",
    "#!import Templates/Templates.cs\n",
    "\n",
    "const int ChunkSize = 1000;\n",
    "const int MaxTokens = 1500;\n",
    "const double Temperature = 0.3;"
   ]
  },
  {
   "cell_type": "markdown",
   "metadata": {},
   "source": [
    "### Read the API Key and endpoints from environment variables or the .env file"
   ]
  },
  {
   "cell_type": "code",
   "execution_count": 2,
   "metadata": {
    "dotnet_interactive": {
     "language": "csharp"
    },
    "polyglot_notebook": {
     "kernelName": "csharp"
    }
   },
   "outputs": [
    {
     "data": {
      "text/plain": [
       "Endpoint: https://alemorfr.openai.azure.com/gpt with key 32c87..."
      ]
     },
     "metadata": {},
     "output_type": "display_data"
    }
   ],
   "source": [
    "DotEnv.Load();\n",
    "var deploymentName = Environment.GetEnvironmentVariable(\"GPT_OPENAI_DEPLOYMENT_NAME\");\n",
    "var endpoint = Environment.GetEnvironmentVariable(\"GPT_OPENAI_ENDPOINT\");\n",
    "var apiKey = Environment.GetEnvironmentVariable(\"GPT_OPENAI_KEY\");\n",
    "var adaDeploymentName = \"ada\";\n",
    "var checkKeyAndEndpoint = $\"Endpoint: {endpoint}{deploymentName} with key {apiKey.Substring(0, 5)}...\";\n",
    "checkKeyAndEndpoint"
   ]
  },
  {
   "cell_type": "markdown",
   "metadata": {},
   "source": [
    "### Get a Semantic Kernel instance configured for Chat completions"
   ]
  },
  {
   "cell_type": "code",
   "execution_count": 3,
   "metadata": {
    "dotnet_interactive": {
     "language": "csharp"
    },
    "polyglot_notebook": {
     "kernelName": "csharp"
    }
   },
   "outputs": [],
   "source": [
    "var kernel = Kernel.CreateBuilder()\n",
    "    .AddAzureOpenAIChatCompletion(deploymentName, endpoint, apiKey)\n",
    "    .Build();"
   ]
  },
  {
   "cell_type": "markdown",
   "metadata": {},
   "source": [
    "## Ingestion\n",
    "\n",
    "### Read transcript from a file"
   ]
  },
  {
   "cell_type": "code",
   "execution_count": 4,
   "metadata": {
    "dotnet_interactive": {
     "language": "csharp"
    },
    "polyglot_notebook": {
     "kernelName": "csharp"
    }
   },
   "outputs": [
    {
     "data": {
      "text/plain": [
       "[Teams Call Transcript]\n",
       "\n",
       "Participants:\n",
       "1. John - Azure Architect\n",
       "2. Sarah - DevOps Engineer\n",
       "3. Mark - Software Developer\n",
       "\n",
       "[Call Start]\n",
       "\n",
       "John: Good morning, everyone. Thank you for joining this call. Today, we'll discuss running Docker applications on Azure Virtual Machines. Sarah, could you provide an overview of the current setup?\n",
       "\n",
       "Sarah: Sure, John. Currently, we have a few Azure Virtual Machines (VMs) provisioned, and we want to leverage Docker to run our applications on these VMs. We have already installed Docker on the VMs, but we need to ensure that our applications are running smoothly and efficiently.\n",
       "\n",
       "Mark: Right, Sarah. I have been working on containerizing our applications using Docker Compose. I believe this will make it easier to manage our services and scale them when needed.\n",
       "\n",
       "John: Excellent, Mark. Docker Compose is a great choice for managing multi-container applications. Now, let's discuss how we can optimize the deployment of these Dockerized applications on Azure VMs. One option is to use Azure Container Instances (ACI) directly. However, since we have VMs already provisioned, it would be more cost-effective to use them.\n",
       "\n",
       "Sarah: Agreed, John. So, what steps do we need to take to ensure the VMs are properly configured for Docker?\n",
       "\n",
       "John: Firstly, we need to make sure that the VMs have the necessary Docker runtime installed. You mentioned that Docker is already installed, but let's ensure we have the latest version. We can do this by running the command \"docker --version\" on each VM.\n",
       "\n",
       "Mark: I'll take care of that. I'll log in to each VM and check the Docker version. If needed, I'll update it to the latest stable release.\n",
       "\n",
       "John: Great, Mark. In addition to the Docker runtime, we should also check the VM's resources. We need to ensure that each VM has enough CPU, memory, and storage to handle the expected workload of the Dockerized applications.\n",
       "\n",
       "Sarah: Understood. We can check the VM sizes and adjust them accordingly. If we anticipate high traffic or resource-intensive applications, we may need to upscale the VMs.\n",
       "\n",
       "John: Exactly, Sarah. It's important to monitor the performance of the VMs once we deploy the Docker applications. We can use Azure Monitor to collect and analyze metrics like CPU usage, memory utilization, and disk I/O.\n",
       "\n",
       "Mark: That sounds good. I'll make a note to set up Azure Monitor for our VMs. We can set up alerts based on specific thresholds to get notified if any resource is running low.\n",
       "\n",
       "John: Excellent, Mark. Additionally, we should consider deploying our Dockerized applications behind a load balancer to distribute the traffic evenly among the VMs. Azure Load Balancer or Azure Application Gateway can serve this purpose.\n",
       "\n",
       "Sarah: Right, a load balancer will ensure high availability and scalability. We can configure it to distribute traffic based on various algorithms, such as round-robin or least connections.\n",
       "\n",
       "John: Absolutely. Lastly, let's discuss security. We should ensure that the VMs running Docker applications are properly secured. We can leverage Azure Security Center to monitor and detect any vulnerabilities or suspicious activities.\n",
       "\n",
       "Mark: Security is crucial. I'll make sure we enable Azure Security Center and configure it to provide recommendations and alerts for our VMs.\n",
       "\n",
       "John: That's great, Mark. Okay, I think we have a good plan in place. Mark, please update the Docker runtime on the VMs, Sarah, adjust the VM sizes if necessary, and Mark, take care of setting up Azure Monitor, load balancer, and Azure Security Center. Let's reconvene next week to discuss any challenges or progress we've made.\n",
       "\n",
       "Sarah: Sounds like a plan, John.\n",
       "\n",
       "[Call Continues]\n",
       "\n",
       "John: Perfect. I appreciate your commitment, Sarah and Mark. If you come across any issues or need assistance during the implementation process, don't hesitate to reach out to me or the team for support.\n",
       "\n",
       "Mark: Sure, John. I'll keep you updated on the progress and let you know if any hurdles arise. By the way, should we consider using any specific logging or monitoring tools for our Docker containers?\n",
       "\n",
       "John: That's a great point, Mark. To effectively monitor our Docker containers, we can utilize Azure Monitor for Containers. It provides insights into container performance, health, and logs. It integrates seamlessly with Azure Monitor, allowing us to have a comprehensive view of our application stack.\n",
       "\n",
       "Sarah: That sounds valuable, John. I'll add setting up Azure Monitor for Containers to my task list. With that, we'll have full visibility into both the VMs and the containers running on them.\n",
       "\n",
       "John: Excellent, Sarah. That will certainly help us identify and troubleshoot any performance bottlenecks or issues. Additionally, let's make sure we have proper backup mechanisms in place for our Dockerized applications. We can utilize Azure Backup to schedule regular backups of the VMs or consider using Azure Managed Disks with point-in-time snapshots.\n",
       "\n",
       "Mark: Understood, John. Backups are crucial for maintaining data integrity and recoverability. I'll make sure we have a reliable backup strategy implemented.\n",
       "\n",
       "John: Great, Mark. Lastly, let's touch upon scalability. As our application demands grow, we might need to scale out our Dockerized services dynamically. Azure Kubernetes Service (AKS) can be a viable solution for managing containerized workloads and auto-scaling them based on demand.\n",
       "\n",
       "Sarah: That's a good point, John. Although we're currently using VMs, it's beneficial to keep AKS in mind for future scalability requirements. We can consider migrating to AKS if the need arises.\n",
       "\n",
       "John: Absolutely, Sarah. AKS provides built-in capabilities for load balancing, scaling, and managing containerized applications with ease. It's a great option to explore down the road.\n",
       "\n",
       "Mark: Noted, John. I'll keep AKS in mind for future scalability considerations. Once we have everything set up and running smoothly, we can evaluate if AKS is the right fit for our long-term needs.\n",
       "\n",
       "John: That sounds like a plan, Mark. I'm confident that with our collective efforts, we'll successfully run Docker applications on Azure VMs and ensure they are reliable, performant, and secure.\n",
       "\n",
       "Sarah: Agreed, John. We have a solid plan in place, and I'm looking forward to implementing it. I'll coordinate with Mark to ensure a smooth execution.\n",
       "\n",
       "John: Wonderful, Sarah. Thank you for your dedication and collaboration. If there are no further questions or concerns, let's conclude the call and reconvene next week for our progress update.\n",
       "\n",
       "Mark: Sounds good, John. Thanks for guiding us through this discussion. I'll get started on the tasks assigned to me right away.\n",
       "\n",
       "John: Perfect. Thank you all for your time and contributions. Have a productive week ahead, and feel free to reach out if you need any assistance. Take care, everyone.\n",
       "\n",
       "[Call Ends]\n"
      ]
     },
     "metadata": {},
     "output_type": "display_data"
    }
   ],
   "source": [
    "var text = File.ReadAllText(\"data/transcript.txt\");\n",
    "text"
   ]
  },
  {
   "cell_type": "markdown",
   "metadata": {},
   "source": [
    "## Chunk the text"
   ]
  },
  {
   "cell_type": "code",
   "execution_count": 5,
   "metadata": {
    "dotnet_interactive": {
     "language": "csharp"
    },
    "polyglot_notebook": {
     "kernelName": "csharp"
    }
   },
   "outputs": [
    {
     "name": "stdout",
     "output_type": "stream",
     "text": [
      "Chunking text into chunks of max size: 1000\n",
      "Chunked text into 2 chunk(s)\n"
     ]
    },
    {
     "data": {
      "text/html": [
       "<table><thead><tr><th><i>index</i></th><th>value</th></tr></thead><tbody><tr><td>0</td><td><details class=\"dni-treeview\"><summary><span class=\"dni-code-hint\"><code>Submission#3+ChunkInfo</code></span></summary><div><table><thead><tr></tr></thead><tbody><tr><td>Index</td><td><div class=\"dni-plaintext\"><pre>0</pre></div></td></tr><tr><td>Content</td><td><div class=\"dni-plaintext\"><pre>[Teams Call Transcript]\n",
       "\n",
       "Participants:\n",
       "1. John - Azure Architect\n",
       "2. Sarah - DevOps Engineer\n",
       "3. Mark - Software Developer\n",
       "\n",
       "[Call Start]\n",
       "\n",
       "John: Good morning, everyone. Thank you for joining this call. Today, we&#39;ll discuss running Docker applications on Azure Virtual Machines. Sarah, could you provide an overview of the current setup?\n",
       "\n",
       "Sarah: Sure, John. Currently, we have a few Azure Virtual Machines (VMs) provisioned, and we want to leverage Docker to run our applications on these VMs. We have already installed Docker on the VMs, but we need to ensure that our applications are running smoothly and efficiently.\n",
       "\n",
       "Mark: Right, Sarah. I have been working on containerizing our applications using Docker Compose. I believe this will make it easier to manage our services and scale them when needed.\n",
       "\n",
       "John: Excellent, Mark. Docker Compose is a great choice for managing multi-container applications. Now, let&#39;s discuss how we can optimize the deployment of these Dockerized applications on Azure VMs. One option is to use Azure Container Instances (ACI) directly. However, since we have VMs already provisioned, it would be more cost-effective to use them.\n",
       "\n",
       "Sarah: Agreed, John. So, what steps do we need to take to ensure the VMs are properly configured for Docker?\n",
       "\n",
       "John: Firstly, we need to make sure that the VMs have the necessary Docker runtime installed. You mentioned that Docker is already installed, but let&#39;s ensure we have the latest version. We can do this by running the command &quot;docker --version&quot; on each VM.\n",
       "\n",
       "Mark: I&#39;ll take care of that. I&#39;ll log in to each VM and check the Docker version. If needed, I&#39;ll update it to the latest stable release.\n",
       "\n",
       "John: Great, Mark. In addition to the Docker runtime, we should also check the VM&#39;s resources. We need to ensure that each VM has enough CPU, memory, and storage to handle the expected workload of the Dockerized applications.\n",
       "\n",
       "Sarah: Understood. We can check the VM sizes and adjust them accordingly. If we anticipate high traffic or resource-intensive applications, we may need to upscale the VMs.\n",
       "\n",
       "John: Exactly, Sarah. It&#39;s important to monitor the performance of the VMs once we deploy the Docker applications. We can use Azure Monitor to collect and analyze metrics like CPU usage, memory utilization, and disk I/O.\n",
       "\n",
       "Mark: That sounds good. I&#39;ll make a note to set up Azure Monitor for our VMs. We can set up alerts based on specific thresholds to get notified if any resource is running low.\n",
       "\n",
       "John: Excellent, Mark. Additionally, we should consider deploying our Dockerized applications behind a load balancer to distribute the traffic evenly among the VMs. Azure Load Balancer or Azure Application Gateway can serve this purpose.\n",
       "\n",
       "Sarah: Right, a load balancer will ensure high availability and scalability. We can configure it to distribute traffic based on various algorithms, such as round-robin or least connections.\n",
       "\n",
       "John: Absolutely. Lastly, let&#39;s discuss security. We should ensure that the VMs running Docker applications are properly secured. We can leverage Azure Security Center to monitor and detect any vulnerabilities or suspicious activities.\n",
       "\n",
       "Mark: Security is crucial. I&#39;ll make sure we enable Azure Security Center and configure it to provide recommendations and alerts for our VMs.\n",
       "\n",
       "John: That&#39;s great, Mark. Okay, I think we have a good plan in place. Mark, please update the Docker runtime on the VMs, Sarah, adjust the VM sizes if necessary, and Mark, take care of setting up Azure Monitor, load balancer, and Azure Security Center. Let&#39;s reconvene next week to discuss any challenges or progress we&#39;ve made.\n",
       "\n",
       "Sarah: Sounds like a plan, John.\n",
       "\n",
       "[Call Continues]\n",
       "\n",
       "John: Perfect. I appreciate your commitment, Sarah and Mark. If you come across any issues or need assistance during the implementation process, don&#39;t hesitate to reach out to me or the team for support.\n",
       "\n",
       "Mark: Sure, John. I&#39;ll keep you updated on the progress and let you know if any hurdles arise. By the way, should we consider using any specific logging or monitoring tools for our Docker containers?\n",
       "\n",
       "John: That&#39;s a great point, Mark. To effectively monitor our Docker containers, we can utilize Azure Monitor for Containers. It provides insights into container performance, health, and logs. It integrates seamlessly with Azure Monitor, allowing us to have a comprehensive view of our application stack.\n",
       "\n",
       "Sarah: That sounds valuable, John. I&#39;ll add setting up Azure Monitor for Containers to my task list. With that, we&#39;ll have full visibility into both the VMs and the containers running on them.\n",
       "\n",
       "John: Excellent, Sarah. That will certainly help us identify and troubleshoot any performance bottlenecks or issues. Additionally, let&#39;s make sure we have proper backup mechanisms in place for our Dockerized applications. We can utilize Azure Backup to schedule regular backups of the VMs or consider using Azure Managed Disks with point-in-time snapshots.\n",
       "\n",
       "Mark: Understood, John. Backups are crucial for maintaining data integrity and recoverability. I&#39;ll make sure we have a reliable backup strategy implemented.\n",
       "\n",
       "John: Great, Mark. Lastly, let&#39;s touch upon scalability. As our application demands grow, we might need to scale out our Dockerized services dynamically. Azure Kubernetes Service (AKS) can be a viable solution for managing containerized workloads and auto-scaling them based on demand.\n",
       "\n",
       "Sarah: That&#39;s a good point, John. Although we&#39;re currently using VMs, it&#39;s beneficial to keep AKS in mind for future scalability requirements. We can consider migrating to AKS if the need arises.\n",
       "\n",
       "John: Absolutely, Sarah. AKS provides built-in capabilities for load balancing, scaling, and managing containerized applications with ease. It&#39;s a great option to explore down the road.\n",
       "\n",
       "Mark: Noted, John. I&#39;ll keep AKS in mind for future scalability considerations. Once we have everything set up and running smoothly, we can evaluate if AKS is the right fit for our long-term needs.\n",
       "\n",
       "John: That sounds like a plan, Mark. I&#39;m confident that with our collective efforts, we&#39;ll successfully run Docker applications on Azure VMs and ensure they are reliable, performant, and secure.\n",
       "\n",
       "Sarah: Agreed, John. We have a solid plan in place, and I&#39;m looking forward to implementing it. I&#39;ll coordinate with Mark to ensure a smooth execution.\n",
       "\n",
       "John: Wonderful, Sarah. Thank you for your dedication and collaboration. If there are no further questions or concerns, let&#39;s conclude the call and reconvene next week for our progress update.\n",
       "\n",
       "Mark: Sounds good, John. Thanks for guiding us through this discussion. I&#39;ll get started on the tasks assigned to me right away.\n",
       "\n",
       "</pre></div></td></tr><tr><td>Summary</td><td><div class=\"dni-plaintext\"><pre>&lt;null&gt;</pre></div></td></tr><tr><td>Words</td><td><div class=\"dni-plaintext\"><pre>1017</pre></div></td></tr><tr><td>Characters</td><td><div class=\"dni-plaintext\"><pre>6622</pre></div></td></tr><tr><td>Tokens</td><td><div class=\"dni-plaintext\"><pre>0</pre></div></td></tr></tbody></table></div></details></td></tr><tr><td>1</td><td><details class=\"dni-treeview\"><summary><span class=\"dni-code-hint\"><code>Submission#3+ChunkInfo</code></span></summary><div><table><thead><tr></tr></thead><tbody><tr><td>Index</td><td><div class=\"dni-plaintext\"><pre>1</pre></div></td></tr><tr><td>Content</td><td><div class=\"dni-plaintext\"><pre>John: Perfect. Thank you all for your time and contributions. Have a productive week ahead, and feel free to reach out if you need any assistance. Take care, everyone.\n",
       "\n",
       "[Call Ends]\n",
       "\n",
       "</pre></div></td></tr><tr><td>Summary</td><td><div class=\"dni-plaintext\"><pre>&lt;null&gt;</pre></div></td></tr><tr><td>Words</td><td><div class=\"dni-plaintext\"><pre>30</pre></div></td></tr><tr><td>Characters</td><td><div class=\"dni-plaintext\"><pre>182</pre></div></td></tr><tr><td>Tokens</td><td><div class=\"dni-plaintext\"><pre>0</pre></div></td></tr></tbody></table></div></details></td></tr></tbody></table><style>\r\n",
       ".dni-code-hint {\r\n",
       "    font-style: italic;\r\n",
       "    overflow: hidden;\r\n",
       "    white-space: nowrap;\r\n",
       "}\r\n",
       ".dni-treeview {\r\n",
       "    white-space: nowrap;\r\n",
       "}\r\n",
       ".dni-treeview td {\r\n",
       "    vertical-align: top;\r\n",
       "    text-align: start;\r\n",
       "}\r\n",
       "details.dni-treeview {\r\n",
       "    padding-left: 1em;\r\n",
       "}\r\n",
       "table td {\r\n",
       "    text-align: start;\r\n",
       "}\r\n",
       "table tr { \r\n",
       "    vertical-align: top; \r\n",
       "    margin: 0em 0px;\r\n",
       "}\r\n",
       "table tr td pre \r\n",
       "{ \r\n",
       "    vertical-align: top !important; \r\n",
       "    margin: 0em 0px !important;\r\n",
       "} \r\n",
       "table th {\r\n",
       "    text-align: start;\r\n",
       "}\r\n",
       "</style>"
      ]
     },
     "metadata": {},
     "output_type": "display_data"
    }
   ],
   "source": [
    "var chunks = TextChunker.ChunkText(text, ChunkSize);\n",
    "chunks"
   ]
  },
  {
   "cell_type": "markdown",
   "metadata": {},
   "source": [
    "## Process the chunk summaries"
   ]
  },
  {
   "cell_type": "code",
   "execution_count": 6,
   "metadata": {
    "dotnet_interactive": {
     "language": "csharp"
    },
    "polyglot_notebook": {
     "kernelName": "csharp"
    }
   },
   "outputs": [
    {
     "data": {
      "text/html": [
       "<table><thead><tr><th><i>index</i></th><th>value</th></tr></thead><tbody><tr><td>0</td><td><details class=\"dni-treeview\"><summary><span class=\"dni-code-hint\"><code>Submission#3+ChunkInfo</code></span></summary><div><table><thead><tr></tr></thead><tbody><tr><td>Index</td><td><div class=\"dni-plaintext\"><pre>0</pre></div></td></tr><tr><td>Content</td><td><div class=\"dni-plaintext\"><pre>[Teams Call Transcript]\n",
       "\n",
       "Participants:\n",
       "1. John - Azure Architect\n",
       "2. Sarah - DevOps Engineer\n",
       "3. Mark - Software Developer\n",
       "\n",
       "[Call Start]\n",
       "\n",
       "John: Good morning, everyone. Thank you for joining this call. Today, we&#39;ll discuss running Docker applications on Azure Virtual Machines. Sarah, could you provide an overview of the current setup?\n",
       "\n",
       "Sarah: Sure, John. Currently, we have a few Azure Virtual Machines (VMs) provisioned, and we want to leverage Docker to run our applications on these VMs. We have already installed Docker on the VMs, but we need to ensure that our applications are running smoothly and efficiently.\n",
       "\n",
       "Mark: Right, Sarah. I have been working on containerizing our applications using Docker Compose. I believe this will make it easier to manage our services and scale them when needed.\n",
       "\n",
       "John: Excellent, Mark. Docker Compose is a great choice for managing multi-container applications. Now, let&#39;s discuss how we can optimize the deployment of these Dockerized applications on Azure VMs. One option is to use Azure Container Instances (ACI) directly. However, since we have VMs already provisioned, it would be more cost-effective to use them.\n",
       "\n",
       "Sarah: Agreed, John. So, what steps do we need to take to ensure the VMs are properly configured for Docker?\n",
       "\n",
       "John: Firstly, we need to make sure that the VMs have the necessary Docker runtime installed. You mentioned that Docker is already installed, but let&#39;s ensure we have the latest version. We can do this by running the command &quot;docker --version&quot; on each VM.\n",
       "\n",
       "Mark: I&#39;ll take care of that. I&#39;ll log in to each VM and check the Docker version. If needed, I&#39;ll update it to the latest stable release.\n",
       "\n",
       "John: Great, Mark. In addition to the Docker runtime, we should also check the VM&#39;s resources. We need to ensure that each VM has enough CPU, memory, and storage to handle the expected workload of the Dockerized applications.\n",
       "\n",
       "Sarah: Understood. We can check the VM sizes and adjust them accordingly. If we anticipate high traffic or resource-intensive applications, we may need to upscale the VMs.\n",
       "\n",
       "John: Exactly, Sarah. It&#39;s important to monitor the performance of the VMs once we deploy the Docker applications. We can use Azure Monitor to collect and analyze metrics like CPU usage, memory utilization, and disk I/O.\n",
       "\n",
       "Mark: That sounds good. I&#39;ll make a note to set up Azure Monitor for our VMs. We can set up alerts based on specific thresholds to get notified if any resource is running low.\n",
       "\n",
       "John: Excellent, Mark. Additionally, we should consider deploying our Dockerized applications behind a load balancer to distribute the traffic evenly among the VMs. Azure Load Balancer or Azure Application Gateway can serve this purpose.\n",
       "\n",
       "Sarah: Right, a load balancer will ensure high availability and scalability. We can configure it to distribute traffic based on various algorithms, such as round-robin or least connections.\n",
       "\n",
       "John: Absolutely. Lastly, let&#39;s discuss security. We should ensure that the VMs running Docker applications are properly secured. We can leverage Azure Security Center to monitor and detect any vulnerabilities or suspicious activities.\n",
       "\n",
       "Mark: Security is crucial. I&#39;ll make sure we enable Azure Security Center and configure it to provide recommendations and alerts for our VMs.\n",
       "\n",
       "John: That&#39;s great, Mark. Okay, I think we have a good plan in place. Mark, please update the Docker runtime on the VMs, Sarah, adjust the VM sizes if necessary, and Mark, take care of setting up Azure Monitor, load balancer, and Azure Security Center. Let&#39;s reconvene next week to discuss any challenges or progress we&#39;ve made.\n",
       "\n",
       "Sarah: Sounds like a plan, John.\n",
       "\n",
       "[Call Continues]\n",
       "\n",
       "John: Perfect. I appreciate your commitment, Sarah and Mark. If you come across any issues or need assistance during the implementation process, don&#39;t hesitate to reach out to me or the team for support.\n",
       "\n",
       "Mark: Sure, John. I&#39;ll keep you updated on the progress and let you know if any hurdles arise. By the way, should we consider using any specific logging or monitoring tools for our Docker containers?\n",
       "\n",
       "John: That&#39;s a great point, Mark. To effectively monitor our Docker containers, we can utilize Azure Monitor for Containers. It provides insights into container performance, health, and logs. It integrates seamlessly with Azure Monitor, allowing us to have a comprehensive view of our application stack.\n",
       "\n",
       "Sarah: That sounds valuable, John. I&#39;ll add setting up Azure Monitor for Containers to my task list. With that, we&#39;ll have full visibility into both the VMs and the containers running on them.\n",
       "\n",
       "John: Excellent, Sarah. That will certainly help us identify and troubleshoot any performance bottlenecks or issues. Additionally, let&#39;s make sure we have proper backup mechanisms in place for our Dockerized applications. We can utilize Azure Backup to schedule regular backups of the VMs or consider using Azure Managed Disks with point-in-time snapshots.\n",
       "\n",
       "Mark: Understood, John. Backups are crucial for maintaining data integrity and recoverability. I&#39;ll make sure we have a reliable backup strategy implemented.\n",
       "\n",
       "John: Great, Mark. Lastly, let&#39;s touch upon scalability. As our application demands grow, we might need to scale out our Dockerized services dynamically. Azure Kubernetes Service (AKS) can be a viable solution for managing containerized workloads and auto-scaling them based on demand.\n",
       "\n",
       "Sarah: That&#39;s a good point, John. Although we&#39;re currently using VMs, it&#39;s beneficial to keep AKS in mind for future scalability requirements. We can consider migrating to AKS if the need arises.\n",
       "\n",
       "John: Absolutely, Sarah. AKS provides built-in capabilities for load balancing, scaling, and managing containerized applications with ease. It&#39;s a great option to explore down the road.\n",
       "\n",
       "Mark: Noted, John. I&#39;ll keep AKS in mind for future scalability considerations. Once we have everything set up and running smoothly, we can evaluate if AKS is the right fit for our long-term needs.\n",
       "\n",
       "John: That sounds like a plan, Mark. I&#39;m confident that with our collective efforts, we&#39;ll successfully run Docker applications on Azure VMs and ensure they are reliable, performant, and secure.\n",
       "\n",
       "Sarah: Agreed, John. We have a solid plan in place, and I&#39;m looking forward to implementing it. I&#39;ll coordinate with Mark to ensure a smooth execution.\n",
       "\n",
       "John: Wonderful, Sarah. Thank you for your dedication and collaboration. If there are no further questions or concerns, let&#39;s conclude the call and reconvene next week for our progress update.\n",
       "\n",
       "Mark: Sounds good, John. Thanks for guiding us through this discussion. I&#39;ll get started on the tasks assigned to me right away.\n",
       "\n",
       "</pre></div></td></tr><tr><td>Summary</td><td><div class=\"dni-plaintext\"><pre>Summary:\n",
       "The discussion was focused on running Docker applications on Azure Virtual Machines, and the team discussed the necessary steps for optimizing the deployment of these Dockerized applications. The team discussed the necessary configurations of the VMs for Docker and monitoring performance, load balancing, Azure Security Center, and backup mechanisms. AKS was also explored for future scalability considerations.\n",
       "\n",
       "Azure services:\n",
       "- Azure Virtual Machines\n",
       "- Azure Container Instances (ACI)\n",
       "- Azure Monitor\n",
       "- Azure Load Balancer or Azure Application Gateway\n",
       "- Azure Security Center\n",
       "- Azure Backup\n",
       "- Azure Kubernetes Service (AKS)\n",
       "\n",
       "Other technologies:\n",
       "- Docker Compose\n",
       "\n",
       "Action items:\n",
       "1. Mark to update the Docker runtime on the VMs\n",
       "2. Sarah to adjust the VM sizes if necessary\n",
       "3. Mark to set up Azure Monitor, load balancer, and Azure Security Center\n",
       "4. Sarah to set up Azure Monitor for Containers\n",
       "5. Mark to implement a reliable backup strategy\n",
       "6. Keep AKS in mind for future scalability considerations.</pre></div></td></tr><tr><td>Words</td><td><div class=\"dni-plaintext\"><pre>1017</pre></div></td></tr><tr><td>Characters</td><td><div class=\"dni-plaintext\"><pre>6622</pre></div></td></tr><tr><td>Tokens</td><td><div class=\"dni-plaintext\"><pre>0</pre></div></td></tr></tbody></table></div></details></td></tr><tr><td>1</td><td><details class=\"dni-treeview\"><summary><span class=\"dni-code-hint\"><code>Submission#3+ChunkInfo</code></span></summary><div><table><thead><tr></tr></thead><tbody><tr><td>Index</td><td><div class=\"dni-plaintext\"><pre>1</pre></div></td></tr><tr><td>Content</td><td><div class=\"dni-plaintext\"><pre>John: Perfect. Thank you all for your time and contributions. Have a productive week ahead, and feel free to reach out if you need any assistance. Take care, everyone.\n",
       "\n",
       "[Call Ends]\n",
       "\n",
       "</pre></div></td></tr><tr><td>Summary</td><td><div class=\"dni-plaintext\"><pre>Summary:\n",
       "The transcript is a closing remark from John, ending a call where a group of people were discussing various topics. No specific discussion was highlighted in the transcript.\n",
       "\n",
       "Azure services:\n",
       "None discussed.\n",
       "\n",
       "Other technologies:\n",
       "None discussed.\n",
       "\n",
       "Action items:\n",
       "None mentioned.</pre></div></td></tr><tr><td>Words</td><td><div class=\"dni-plaintext\"><pre>30</pre></div></td></tr><tr><td>Characters</td><td><div class=\"dni-plaintext\"><pre>182</pre></div></td></tr><tr><td>Tokens</td><td><div class=\"dni-plaintext\"><pre>0</pre></div></td></tr></tbody></table></div></details></td></tr></tbody></table><style>\r\n",
       ".dni-code-hint {\r\n",
       "    font-style: italic;\r\n",
       "    overflow: hidden;\r\n",
       "    white-space: nowrap;\r\n",
       "}\r\n",
       ".dni-treeview {\r\n",
       "    white-space: nowrap;\r\n",
       "}\r\n",
       ".dni-treeview td {\r\n",
       "    vertical-align: top;\r\n",
       "    text-align: start;\r\n",
       "}\r\n",
       "details.dni-treeview {\r\n",
       "    padding-left: 1em;\r\n",
       "}\r\n",
       "table td {\r\n",
       "    text-align: start;\r\n",
       "}\r\n",
       "table tr { \r\n",
       "    vertical-align: top; \r\n",
       "    margin: 0em 0px;\r\n",
       "}\r\n",
       "table tr td pre \r\n",
       "{ \r\n",
       "    vertical-align: top !important; \r\n",
       "    margin: 0em 0px !important;\r\n",
       "} \r\n",
       "table th {\r\n",
       "    text-align: start;\r\n",
       "}\r\n",
       "</style>"
      ]
     },
     "metadata": {},
     "output_type": "display_data"
    }
   ],
   "source": [
    "foreach(var chunk in chunks)\n",
    "{\n",
    "    // REMINDER: Templates are in the Templates/Templates.cs file\n",
    "    var prompt = SummaryTemplate.Replace(\"{context}\", chunk.Content);\n",
    "    // Create a fixed SK function\n",
    "    var fixedFunction = kernel.CreateFunctionFromPrompt(prompt);\n",
    "    // Run the function\n",
    "    var result = await kernel.InvokeAsync(fixedFunction);\n",
    "    chunk.Summary = result.ToString();\n",
    "}\n",
    "chunks"
   ]
  },
  {
   "cell_type": "markdown",
   "metadata": {},
   "source": [
    "## Final summary"
   ]
  },
  {
   "cell_type": "code",
   "execution_count": 7,
   "metadata": {
    "dotnet_interactive": {
     "language": "csharp"
    },
    "polyglot_notebook": {
     "kernelName": "csharp"
    }
   },
   "outputs": [
    {
     "data": {
      "text/plain": [
       "Summary:\n",
       "The team discussed the necessary steps for optimizing the deployment of Dockerized applications on Azure Virtual Machines. They talked about the necessary configurations of the VMs for Docker, monitoring performance, load balancing, Azure Security Center, and backup mechanisms. AKS was also explored for future scalability considerations. In addition, they mentioned updating the Docker runtime, adjusting VM sizes, setting up Azure Monitor, load balancer, and Azure Security Center, implementing a reliable backup strategy, and keeping AKS in mind for future scalability considerations.\n",
       "\n",
       "Azure services:\n",
       "- Azure Virtual Machines\n",
       "- Azure Container Instances (ACI)\n",
       "- Azure Monitor\n",
       "- Azure Load Balancer or Azure Application Gateway\n",
       "- Azure Security Center\n",
       "- Azure Backup\n",
       "- Azure Kubernetes Service (AKS)\n",
       "\n",
       "Other technologies:\n",
       "- Docker Compose\n",
       "\n",
       "Action items:\n",
       "1. Mark to update the Docker runtime on the VMs\n",
       "2. Sarah to adjust the VM sizes if necessary\n",
       "3. Mark to set up Azure Monitor, load balancer, and Azure Security Center\n",
       "4. Sarah to set up Azure Monitor for Containers\n",
       "5. Mark to implement a reliable backup strategy\n",
       "6. Keep AKS in mind for future scalability considerations."
      ]
     },
     "metadata": {},
     "output_type": "display_data"
    }
   ],
   "source": [
    "var augmentedContext = new StringBuilder();\n",
    "\n",
    "foreach(var chunk in chunks)\n",
    "{\n",
    "    augmentedContext.Append(chunk.Summary+\"\\n\\n\");    \n",
    "}\n",
    "\n",
    "// REMINDER: Templates are in the Templates/Templates.cs file\n",
    "var funcTemplate = FinalSummaryTemplate.Replace(\"{context}\", augmentedContext.ToString());\n",
    "\n",
    "// Create a Prompt SK function from the template\n",
    "var fixedFunction = kernel.CreateFunctionFromPrompt(funcTemplate,new OpenAIPromptExecutionSettings() { MaxTokens = MaxTokens, Temperature = Temperature, TopP = 1 });\n",
    "\n",
    "// Run the function\n",
    "var result = await kernel.InvokeAsync(fixedFunction);\n",
    "result.ToString()"
   ]
  }
 ],
 "metadata": {
  "kernelspec": {
   "display_name": ".NET (C#)",
   "language": "C#",
   "name": ".net-csharp"
  },
  "language_info": {
   "name": "polyglot-notebook"
  },
  "polyglot_notebook": {
   "kernelInfo": {
    "defaultKernelName": "csharp",
    "items": [
     {
      "aliases": [],
      "languageName": "csharp",
      "name": "csharp"
     }
    ]
   }
  }
 },
 "nbformat": 4,
 "nbformat_minor": 2
}
