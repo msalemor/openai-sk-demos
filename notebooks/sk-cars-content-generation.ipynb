{
 "cells": [
  {
   "cell_type": "markdown",
   "metadata": {},
   "source": [
    "# English and Spanish used cars sales description using SK<br/>Text generation scenario\n",
    "\n",
    "Learning objectives:\n",
    "\n",
    "- What does SK provide for me?\n",
    "  - A configurable Kernel with pluggable architecture\n",
    "  - The models to work with the OpenAI endpoints\n",
    "  - A resilient HttpClient that can handle disconnections and throttlihg\n",
    "  - SK functions that can be pipe to achieve complex orchestrations such a text generation and transaltion\n",
    "  - Ability to handle prompts and completions"
   ]
  },
  {
   "cell_type": "markdown",
   "metadata": {},
   "source": [
    "## Load the required .NET packages and supporting classes"
   ]
  },
  {
   "cell_type": "code",
   "execution_count": 1,
   "metadata": {
    "dotnet_interactive": {
     "language": "csharp"
    },
    "polyglot_notebook": {
     "kernelName": "csharp"
    },
    "vscode": {
     "languageId": "polyglot-notebook"
    }
   },
   "outputs": [
    {
     "data": {
      "text/html": [
       "<div><div></div><div></div><div><strong>Installed Packages</strong><ul><li><span>dotenv.net, 3.1.2</span></li><li><span>Microsoft.SemanticKernel, 1.4.0</span></li><li><span>Microsoft.SemanticKernel.Core, 1.4.0</span></li></ul></div></div>"
      ]
     },
     "metadata": {},
     "output_type": "display_data"
    }
   ],
   "source": [
    "#r \"nuget: Microsoft.SemanticKernel, 1.4.0\"\n",
    "#r \"nuget: Microsoft.SemanticKernel.Core, 1.4.0\"\n",
    "\n",
    "#r \"nuget: dotenv.net, 3.1.2\"\n",
    "\n",
    "using System.Text.Json;\n",
    "using System.Text.Json.Serialization;\n",
    "using Microsoft.SemanticKernel;\n",
    "using Microsoft.SemanticKernel.Connectors.OpenAI;\n",
    "using dotenv.net;\n",
    "\n",
    "#!import Models/Models.cs\n",
    "\n",
    "// Json Options\n",
    "readonly JsonSerializerOptions s_jsonOptions = new() { WriteIndented = true };"
   ]
  },
  {
   "cell_type": "markdown",
   "metadata": {},
   "source": [
    "## Load the OpenAI endpoint and API key from environment variables or an .env file"
   ]
  },
  {
   "cell_type": "code",
   "execution_count": 2,
   "metadata": {
    "dotnet_interactive": {
     "language": "csharp"
    },
    "polyglot_notebook": {
     "kernelName": "csharp"
    },
    "vscode": {
     "languageId": "polyglot-notebook"
    }
   },
   "outputs": [
    {
     "name": "stdout",
     "output_type": "stream",
     "text": [
      "Using deployment: gpt at: https://alemorfr.openai.azure.com/ with key 32c87...\n"
     ]
    }
   ],
   "source": [
    "DotEnv.Load();\n",
    "var deploymentName = Environment.GetEnvironmentVariable(\"GPT_OPENAI_DEPLOYMENT_NAME\");\n",
    "var endpoint = Environment.GetEnvironmentVariable(\"GPT_OPENAI_ENDPOINT\");\n",
    "var apiKey = Environment.GetEnvironmentVariable(\"GPT_OPENAI_KEY\");\n",
    "Console.WriteLine($\"Using deployment: {deploymentName} at: {endpoint} with key {apiKey.Substring(0, 5)}...\");"
   ]
  },
  {
   "cell_type": "markdown",
   "metadata": {},
   "source": [
    "## Mock a database call to get a list of car"
   ]
  },
  {
   "cell_type": "code",
   "execution_count": 3,
   "metadata": {
    "dotnet_interactive": {
     "language": "csharp"
    },
    "polyglot_notebook": {
     "kernelName": "csharp"
    },
    "vscode": {
     "languageId": "polyglot-notebook"
    }
   },
   "outputs": [],
   "source": [
    "var mockCarData = new List<Car>{\n",
    "    new Car(\"123\",\"Ford\", \"Explorer\", 2015, \"Silver\", \"V6\", \"Platinum\", 10000, 16500),\n",
    "    new Car(\"456\",\"Ford\", \"Mustang\", 2018, \"Blue\", \"V8\", \"Sports\", 10000, 250000),\n",
    "    new Car(\"789\",\"Ford\", \"Escape\", 2020, \"Red\", \"V6\",\"Special\", 3000, 15000)\n",
    "  };\n",
    "  \n",
    "List<Car> MockDBCall() {  \n",
    "  return mockCarData;\n",
    "}"
   ]
  },
  {
   "cell_type": "markdown",
   "metadata": {},
   "source": [
    "## Function to get a short car description from the car properties"
   ]
  },
  {
   "cell_type": "code",
   "execution_count": 4,
   "metadata": {
    "dotnet_interactive": {
     "language": "csharp"
    },
    "polyglot_notebook": {
     "kernelName": "csharp"
    },
    "vscode": {
     "languageId": "polyglot-notebook"
    }
   },
   "outputs": [],
   "source": [
    "// Reminder: I created this function, to make more impact, but the car record has a ToString defition to return the same information\n",
    "string GetCarDescription(Car car) {\n",
    "  return $\"{car.Year} {car.Make} {car.Model} {car.Color} {car.Motor} {car.Package} with {car.milage} miles for ${car.price}\";\n",
    "}"
   ]
  },
  {
   "cell_type": "markdown",
   "metadata": {},
   "source": [
    "## Create an instance of a kernel\n",
    "\n",
    "- Here notice how elegantly the kernel is configured"
   ]
  },
  {
   "cell_type": "code",
   "execution_count": 5,
   "metadata": {
    "dotnet_interactive": {
     "language": "csharp"
    },
    "polyglot_notebook": {
     "kernelName": "csharp"
    },
    "vscode": {
     "languageId": "polyglot-notebook"
    }
   },
   "outputs": [],
   "source": [
    "var kernel = Kernel.CreateBuilder()\n",
    "    .AddAzureOpenAIChatCompletion(deploymentName, endpoint, apiKey)\n",
    "    .Build();"
   ]
  },
  {
   "cell_type": "markdown",
   "metadata": {},
   "source": [
    "## Create the sales definition and translation in-line functions and add them to the kernel"
   ]
  },
  {
   "cell_type": "code",
   "execution_count": 6,
   "metadata": {
    "dotnet_interactive": {
     "language": "csharp"
    },
    "polyglot_notebook": {
     "kernelName": "csharp"
    },
    "vscode": {
     "languageId": "polyglot-notebook"
    }
   },
   "outputs": [],
   "source": [
    "// Define a function to get a used car sales description\n",
    "const string fnSalesDefinition = @\"Get a used car sales description for the following: \n",
    "{{$input}}.\";\n",
    "\n",
    "var salesDescriptionFunc = kernel.CreateFunctionFromPrompt(fnSalesDefinition, \n",
    "    new OpenAIPromptExecutionSettings() { MaxTokens = 200, Temperature = 0.5, TopP = 1 });\n",
    "\n",
    "// Define a function to translate English to Spanish\n",
    "const string fnESTranslatorDefinition = @\"Translate the following English text to Spanish: \n",
    "{{$input}}.\";\n",
    "\n",
    "var esTranslatorFunc = kernel.CreateFunctionFromPrompt(fnESTranslatorDefinition, \n",
    "    new OpenAIPromptExecutionSettings() { MaxTokens = 200, Temperature = 0.5, TopP = 1 });"
   ]
  },
  {
   "cell_type": "markdown",
   "metadata": {},
   "source": [
    "## Using the kernel and sk functions, get a car sales description and translate it into Spanish"
   ]
  },
  {
   "cell_type": "code",
   "execution_count": 7,
   "metadata": {
    "dotnet_interactive": {
     "language": "csharp"
    },
    "polyglot_notebook": {
     "kernelName": "csharp"
    },
    "vscode": {
     "languageId": "polyglot-notebook"
    }
   },
   "outputs": [
    {
     "data": {
      "text/plain": [
       "2015 Ford Explorer Silver V6 Platinum with 10000 miles for $16500"
      ]
     },
     "metadata": {},
     "output_type": "display_data"
    }
   ],
   "source": [
    "// Mock making a call to a database to get a list of cars\n",
    "var cars = MockDBCall();\n",
    "var carDesc = GetCarDescription(cars[0]);\n",
    "cars[0].ToString()"
   ]
  },
  {
   "cell_type": "markdown",
   "metadata": {},
   "source": [
    "## Get a sales description and a translation for all the cars in the mock database"
   ]
  },
  {
   "cell_type": "code",
   "execution_count": 8,
   "metadata": {
    "dotnet_interactive": {
     "language": "csharp"
    },
    "polyglot_notebook": {
     "kernelName": "csharp"
    },
    "vscode": {
     "languageId": "polyglot-notebook"
    }
   },
   "outputs": [
    {
     "name": "stdout",
     "output_type": "stream",
     "text": [
      "Processing:\n",
      "2015 Ford Explorer Silver V6 Platinum with 10000 miles for $16500\n",
      "Sales Description:\n",
      "Looking for a reliable, spacious, and luxurious SUV? Look no further than this 2015 Ford Explorer Platinum! With only 10,000 miles on the odometer, this vehicle is practically brand new. The sleek silver exterior is sure to turn heads, and the powerful V6 engine provides a smooth and comfortable ride. \n",
      "\n",
      "Inside, you'll find a spacious and comfortable cabin with plenty of room for passengers and cargo. The Platinum trim level comes loaded with features, including leather seats, a premium sound system, a touchscreen infotainment system, and much more. \n",
      "\n",
      "Best of all, this 2015 Ford Explorer Platinum is priced to sell at just $16,500. That's a great value for a vehicle that's in such excellent condition and loaded with so many features. Don't miss your chance to own this amazing SUV!\n",
      "Translation:\n",
      "¿Buscas un SUV confiable, espacioso y lujoso? ¡No busques más que este Ford Explorer Platinum 2015! Con solo 10,000 millas en el odómetro, este vehículo es prácticamente nuevo. El elegante exterior plateado seguramente llamará la atención, y el potente motor V6 proporciona un viaje suave y cómodo.\n",
      "\n",
      "En el interior, encontrarás una cabina espaciosa y cómoda con mucho espacio para pasajeros y carga. El nivel de equipamiento Platinum viene cargado con características, que incluyen asientos de cuero, un sistema de sonido premium, un sistema de infoentretenimiento con pantalla táctil y mucho más.\n",
      "\n",
      "Lo mejor de todo es que este Ford Explorer Platinum 2015 está a la venta por solo $16,500. Ese es un gran valor para un vehículo que está en excelentes condiciones y está cargado\n",
      "\n",
      "Processing:\n",
      "2018 Ford Mustang Blue V8 Sports with 10000 miles for $250000\n",
      "Sales Description:\n",
      "Looking for a powerful and stylish sports car that will turn heads wherever you go? Check out this stunning 2018 Ford Mustang V8 Sports in a gorgeous blue color! With only 10,000 miles on the odometer, this car is practically brand new and ready to hit the road.\n",
      "\n",
      "Under the hood, you'll find a powerful V8 engine that delivers an exhilarating driving experience. Whether you're cruising down the highway or taking on tight corners, this car is built to perform. And with its sleek and aerodynamic design, you'll feel like you're driving a true sports car.\n",
      "\n",
      "Inside, you'll find a comfortable and stylish interior with all the latest features and technology. From the infotainment system to the premium sound system, this car has everything you need to stay connected and entertained on the road.\n",
      "\n",
      "So why wait? Come check out this amazing 2018 Ford Mustang V8 Sports today and experience the thrill of driving a true sports car. At only $250,000\n",
      "Translation:\n",
      "¿Buscas un automóvil deportivo potente y elegante que llame la atención dondequiera que vayas? ¡Echa un vistazo a este impresionante Ford Mustang V8 Sports 2018 en un hermoso color azul! Con solo 10,000 millas en el odómetro, este automóvil es prácticamente nuevo y está listo para salir a la carretera.\n",
      "\n",
      "Debajo del capó, encontrarás un potente motor V8 que ofrece una experiencia de conducción emocionante. Ya sea que estés cruzando la autopista o enfrentando curvas cerradas, este automóvil está construido para rendir. Y con su diseño elegante y aerodinámico, sentirás que estás conduciendo un verdadero automóvil deportivo.\n",
      "\n",
      "En el interior, encontrarás un interior cómodo y elegante con todas las últimas características y tecnología. Desde el\n",
      "\n",
      "Processing:\n",
      "2020 Ford Escape Red V6 Special with 3000 miles for $15000\n",
      "Sales Description:\n",
      "Looking for a powerful and stylish SUV that won't break the bank? Check out this 2020 Ford Escape Red V6 Special with only 3000 miles on the odometer! With its sleek and sporty design, this SUV is sure to turn heads on the road. And with a powerful V6 engine under the hood, you'll have all the power you need to tackle any terrain. Plus, at only $15000, this is an incredible value for a practically new vehicle. Don't miss out on this amazing opportunity to own a top-of-the-line SUV at an unbeatable price!\n",
      "Translation:\n",
      "¿Buscas un SUV potente y elegante que no te cueste un ojo de la cara? ¡Echa un vistazo a este Ford Escape Rojo V6 Especial del 2020 con solo 3000 millas en el odómetro! Con su diseño elegante y deportivo, este SUV seguramente llamará la atención en la carretera. Y con un potente motor V6 debajo del capó, tendrás toda la potencia que necesitas para enfrentar cualquier terreno. Además, por solo $15000, este es un valor increíble para un vehículo prácticamente nuevo. ¡No pierdas la oportunidad de tener un SUV de primera línea a un precio inmejorable!\n",
      "\n"
     ]
    },
    {
     "data": {
      "text/html": [
       "<table><thead><tr><th><i>index</i></th><th>value</th></tr></thead><tbody><tr><td>0</td><td><details class=\"dni-treeview\"><summary><span class=\"dni-code-hint\"><code>CarTranslation { VIN = 123, En = Looking for a reliable, spacious, and luxurious SUV? Look no further than this 2015 Ford Explorer Platinum! With only 10,000 miles on the odometer, this vehicle is practically brand new. The sleek silver exterior is sure to turn heads, and the powerful V6 engine prov...</code></span></summary><div><table><thead><tr></tr></thead><tbody><tr><td>VIN</td><td><div class=\"dni-plaintext\"><pre>123</pre></div></td></tr><tr><td>En</td><td><div class=\"dni-plaintext\"><pre>Looking for a reliable, spacious, and luxurious SUV? Look no further than this 2015 Ford Explorer Platinum! With only 10,000 miles on the odometer, this vehicle is practically brand new. The sleek silver exterior is sure to turn heads, and the powerful V6 engine provides a smooth and comfortable ride. \n",
       "\n",
       "Inside, you&#39;ll find a spacious and comfortable cabin with plenty of room for passengers and cargo. The Platinum trim level comes loaded with features, including leather seats, a premium sound system, a touchscreen infotainment system, and much more. \n",
       "\n",
       "Best of all, this 2015 Ford Explorer Platinum is priced to sell at just $16,500. That&#39;s a great value for a vehicle that&#39;s in such excellent condition and loaded with so many features. Don&#39;t miss your chance to own this amazing SUV!</pre></div></td></tr><tr><td>ES</td><td><div class=\"dni-plaintext\"><pre>&#191;Buscas un SUV confiable, espacioso y lujoso? &#161;No busques m&#225;s que este Ford Explorer Platinum 2015! Con solo 10,000 millas en el od&#243;metro, este veh&#237;culo es pr&#225;cticamente nuevo. El elegante exterior plateado seguramente llamar&#225; la atenci&#243;n, y el potente motor V6 proporciona un viaje suave y c&#243;modo.\n",
       "\n",
       "En el interior, encontrar&#225;s una cabina espaciosa y c&#243;moda con mucho espacio para pasajeros y carga. El nivel de equipamiento Platinum viene cargado con caracter&#237;sticas, que incluyen asientos de cuero, un sistema de sonido premium, un sistema de infoentretenimiento con pantalla t&#225;ctil y mucho m&#225;s.\n",
       "\n",
       "Lo mejor de todo es que este Ford Explorer Platinum 2015 est&#225; a la venta por solo $16,500. Ese es un gran valor para un veh&#237;culo que est&#225; en excelentes condiciones y est&#225; cargado</pre></div></td></tr></tbody></table></div></details></td></tr><tr><td>1</td><td><details class=\"dni-treeview\"><summary><span class=\"dni-code-hint\"><code>CarTranslation { VIN = 456, En = Looking for a powerful and stylish sports car that will turn heads wherever you go? Check out this stunning 2018 Ford Mustang V8 Sports in a gorgeous blue color! With only 10,000 miles on the odometer, this car is practically brand new and ready to hit the road.\\n\\nU...</code></span></summary><div><table><thead><tr></tr></thead><tbody><tr><td>VIN</td><td><div class=\"dni-plaintext\"><pre>456</pre></div></td></tr><tr><td>En</td><td><div class=\"dni-plaintext\"><pre>Looking for a powerful and stylish sports car that will turn heads wherever you go? Check out this stunning 2018 Ford Mustang V8 Sports in a gorgeous blue color! With only 10,000 miles on the odometer, this car is practically brand new and ready to hit the road.\n",
       "\n",
       "Under the hood, you&#39;ll find a powerful V8 engine that delivers an exhilarating driving experience. Whether you&#39;re cruising down the highway or taking on tight corners, this car is built to perform. And with its sleek and aerodynamic design, you&#39;ll feel like you&#39;re driving a true sports car.\n",
       "\n",
       "Inside, you&#39;ll find a comfortable and stylish interior with all the latest features and technology. From the infotainment system to the premium sound system, this car has everything you need to stay connected and entertained on the road.\n",
       "\n",
       "So why wait? Come check out this amazing 2018 Ford Mustang V8 Sports today and experience the thrill of driving a true sports car. At only $250,000</pre></div></td></tr><tr><td>ES</td><td><div class=\"dni-plaintext\"><pre>&#191;Buscas un autom&#243;vil deportivo potente y elegante que llame la atenci&#243;n dondequiera que vayas? &#161;Echa un vistazo a este impresionante Ford Mustang V8 Sports 2018 en un hermoso color azul! Con solo 10,000 millas en el od&#243;metro, este autom&#243;vil es pr&#225;cticamente nuevo y est&#225; listo para salir a la carretera.\n",
       "\n",
       "Debajo del cap&#243;, encontrar&#225;s un potente motor V8 que ofrece una experiencia de conducci&#243;n emocionante. Ya sea que est&#233;s cruzando la autopista o enfrentando curvas cerradas, este autom&#243;vil est&#225; construido para rendir. Y con su dise&#241;o elegante y aerodin&#225;mico, sentir&#225;s que est&#225;s conduciendo un verdadero autom&#243;vil deportivo.\n",
       "\n",
       "En el interior, encontrar&#225;s un interior c&#243;modo y elegante con todas las &#250;ltimas caracter&#237;sticas y tecnolog&#237;a. Desde el</pre></div></td></tr></tbody></table></div></details></td></tr><tr><td>2</td><td><details class=\"dni-treeview\"><summary><span class=\"dni-code-hint\"><code>CarTranslation { VIN = 789, En = Looking for a powerful and stylish SUV that won&#39;t break the bank? Check out this 2020 Ford Escape Red V6 Special with only 3000 miles on the odometer! With its sleek and sporty design, this SUV is sure to turn heads on the road. And with a powerful V6 engine under th...</code></span></summary><div><table><thead><tr></tr></thead><tbody><tr><td>VIN</td><td><div class=\"dni-plaintext\"><pre>789</pre></div></td></tr><tr><td>En</td><td><div class=\"dni-plaintext\"><pre>Looking for a powerful and stylish SUV that won&#39;t break the bank? Check out this 2020 Ford Escape Red V6 Special with only 3000 miles on the odometer! With its sleek and sporty design, this SUV is sure to turn heads on the road. And with a powerful V6 engine under the hood, you&#39;ll have all the power you need to tackle any terrain. Plus, at only $15000, this is an incredible value for a practically new vehicle. Don&#39;t miss out on this amazing opportunity to own a top-of-the-line SUV at an unbeatable price!</pre></div></td></tr><tr><td>ES</td><td><div class=\"dni-plaintext\"><pre>&#191;Buscas un SUV potente y elegante que no te cueste un ojo de la cara? &#161;Echa un vistazo a este Ford Escape Rojo V6 Especial del 2020 con solo 3000 millas en el od&#243;metro! Con su dise&#241;o elegante y deportivo, este SUV seguramente llamar&#225; la atenci&#243;n en la carretera. Y con un potente motor V6 debajo del cap&#243;, tendr&#225;s toda la potencia que necesitas para enfrentar cualquier terreno. Adem&#225;s, por solo $15000, este es un valor incre&#237;ble para un veh&#237;culo pr&#225;cticamente nuevo. &#161;No pierdas la oportunidad de tener un SUV de primera l&#237;nea a un precio inmejorable!</pre></div></td></tr></tbody></table></div></details></td></tr></tbody></table><style>\r\n",
       ".dni-code-hint {\r\n",
       "    font-style: italic;\r\n",
       "    overflow: hidden;\r\n",
       "    white-space: nowrap;\r\n",
       "}\r\n",
       ".dni-treeview {\r\n",
       "    white-space: nowrap;\r\n",
       "}\r\n",
       ".dni-treeview td {\r\n",
       "    vertical-align: top;\r\n",
       "    text-align: start;\r\n",
       "}\r\n",
       "details.dni-treeview {\r\n",
       "    padding-left: 1em;\r\n",
       "}\r\n",
       "table td {\r\n",
       "    text-align: start;\r\n",
       "}\r\n",
       "table tr { \r\n",
       "    vertical-align: top; \r\n",
       "    margin: 0em 0px;\r\n",
       "}\r\n",
       "table tr td pre \r\n",
       "{ \r\n",
       "    vertical-align: top !important; \r\n",
       "    margin: 0em 0px !important;\r\n",
       "} \r\n",
       "table th {\r\n",
       "    text-align: start;\r\n",
       "}\r\n",
       "</style>"
      ]
     },
     "metadata": {},
     "output_type": "display_data"
    }
   ],
   "source": [
    "// Keep a list of processed cars\n",
    "var processedCars = new List<CarTranslation>();\n",
    "\n",
    "foreach(var car in cars) {\n",
    "\n",
    "  // Get a short description given the car properties\n",
    "  var desc = GetCarDescription(car);\n",
    "  Console.WriteLine($\"Processing:\\n{desc}\");\n",
    "  \n",
    "  // Use the SK sales description function to get a sales for a car\n",
    "  var arguments = new KernelArguments()\n",
    "        {\n",
    "            [\"input\"] = desc\n",
    "        };\n",
    "  var result = await kernel.InvokeAsync(salesDescriptionFunc, arguments);\n",
    "  Console.WriteLine($\"Sales Description:\\n{result}\");\n",
    "\n",
    "  // Get the usage for the call\n",
    "  //Console.WriteLine(JsonSerializer.Serialize(result.FunctionResults.LastOrDefault()?.GetOpenAIChatResult()?.Usage, s_jsonOptions));  \n",
    "  \n",
    "  // Use the SK translation function to translate the sales description into Spanish\n",
    "  arguments.Clear();\n",
    "  arguments[\"input\"] = result.ToString();\n",
    "  var esTranslation = await kernel.InvokeAsync(esTranslatorFunc,arguments);\n",
    "  Console.WriteLine($\"Translation:\\n{esTranslation}\\n\");\n",
    "  \n",
    "  // Add processed the EN and ES sales description\n",
    "  processedCars.Add(new CarTranslation(car.VIN, result.ToString(), esTranslation.ToString()));\n",
    "}\n",
    "\n",
    "// Show the processed cars\n",
    "processedCars"
   ]
  }
 ],
 "metadata": {
  "language_info": {
   "name": "python"
  },
  "orig_nbformat": 4
 },
 "nbformat": 4,
 "nbformat_minor": 2
}
