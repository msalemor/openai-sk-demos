{
 "cells": [
  {
   "cell_type": "code",
   "execution_count": 1,
   "metadata": {},
   "outputs": [],
   "source": [
    "import semantic_kernel as sk\n",
    "from semantic_kernel.connectors.ai.open_ai import (\n",
    "    AzureChatCompletion,\n",
    "    AzureTextEmbedding,\n",
    ")\n",
    "\n",
    "#from psycopg import Cursor\n",
    "#from psycopg.sql import SQL, Identifier\n",
    "#from psycopg_pool import ConnectionPool\n",
    "from semantic_kernel.connectors.memory.postgres.postgres_memory_store import (\n",
    "    PostgresMemoryStore,\n",
    ")\n",
    "\n",
    "from dotenv import load_dotenv\n",
    "import os"
   ]
  },
  {
   "cell_type": "code",
   "execution_count": 2,
   "metadata": {},
   "outputs": [],
   "source": [
    "load_dotenv()\n",
    "endpoint = os.getenv(\"GPT_OPENAI_ENDPOINT\")\n",
    "api_key = os.getenv(\"GPT_OPENAI_KEY\")\n",
    "gpt_deployment_name = os.getenv(\"GPT_OPENAI_DEPLOYMENT_NAME\")\n",
    "conn_str = os.getenv(\"PG_CONN_STR_PY\")\n",
    "ada_deployment_name = \"ada\""
   ]
  },
  {
   "cell_type": "code",
   "execution_count": 3,
   "metadata": {},
   "outputs": [
    {
     "data": {
      "text/plain": [
       "KernelPlugin(name='text_memory', description=None, functions={'recall': KernelFunction(plugin_name='text_memory', description='Recall a fact from the long term memory', name='recall', is_semantic=False, stream_function=<bound method TextMemoryPlugin.recall of TextMemoryPlugin()>, parameters=[ParameterView(name='input', description='The information to retrieve', default_value='', type_='string', required=False), ParameterView(name='limit', description='The maximum number of relevant memories to recall.', default_value='1', type_='string', required=False), ParameterView(name='relevance', description='The relevance score, from 0.0 to 1.0; 1.0 means perfect match', default_value='0.75', type_='string', required=False), ParameterView(name='collection', description='The collection to search for information', default_value='generic', type_='string', required=False)], delegate_type=<DelegateTypes.InStringAndContextOutTaskString: 13>, function=<bound method TextMemoryPlugin.recall of TextMemoryPlugin()>, plugins=KernelPluginCollection(plugins={'text_memory': KernelPlugin(name='text_memory', description=None, functions={...})}), ai_service=None, prompt_execution_settings=PromptExecutionSettings(service_id=None, extension_data={}), chat_prompt_template=None), 'save': KernelFunction(plugin_name='text_memory', description='Save information to semantic memory', name='save', is_semantic=False, stream_function=<bound method TextMemoryPlugin.save of TextMemoryPlugin()>, parameters=[ParameterView(name='input', description='The information to save', default_value='', type_='string', required=False), ParameterView(name='key', description='The unique key to associate with the information', default_value='', type_='string', required=False), ParameterView(name='collection', description='The collection to save the information', default_value='generic', type_='string', required=False)], delegate_type=<DelegateTypes.InStringAndContextOutTask: 17>, function=<bound method TextMemoryPlugin.save of TextMemoryPlugin()>, plugins=KernelPluginCollection(plugins={'text_memory': KernelPlugin(name='text_memory', description=None, functions={...})}), ai_service=None, prompt_execution_settings=PromptExecutionSettings(service_id=None, extension_data={}), chat_prompt_template=None)})"
      ]
     },
     "execution_count": 3,
     "metadata": {},
     "output_type": "execute_result"
    }
   ],
   "source": [
    "kernel = sk.Kernel()\n",
    "azure_chat_service = AzureChatCompletion(deployment_name=gpt_deployment_name, endpoint=endpoint, api_key=api_key)\n",
    "azure_text_embedding = AzureTextEmbedding(deployment_name=ada_deployment_name, endpoint=endpoint, api_key=api_key)\n",
    "kernel.add_chat_service(\"chat_completion\", azure_chat_service)\n",
    "kernel.add_text_embedding_generation_service(\"ada\", azure_text_embedding)\n",
    "\n",
    "mem_store = PostgresMemoryStore(conn_str,1536,1,3)\n",
    "kernel.register_memory_store(memory_store=mem_store)\n",
    "kernel.import_plugin(sk.core_plugins.TextMemoryPlugin(), \"text_memory\")"
   ]
  },
  {
   "cell_type": "code",
   "execution_count": 4,
   "metadata": {},
   "outputs": [],
   "source": [
    "def read_file(file: str)->str:\n",
    "    with open(file, \"r\") as f:\n",
    "        return f.read()\n",
    "    \n",
    "def ingest_content(path:str):\n",
    "    import os\n",
    "    chunks = []\n",
    "    files = os.listdir(path)\n",
    "    for f in files:\n",
    "        if f.endswith(\"water.txt\"):            \n",
    "            content = read_file(\"data/\"+f)\n",
    "            paragraphs = content.split(\"\\n\\n\")\n",
    "            l = len(paragraphs)\n",
    "            id = 1\n",
    "            for p in paragraphs:\n",
    "                lid = f\"{f}-{l}-{id}\"\n",
    "                c = {\"id\":lid,\"chunk\":p,\"file\":f}\n",
    "                chunks.append(c)\n",
    "                id += 1\n",
    "    return chunks\n",
    "    #return {f: read_file(path + \"/\" + f) for f in files}\n",
    "\n",
    "chunks = ingest_content(\"data\")"
   ]
  },
  {
   "cell_type": "code",
   "execution_count": 5,
   "metadata": {},
   "outputs": [],
   "source": [
    "COLLECTION_NAME = \"PYCollection\"\n",
    "async def populate_memory(kernel: sk.Kernel, chunks: list) -> None:\n",
    "    for chunk in chunks:\n",
    "        await kernel.memory.save_information(collection=COLLECTION_NAME, id=chunk[\"id\"], text=chunk[\"chunk\"], description=chunk[\"file\"])"
   ]
  },
  {
   "cell_type": "code",
   "execution_count": 6,
   "metadata": {},
   "outputs": [],
   "source": [
    "await populate_memory(kernel, chunks)"
   ]
  },
  {
   "cell_type": "code",
   "execution_count": 11,
   "metadata": {},
   "outputs": [],
   "source": [
    "async def search_memory_examples(kernel: sk.Kernel) -> None:\n",
    "    questions = [\n",
    "        \"What is the chemical composition of water?\",\n",
    "    ]\n",
    "\n",
    "    for question in questions:\n",
    "        print(f\"Question: {question}\\n\")\n",
    "        result = await kernel.memory.search(COLLECTION_NAME, question,1,0.8)\n",
    "        print(f\"Answer: {result[0].text}\\n\")\n",
    "        print(f\"File: {result[0].description}\\n\")"
   ]
  },
  {
   "cell_type": "code",
   "execution_count": 10,
   "metadata": {},
   "outputs": [
    {
     "name": "stdout",
     "output_type": "stream",
     "text": [
      "Question: What is the chemical composition of water?\n",
      "Answer: Water is an inorganic compound with the chemical formula H2O. It is a transparent, tasteless, odorless,[c] and nearly colorless chemical substance, and it is the main constituent of Earth's hydrosphere and the fluids of all known living organisms (in which it acts as a solvent[19]). It is vital for all known forms of life, despite not providing food energy or organic micronutrients. Its chemical formula, H2O, indicates that each of its molecules contains one oxygen and two hydrogen atoms, connected by covalent bonds. The hydrogen atoms are attached to the oxygen atom at an angle of 104.45°.[20] \"Water\" is also the name of the liquid state of H2O at standard temperature and pressure.\n",
      "\n",
      "File: wikipedia-water.txt\n",
      "\n"
     ]
    }
   ],
   "source": [
    "await search_memory_examples(kernel)"
   ]
  }
 ],
 "metadata": {
  "kernelspec": {
   "display_name": "v31012",
   "language": "python",
   "name": "python3"
  },
  "language_info": {
   "codemirror_mode": {
    "name": "ipython",
    "version": 3
   },
   "file_extension": ".py",
   "mimetype": "text/x-python",
   "name": "python",
   "nbconvert_exporter": "python",
   "pygments_lexer": "ipython3",
   "version": "3.10.12"
  }
 },
 "nbformat": 4,
 "nbformat_minor": 2
}
