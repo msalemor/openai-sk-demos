{
 "cells": [
  {
   "cell_type": "markdown",
   "metadata": {},
   "source": [
    "# SK ChatBot\n",
    "\n",
    "Learning objectives:\n",
    "- Difference between LLM and GPT models\n",
    "- System vs user messages\n",
    "- Working keeping a conversation\n",
    "- Advantages of using SK:\n",
    "  - HttpClient handling and built-in retry logic\n",
    "  - Pre-defined models (Prompt & Completion)\n",
    "  - Process prompts as pipes\n",
    "  - Prompts and prompt templates (semantic functions)\n",
    "  - Process native functions as semantic functions\n",
    "\n",
    "\n",
    "## Load the required .NET packages and supporting classes"
   ]
  },
  {
   "cell_type": "code",
   "execution_count": null,
   "metadata": {
    "dotnet_interactive": {
     "language": "csharp"
    },
    "polyglot_notebook": {
     "kernelName": "csharp"
    },
    "vscode": {
     "languageId": "polyglot-notebook"
    }
   },
   "outputs": [],
   "source": [
    "#r \"nuget: Microsoft.SemanticKernel, 0.19.230804.2-preview\"\n",
    "#r \"nuget: dotenv.net\"\n",
    "\n",
    "using System.Net.Http;\n",
    "using System.Text.Json.Serialization;\n",
    "using Microsoft.SemanticKernel;\n",
    "using Microsoft.SemanticKernel.AI.ImageGeneration;\n",
    "using Microsoft.SemanticKernel.AI.ChatCompletion;\n",
    "using Microsoft.SemanticKernel.Connectors.AI.OpenAI.ChatCompletion;\n",
    "using dotenv.net;\n",
    "using InteractiveKernel = Microsoft.DotNet.Interactive.Kernel;\n",
    "\n",
    "#!import Models/Models.cs"
   ]
  },
  {
   "cell_type": "markdown",
   "metadata": {},
   "source": [
    "## Load the OpenAI variables from environment variables or an .env file"
   ]
  },
  {
   "cell_type": "code",
   "execution_count": null,
   "metadata": {
    "dotnet_interactive": {
     "language": "csharp"
    },
    "polyglot_notebook": {
     "kernelName": "csharp"
    },
    "vscode": {
     "languageId": "polyglot-notebook"
    }
   },
   "outputs": [],
   "source": [
    "DotEnv.Load();\n",
    "var depoymentName = Environment.GetEnvironmentVariable(\"GPT_OPENAI_DEPLOYMENT_NAME\");\n",
    "var endpoint = Environment.GetEnvironmentVariable(\"GPT_OPENAI_ENDPOINT\");\n",
    "var apiKey = Environment.GetEnvironmentVariable(\"GPT_OPENAI_KEY\");\n",
    "Console.WriteLine($\"Using deployment: {depoymentName} at {endpoint} with key {apiKey.Substring(0, 5)}...\");"
   ]
  },
  {
   "cell_type": "markdown",
   "metadata": {},
   "source": [
    "## Build a kernel instance\n",
    "\n",
    "- Registration: `WithAzureChatCompletionServices` registers an ICompletion service with the kernel\n",
    "- Retries: Kernel API calls come with default retry logic for timeouts and throttling."
   ]
  },
  {
   "cell_type": "code",
   "execution_count": null,
   "metadata": {
    "dotnet_interactive": {
     "language": "csharp"
    },
    "polyglot_notebook": {
     "kernelName": "csharp"
    },
    "vscode": {
     "languageId": "polyglot-notebook"
    }
   },
   "outputs": [],
   "source": [
    "var httpclient = new HttpClient();\n",
    "var kernel = new KernelBuilder()\n",
    "    .WithAzureChatCompletionService(depoymentName,endpoint,apiKey,httpClient: httpclient)\n",
    "    .Build();"
   ]
  },
  {
   "cell_type": "markdown",
   "metadata": {},
   "source": [
    "## Get the registered service from the kernel and keep a conversation (a history)"
   ]
  },
  {
   "cell_type": "code",
   "execution_count": null,
   "metadata": {
    "dotnet_interactive": {
     "language": "csharp"
    },
    "polyglot_notebook": {
     "kernelName": "csharp"
    },
    "vscode": {
     "languageId": "polyglot-notebook"
    }
   },
   "outputs": [],
   "source": [
    "// Get an IChatCompletion service from the kernel\n",
    "var chatGPT = kernel.GetService<IChatCompletion>();\n",
    "\n",
    "// Keep a history\n",
    "var systemMessage = \"You are a general assistant. Say Hello, I'm your friendly bot. How can I assist you today?\";\n",
    "var conversation = (OpenAIChatHistory)chatGPT.CreateNewChat(systemMessage);"
   ]
  },
  {
   "cell_type": "markdown",
   "metadata": {},
   "source": [
    "## Call the bot for the first time"
   ]
  },
  {
   "cell_type": "code",
   "execution_count": null,
   "metadata": {
    "dotnet_interactive": {
     "language": "csharp"
    },
    "polyglot_notebook": {
     "kernelName": "csharp"
    },
    "vscode": {
     "languageId": "polyglot-notebook"
    }
   },
   "outputs": [],
   "source": [
    "string assistantReply = await chatGPT.GenerateMessageAsync(conversation, new ChatRequestSettings());\n",
    "Console.WriteLine($\"\\nBot: {assistantReply}\");\n",
    "\n",
    "conversation.AddAssistantMessage(assistantReply);"
   ]
  },
  {
   "cell_type": "markdown",
   "metadata": {},
   "source": [
    "## Enter the while loop and process the user and system messages"
   ]
  },
  {
   "cell_type": "code",
   "execution_count": null,
   "metadata": {
    "dotnet_interactive": {
     "language": "csharp"
    },
    "polyglot_notebook": {
     "kernelName": "csharp"
    },
    "vscode": {
     "languageId": "polyglot-notebook"
    }
   },
   "outputs": [],
   "source": [
    "while (true) {\n",
    "    var userMessage = await InteractiveKernel.GetInputAsync(\"Your message\");\n",
    "    Console.WriteLine($\"User: {userMessage}\");\n",
    "    conversation.AddUserMessage(userMessage);\n",
    "    if (userMessage == \"history\") {\n",
    "        foreach (var message in conversation.Messages) {\n",
    "            Console.WriteLine(message.Role+ \": \" + message.Content);\n",
    "        }\n",
    "        continue;\n",
    "    }\n",
    "    string assistantReply = await chatGPT.GenerateMessageAsync(conversation, new ChatRequestSettings());\n",
    "    // or\n",
    "    //IReadOnlyList<ITextResult> completionResults = await chatGPT.GetCompletionsAsync(conversation, new CompleteRequestSettings() { MaxTokens = 100, Temperature = 0.4, TopP = 1 });\n",
    "    //Console.WriteLine(await completionResults[0].GetCompletionAsync());\n",
    "    //Console.WriteLine(completionResults[0].ModelResult.GetOpenAIChatResult().Usage.AsJson());\n",
    "    //Console.WriteLine();\n",
    "\n",
    "    Console.WriteLine($\"\\nBot: {assistantReply}\");\n",
    "    // Add the message to the conversation history\n",
    "    conversation.AddAssistantMessage(assistantReply);\n",
    "}"
   ]
  },
  {
   "cell_type": "markdown",
   "metadata": {},
   "source": [
    "## Sample of using ChatCompletion as TextCompletion"
   ]
  },
  {
   "cell_type": "code",
   "execution_count": null,
   "metadata": {
    "dotnet_interactive": {
     "language": "csharp"
    },
    "polyglot_notebook": {
     "kernelName": "csharp"
    },
    "vscode": {
     "languageId": "polyglot-notebook"
    }
   },
   "outputs": [],
   "source": [
    "const string fnIdentifyHeadingsByRegionTemplate = @\"For the following news headings, which news is out of {{$region}}: \n",
    "{{$news}}.\";\n",
    "\n",
    "var indentifyHeadingsSKFn = kernel.CreateSemanticFunction(fnIdentifyHeadingsByRegionTemplate, \n",
    "    maxTokens: 200, temperature: 0.5, topP: 1);\n",
    "\n",
    "var news = @\"Disaster in New Delhi\n",
    "Train derailment kills many in Pakistan\n",
    "US Team loses in Australia\n",
    "Heat wave in the US\";\n",
    "\n",
    "var context = kernel.CreateNewContext();\n",
    "context[\"region\"] = \"Asia\";\n",
    "context[\"news\"] = news;\n",
    "\n",
    "var bot_answer = await indentifyHeadingsSKFn.InvokeAsync(context);\n",
    "Console.WriteLine(bot_answer);"
   ]
  }
 ],
 "metadata": {
  "language_info": {
   "name": "python"
  },
  "orig_nbformat": 4
 },
 "nbformat": 4,
 "nbformat_minor": 2
}
