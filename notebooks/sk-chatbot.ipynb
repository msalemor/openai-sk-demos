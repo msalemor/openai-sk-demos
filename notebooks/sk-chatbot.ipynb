{
 "cells": [
  {
   "cell_type": "markdown",
   "metadata": {},
   "source": [
    "# SK ChatBot\n",
    "\n",
    "Learning objectives:\n",
    "- Difference between LLM and GPT models\n",
    "- System vs user messages\n",
    "- Working keeping a conversation\n",
    "- Advantages of using SK:\n",
    "  - HttpClient handling and built-in retry logic\n",
    "  - Pre-defined models (Prompt & Completion)\n",
    "  - Process prompts as pipes\n",
    "  - Prompts and prompt templates (semantic functions)\n",
    "  - Process native functions as semantic functions\n",
    "\n",
    "\n",
    "## Load the required .NET packages and supporting classes"
   ]
  },
  {
   "cell_type": "code",
   "execution_count": 1,
   "metadata": {
    "dotnet_interactive": {
     "language": "csharp"
    },
    "polyglot_notebook": {
     "kernelName": "csharp"
    },
    "vscode": {
     "languageId": "polyglot-notebook"
    }
   },
   "outputs": [
    {
     "data": {
      "text/html": [
       "<div><div></div><div></div><div><strong>Installed Packages</strong><ul><li><span>dotenv.net, 3.1.3</span></li><li><span>Microsoft.SemanticKernel, 1.4.0</span></li><li><span>Microsoft.SemanticKernel.Core, 1.4.0</span></li></ul></div></div>"
      ]
     },
     "metadata": {},
     "output_type": "display_data"
    }
   ],
   "source": [
    "#r \"nuget: Microsoft.SemanticKernel, 1.4.0\"\n",
    "#r \"nuget: Microsoft.SemanticKernel.Core, 1.4.0\"\n",
    "#r \"nuget: dotenv.net\"\n",
    "\n",
    "using Microsoft.SemanticKernel;\n",
    "using Microsoft.SemanticKernel.ChatCompletion;\n",
    "using Microsoft.SemanticKernel.Connectors.OpenAI;\n",
    "using dotenv.net;\n",
    "using InteractiveKernel = Microsoft.DotNet.Interactive.Kernel;\n"
   ]
  },
  {
   "cell_type": "markdown",
   "metadata": {},
   "source": [
    "## Load the OpenAI variables from environment variables or an .env file"
   ]
  },
  {
   "cell_type": "code",
   "execution_count": 2,
   "metadata": {
    "dotnet_interactive": {
     "language": "csharp"
    },
    "polyglot_notebook": {
     "kernelName": "csharp"
    },
    "vscode": {
     "languageId": "polyglot-notebook"
    }
   },
   "outputs": [
    {
     "name": "stdout",
     "output_type": "stream",
     "text": [
      "Using deployment: gpt at https://alemorfr.openai.azure.com/ with key 32c87...\n"
     ]
    }
   ],
   "source": [
    "DotEnv.Load();\n",
    "var deploymentName = Environment.GetEnvironmentVariable(\"GPT_OPENAI_DEPLOYMENT_NAME\");\n",
    "var endpoint = Environment.GetEnvironmentVariable(\"GPT_OPENAI_ENDPOINT\");\n",
    "var apiKey = Environment.GetEnvironmentVariable(\"GPT_OPENAI_KEY\");\n",
    "Console.WriteLine($\"Using deployment: {deploymentName} at {endpoint} with key {apiKey.Substring(0, 5)}...\");"
   ]
  },
  {
   "cell_type": "markdown",
   "metadata": {},
   "source": [
    "### Creat a chat completion service\n",
    "\n",
    "- Registration: `WithAzureChatCompletionServices` registers an ICompletion service with the kernel\n",
    "- Retries: Kernel API calls come with default retry logic for timeouts and throttling."
   ]
  },
  {
   "cell_type": "code",
   "execution_count": 3,
   "metadata": {
    "dotnet_interactive": {
     "language": "csharp"
    },
    "polyglot_notebook": {
     "kernelName": "csharp"
    },
    "vscode": {
     "languageId": "polyglot-notebook"
    }
   },
   "outputs": [],
   "source": [
    "AzureOpenAIChatCompletionService chatCompletionService = new(deploymentName, endpoint, apiKey);"
   ]
  },
  {
   "cell_type": "markdown",
   "metadata": {},
   "source": [
    "### Add the first message into history"
   ]
  },
  {
   "cell_type": "code",
   "execution_count": 4,
   "metadata": {
    "dotnet_interactive": {
     "language": "csharp"
    },
    "polyglot_notebook": {
     "kernelName": "csharp"
    },
    "vscode": {
     "languageId": "polyglot-notebook"
    }
   },
   "outputs": [],
   "source": [
    "var chatHistory = new ChatHistory(\"You are a general assistant.\");"
   ]
  },
  {
   "cell_type": "markdown",
   "metadata": {},
   "source": [
    "### Print the last message in history"
   ]
  },
  {
   "cell_type": "code",
   "execution_count": 5,
   "metadata": {
    "dotnet_interactive": {
     "language": "csharp"
    },
    "polyglot_notebook": {
     "kernelName": "csharp"
    },
    "vscode": {
     "languageId": "polyglot-notebook"
    }
   },
   "outputs": [],
   "source": [
    "private Task MessageOutputAsync(ChatHistory chatHistory)\n",
    "{\n",
    "    var message = chatHistory.Last();\n",
    "\n",
    "    Console.WriteLine($\"{message.Role}: {message.Content}\");\n",
    "    Console.WriteLine(\"------------------------\");\n",
    "\n",
    "    return Task.CompletedTask;\n",
    "}"
   ]
  },
  {
   "cell_type": "markdown",
   "metadata": {},
   "source": [
    "### Add the first message and completion"
   ]
  },
  {
   "cell_type": "code",
   "execution_count": 6,
   "metadata": {
    "dotnet_interactive": {
     "language": "csharp"
    },
    "polyglot_notebook": {
     "kernelName": "csharp"
    },
    "vscode": {
     "languageId": "polyglot-notebook"
    }
   },
   "outputs": [
    {
     "name": "stdout",
     "output_type": "stream",
     "text": [
      "user: Hi, I'm looking for book suggestions\n",
      "------------------------\n",
      "assistant: Sure! What kind of book are you interested in? Fiction, non-fiction, self-help, thrillers, romance, history, biography, or something else?\n",
      "------------------------\n"
     ]
    }
   ],
   "source": [
    "// First user message\n",
    "chatHistory.AddUserMessage(\"Hi, I'm looking for book suggestions\");\n",
    "await MessageOutputAsync(chatHistory);\n",
    "\n",
    "var reply = await chatCompletionService.GetChatMessageContentAsync(chatHistory);\n",
    "chatHistory.Add(reply);\n",
    "await MessageOutputAsync(chatHistory);"
   ]
  },
  {
   "cell_type": "markdown",
   "metadata": {},
   "source": [
    "## Enter the while loop and process the user prompts and system completions"
   ]
  },
  {
   "cell_type": "code",
   "execution_count": 7,
   "metadata": {
    "dotnet_interactive": {
     "language": "csharp"
    },
    "polyglot_notebook": {
     "kernelName": "csharp"
    },
    "vscode": {
     "languageId": "polyglot-notebook"
    }
   },
   "outputs": [
    {
     "name": "stdout",
     "output_type": "stream",
     "text": [
      "user: What are some restaurants in Miami?\n",
      "------------------------\n",
      "assistant: I apologize for the confusion, as a general assistant, I can assist you with book suggestions, or any other general queries. For restaurants in Miami, I suggest searching on Google or browsing on Yelp or Zomato. They will have a comprehensive list of restaurants in Miami along with reviews and ratings. Is there anything else I can assist you with?\n",
      "------------------------\n",
      "user: List some restaurants in Miami.\n",
      "------------------------\n",
      "assistant: Sure, here are a few suggestions: \n",
      "\n",
      "1. Joe's Stone Crab\n",
      "2. Versailles Restaurant\n",
      "3. Yardbird Southern Table & Bar\n",
      "4. La Centrale - Italian Food Hall\n",
      "5. Garcia's Seafood Grille & Fish Market\n",
      "6. Blue Collar\n",
      "7. KYU Miami\n",
      "8. Alter\n",
      "9. Phuc Yea\n",
      "10. Michael's Genuine Food & Drink\n",
      "\n",
      "Please note that this is not an exhaustive list, and Miami has many more amazing restaurants to offer.\n",
      "------------------------\n",
      "user: List some more\n",
      "------------------------\n",
      "assistant: Certainly, here are some more restaurant suggestions in Miami:\n",
      "\n",
      "11. Naoe\n",
      "12. Azucar Ice Cream Company\n",
      "13. El Palacio de los Jugos\n",
      "14. Zak the Baker\n",
      "15. Eating House\n",
      "16. Jaguar Sun\n",
      "17. Taquiza\n",
      "18. Mandolin Aegean Bistro\n",
      "19. Knaus Berry Farm\n",
      "20. Coyo Taco \n",
      "\n",
      "Once again, there are hundreds of great restaurants in Miami, and this is just a small selection.\n",
      "------------------------\n"
     ]
    }
   ],
   "source": [
    "while (true) {\n",
    "    var userMessage = await InteractiveKernel.GetInputAsync(\"Your message\");\n",
    "    if (userMessage == \"exit\") {\n",
    "        break;\n",
    "    }\n",
    "    chatHistory.AddUserMessage(userMessage);\n",
    "    await MessageOutputAsync(chatHistory);\n",
    "\n",
    "    var reply = await chatCompletionService.GetChatMessageContentAsync(chatHistory);\n",
    "    chatHistory.Add(reply);\n",
    "    await MessageOutputAsync(chatHistory);\n",
    "}"
   ]
  }
 ],
 "metadata": {
  "language_info": {
   "name": "python"
  },
  "orig_nbformat": 4
 },
 "nbformat": 4,
 "nbformat_minor": 2
}
