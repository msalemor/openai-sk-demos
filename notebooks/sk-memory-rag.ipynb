{
 "cells": [
  {
   "cell_type": "markdown",
   "metadata": {},
   "source": [
    "# SK Learnings Chatbot\n",
    "\n",
    "Learning objectives:\n",
    "\n",
    "- A simple RAG pattern implementation using volatile memory\n",
    "\n",
    "## Setup\n",
    "\n",
    "### Load required .NET packages and supporting constants, classes, etc."
   ]
  },
  {
   "cell_type": "code",
   "execution_count": 6,
   "metadata": {
    "dotnet_interactive": {
     "language": "csharp"
    },
    "polyglot_notebook": {
     "kernelName": "csharp"
    }
   },
   "outputs": [
    {
     "data": {
      "text/html": [
       "<div><div></div><div></div><div><strong>Installed Packages</strong><ul><li><span>dotenv.net, 3.1.2</span></li><li><span>Microsoft.Extensions.Logging.Console, 7.0.0</span></li><li><span>Microsoft.SemanticKernel, 0.18.230725.3-preview</span></li></ul></div></div>"
      ]
     },
     "metadata": {},
     "output_type": "display_data"
    }
   ],
   "source": [
    "#r \"nuget: Microsoft.SemanticKernel, 0.18.230725.3-preview\"\n",
    "#r \"nuget: Microsoft.Extensions.Logging.Console\"\n",
    "#r \"nuget: dotenv.net\"\n",
    "\n",
    "using System;\n",
    "using System.IO;\n",
    "using System.Text;\n",
    "using System.Text.Json;\n",
    "using System.Text.Json.Serialization;\n",
    "using System.ComponentModel;\n",
    "using System.Net.Http;\n",
    "using Microsoft.Extensions.Logging;\n",
    "using Microsoft.SemanticKernel;\n",
    "using Microsoft.SemanticKernel.Memory;\n",
    "using dotenv.net;\n",
    "\n",
    "#!import Utils/ConsoleLogger.cs\n",
    "#!import Models/Models.cs\n",
    "\n",
    "const string MemoryCollectionName = \"LearningsCollection\";"
   ]
  },
  {
   "cell_type": "markdown",
   "metadata": {},
   "source": [
    "### Read the API Key and endpoints from environment variables or the .env file"
   ]
  },
  {
   "cell_type": "code",
   "execution_count": 1,
   "metadata": {
    "dotnet_interactive": {
     "language": "csharp"
    },
    "polyglot_notebook": {
     "kernelName": "csharp"
    }
   },
   "outputs": [
    {
     "name": "stdout",
     "output_type": "stream",
     "text": [
      "Using deployment: gpt at: https://alemorfr.openai.azure.com/ with key 32c87...\r\n"
     ]
    }
   ],
   "source": [
    "DotEnv.Load();\n",
    "var deploymentName = Environment.GetEnvironmentVariable(\"GPT_OPENAI_DEPLOYMENT_NAME\");\n",
    "var endpoint = Environment.GetEnvironmentVariable(\"GPT_OPENAI_ENDPOINT\");\n",
    "var apiKey = Environment.GetEnvironmentVariable(\"GPT_OPENAI_KEY\");\n",
    "var adaDeploymentName = \"ada\";\n",
    "Console.WriteLine($\"Using deployment: {deploymentName} at: {endpoint} with key {apiKey.Substring(0, 5)}...\");"
   ]
  },
  {
   "cell_type": "markdown",
   "metadata": {},
   "source": [
    "### Get a kernel instance configured for text completions and embeddings"
   ]
  },
  {
   "cell_type": "code",
   "execution_count": 3,
   "metadata": {
    "dotnet_interactive": {
     "language": "csharp"
    },
    "polyglot_notebook": {
     "kernelName": "csharp"
    }
   },
   "outputs": [],
   "source": [
    "var kernel = Kernel.Builder\n",
    "            .WithLogger(ConsoleLogger.Log)\n",
    "            .WithAzureChatCompletionService(deploymentName, endpoint, apiKey)\n",
    "            .WithAzureTextEmbeddingGenerationService(adaDeploymentName, endpoint, apiKey)\n",
    "            .WithMemoryStorage(new VolatileMemoryStore())\n",
    "            .Build();"
   ]
  },
  {
   "cell_type": "markdown",
   "metadata": {},
   "source": [
    "## Ingestion\n",
    "\n",
    "### Read and deserialize the JSON learnings data file"
   ]
  },
  {
   "cell_type": "code",
   "execution_count": 5,
   "metadata": {
    "dotnet_interactive": {
     "language": "csharp"
    },
    "polyglot_notebook": {
     "kernelName": "csharp"
    }
   },
   "outputs": [
    {
     "data": {
      "text/html": [
       "<table><thead><tr><th><i>index</i></th><th>value</th></tr></thead><tbody><tr><td>0</td><td><details class=\"dni-treeview\"><summary><span class=\"dni-code-hint\"><code>Learning { Id = 1, Content = In a scenario where Azure FrontDoor is used with Azure Container Apps configuring the certificates is difficult both because the documentation is not clear and because the configuration itself is difficult.\\n\\nThe recommendation is both to improve the documentation and p...</code></span></summary><div><table><thead><tr></tr></thead><tbody><tr><td>Id</td><td><div class=\"dni-plaintext\"><pre>1</pre></div></td></tr><tr><td>Content</td><td><div class=\"dni-plaintext\"><pre>In a scenario where Azure FrontDoor is used with Azure Container Apps configuring the certificates is difficult both because the documentation is not clear and because the configuration itself is difficult.\n",
       "\n",
       "The recommendation is both to improve the documentation and provide feedback to both the FrontDoor and ACA teams to improve the experience when customers are configuring.</pre></div></td></tr></tbody></table></div></details></td></tr><tr><td>1</td><td><details class=\"dni-treeview\"><summary><span class=\"dni-code-hint\"><code>Learning { Id = 2, Content = In scenarios where App Services are using VNET integration, customers will beginner knowledge of App Services Networking are finding difficult to configure the VNET integration.\\n\\nThe recommendation is to identify customers who are new to App Services networking and fir...</code></span></summary><div><table><thead><tr></tr></thead><tbody><tr><td>Id</td><td><div class=\"dni-plaintext\"><pre>2</pre></div></td></tr><tr><td>Content</td><td><div class=\"dni-plaintext\"><pre>In scenarios where App Services are using VNET integration, customers will beginner knowledge of App Services Networking are finding difficult to configure the VNET integration.\n",
       "\n",
       "The recommendation is to identify customers who are new to App Services networking and first have them watch a video on the topic.</pre></div></td></tr></tbody></table></div></details></td></tr></tbody></table><style>\r\n",
       ".dni-code-hint {\r\n",
       "    font-style: italic;\r\n",
       "    overflow: hidden;\r\n",
       "    white-space: nowrap;\r\n",
       "}\r\n",
       ".dni-treeview {\r\n",
       "    white-space: nowrap;\r\n",
       "}\r\n",
       ".dni-treeview td {\r\n",
       "    vertical-align: top;\r\n",
       "    text-align: start;\r\n",
       "}\r\n",
       "details.dni-treeview {\r\n",
       "    padding-left: 1em;\r\n",
       "}\r\n",
       "table td {\r\n",
       "    text-align: start;\r\n",
       "}\r\n",
       "table tr { \r\n",
       "    vertical-align: top; \r\n",
       "    margin: 0em 0px;\r\n",
       "}\r\n",
       "table tr td pre \r\n",
       "{ \r\n",
       "    vertical-align: top !important; \r\n",
       "    margin: 0em 0px !important;\r\n",
       "} \r\n",
       "table th {\r\n",
       "    text-align: start;\r\n",
       "}\r\n",
       "</style>"
      ]
     },
     "metadata": {},
     "output_type": "display_data"
    }
   ],
   "source": [
    "var jsonFileContents = File.ReadAllText(\"data/learnings.json\");\n",
    "var learnings = System.Text.Json.JsonSerializer.Deserialize<List<Learning>>(jsonFileContents);\n",
    "learnings"
   ]
  },
  {
   "cell_type": "markdown",
   "metadata": {},
   "source": [
    "### Chunk the learnings & recommendations\n",
    "\n",
    "**Note:** This is a simple chunker. It chunks by splitting the document into paragraphs. A more realistic chunker would try to optimize the token size limit, chunking smartly (not in the a middle of a paragraph or sentence), etc."
   ]
  },
  {
   "cell_type": "code",
   "execution_count": null,
   "metadata": {
    "dotnet_interactive": {
     "language": "csharp"
    },
    "polyglot_notebook": {
     "kernelName": "csharp"
    }
   },
   "outputs": [],
   "source": [
    "// Keep a list of chunks\n",
    "var chunks = new List<Chunk>();\n",
    "\n",
    "// For each learning process the chunks\n",
    "foreach(var learning in learnings)\n",
    "{\n",
    "    // Break the learnings into paragraphs\n",
    "    var paragraphs = learning.Content.Split(\"\\n\\n\");\n",
    "    \n",
    "    // For each paragraph create a chunk\n",
    "    for(var i=0;i<paragraphs.Length;i++)\n",
    "    {\n",
    "        // Add the chunk to the list\n",
    "        chunks.Add(new Chunk(learning.Id+\"-\"+(i+1),paragraphs[i]));\n",
    "    }\n",
    "}"
   ]
  },
  {
   "cell_type": "markdown",
   "metadata": {},
   "source": [
    "### Save memories for every chunk"
   ]
  },
  {
   "cell_type": "code",
   "execution_count": null,
   "metadata": {
    "dotnet_interactive": {
     "language": "csharp"
    },
    "polyglot_notebook": {
     "kernelName": "csharp"
    }
   },
   "outputs": [],
   "source": [
    "foreach(var chunk in chunks)\n",
    "{    \n",
    "    await kernel.Memory.SaveInformationAsync(MemoryCollectionName, id: chunk.Id, text: chunk.Text);\n",
    "}"
   ]
  },
  {
   "cell_type": "markdown",
   "metadata": {},
   "source": [
    "## Grounding\n",
    "\n",
    "### Retrieve the memory based on a query"
   ]
  },
  {
   "cell_type": "code",
   "execution_count": null,
   "metadata": {
    "dotnet_interactive": {
     "language": "csharp"
    },
    "polyglot_notebook": {
     "kernelName": "csharp"
    }
   },
   "outputs": [],
   "source": [
    "var query = await InteractiveKernel.GetInputAsync(\"What is your query?\");\n",
    "\n",
    "IAsyncEnumerable<MemoryQueryResult> queryResults =\n",
    "                kernel.Memory.SearchAsync(MemoryCollectionName, query, limit: 3, minRelevanceScore: 0.77);"
   ]
  },
  {
   "cell_type": "markdown",
   "metadata": {},
   "source": [
    "\n",
    "### Find memories based on query, and collect the text in the memories to augment the prompt"
   ]
  },
  {
   "cell_type": "code",
   "execution_count": null,
   "metadata": {
    "dotnet_interactive": {
     "language": "csharp"
    },
    "polyglot_notebook": {
     "kernelName": "csharp"
    }
   },
   "outputs": [],
   "source": [
    "// Keep a list of the memories\n",
    "StringBuilder promptData = new StringBuilder();\n",
    "\n",
    "await foreach (MemoryQueryResult r in queryResults)\n",
    "{\n",
    "    promptData.Append(r.Metadata.Text+\"\\n\\n\");\n",
    "}\n",
    "\n",
    "// Final augmented text\n",
    "var augmentedText = promptData.ToString();"
   ]
  },
  {
   "cell_type": "markdown",
   "metadata": {},
   "source": [
    "## Process Prompt & Completion\n",
    "\n",
    "### Prepare the context"
   ]
  },
  {
   "cell_type": "code",
   "execution_count": null,
   "metadata": {
    "dotnet_interactive": {
     "language": "csharp"
    },
    "polyglot_notebook": {
     "kernelName": "csharp"
    }
   },
   "outputs": [],
   "source": [
    "var context = kernel.CreateNewContext();\n",
    "context[\"query\"] = query;\n",
    "context[\"data\"] = augmentedText;"
   ]
  },
  {
   "cell_type": "markdown",
   "metadata": {},
   "source": [
    "### Answer the question with the same query but with the augmented prompt"
   ]
  },
  {
   "cell_type": "code",
   "execution_count": null,
   "metadata": {
    "dotnet_interactive": {
     "language": "csharp"
    },
    "polyglot_notebook": {
     "kernelName": "csharp"
    }
   },
   "outputs": [],
   "source": [
    "var fixedFunction = kernel.CreateSemanticFunction($\"{query}\\n\\nUsing only the following text:\\n\\\"\\\"\\\"{augmentedText}\\n\\\"\\\"\\\"\", maxTokens: 1000);\n",
    "var result = await fixedFunction.InvokeAsync();\n",
    "Console.WriteLine(result);"
   ]
  }
 ],
 "metadata": {
  "kernelspec": {
   "display_name": ".NET (C#)",
   "language": "C#",
   "name": ".net-csharp"
  },
  "language_info": {
   "name": "polyglot-notebook"
  },
  "polyglot_notebook": {
   "kernelInfo": {
    "defaultKernelName": "csharp",
    "items": [
     {
      "aliases": [],
      "languageName": "csharp",
      "name": "csharp"
     }
    ]
   }
  }
 },
 "nbformat": 4,
 "nbformat_minor": 2
}
