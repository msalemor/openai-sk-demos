{
 "cells": [
  {
   "cell_type": "markdown",
   "metadata": {},
   "source": [
    "# SK Connectors, functions, native functions and pipes\n",
    "\n",
    "Learning objectives:\n",
    "\n",
    "- Configuring and getting a kernel instance\n",
    "- Configuring a kernel instance with a GPT connector\n",
    "- Understand what is an SK function\n",
    "- Adding SK functions to the kernel\n",
    "- Understand the different pipe types:\n",
    "  - Core\n",
    "  - Native\n",
    "  - Inline\n",
    "  - Fixed\n",
    "  - From file\n",
    "- Calling SK functions using the kernel\n",
    "\n",
    "## Load the required .NET Packages"
   ]
  },
  {
   "cell_type": "code",
   "execution_count": null,
   "metadata": {
    "dotnet_interactive": {
     "language": "csharp"
    },
    "polyglot_notebook": {
     "kernelName": "csharp"
    },
    "vscode": {
     "languageId": "polyglot-notebook"
    }
   },
   "outputs": [],
   "source": [
    "#r \"nuget: Microsoft.SemanticKernel, 1.0.0-beta8\"\n",
    "#r \"nuget: dotenv.net\"\n",
    "\n",
    "using System.Threading.Tasks;\n",
    "using Microsoft.SemanticKernel;\n",
    "using Microsoft.SemanticKernel.Plugins.Core;\n",
    "using Microsoft.SemanticKernel.Connectors.AI.OpenAI;\n",
    "using Microsoft.SemanticKernel.Connectors.AI.OpenAI.AzureSdk;\n",
    "using dotenv.net;\n"
   ]
  },
  {
   "cell_type": "markdown",
   "metadata": {},
   "source": [
    "## Load the OpenAI variables from environment variables or an .env file"
   ]
  },
  {
   "cell_type": "code",
   "execution_count": null,
   "metadata": {
    "dotnet_interactive": {
     "language": "csharp"
    },
    "polyglot_notebook": {
     "kernelName": "csharp"
    },
    "vscode": {
     "languageId": "polyglot-notebook"
    }
   },
   "outputs": [],
   "source": [
    "DotEnv.Load();\n",
    "var deploymentName = Environment.GetEnvironmentVariable(\"GPT_OPENAI_DEPLOYMENT_NAME\");\n",
    "var endpoint = Environment.GetEnvironmentVariable(\"GPT_OPENAI_ENDPOINT\");\n",
    "var apiKey = Environment.GetEnvironmentVariable(\"GPT_OPENAI_KEY\");\n",
    "var deployment = $\"Using deployment: {deploymentName} at: {endpoint} with key {apiKey.Substring(0, 5)}...\";\n",
    "deployment"
   ]
  },
  {
   "cell_type": "markdown",
   "metadata": {},
   "source": [
    "## Get a kernel instance"
   ]
  },
  {
   "cell_type": "code",
   "execution_count": null,
   "metadata": {
    "dotnet_interactive": {
     "language": "csharp"
    },
    "polyglot_notebook": {
     "kernelName": "csharp"
    },
    "vscode": {
     "languageId": "polyglot-notebook"
    }
   },
   "outputs": [],
   "source": [
    "var kernel = new KernelBuilder()\n",
    "            .WithAzureOpenAIChatCompletionService(deploymentName, endpoint, apiKey)                        \n",
    "            .Build();"
   ]
  },
  {
   "cell_type": "markdown",
   "metadata": {},
   "source": [
    "## Simple pipeline\n",
    "\n",
    "### Import an available skill"
   ]
  },
  {
   "cell_type": "code",
   "execution_count": null,
   "metadata": {
    "dotnet_interactive": {
     "language": "csharp"
    },
    "polyglot_notebook": {
     "kernelName": "csharp"
    },
    "vscode": {
     "languageId": "polyglot-notebook"
    }
   },
   "outputs": [],
   "source": [
    "var funyParagraphFunctionDef = \"Write a funny paragraph about streaming\";\n",
    "var fixedFunction = kernel.CreateSemanticFunction(funyParagraphFunctionDef,new OpenAIRequestSettings() { MaxTokens = 500, Temperature = 0.3, TopP = 1 });\n"
   ]
  },
  {
   "cell_type": "code",
   "execution_count": null,
   "metadata": {
    "dotnet_interactive": {
     "language": "csharp"
    },
    "polyglot_notebook": {
     "kernelName": "csharp"
    },
    "vscode": {
     "languageId": "polyglot-notebook"
    }
   },
   "outputs": [],
   "source": [
    "var roleDisplayed = false;\n",
    "\n",
    "Console.WriteLine(\"\\n===  Semantic Function - Streaming ===\\n\");\n",
    "\n",
    "\n",
    "// Streaming can be of any type depending on the underlying service the function is using.\n",
    "await foreach (var update in kernel.RunStreamingAsync<StreamingChatContent>(funyParagraphFunction))\n",
    "{\n",
    "    // You will be always able to know the type of the update by checking the Type property.\n",
    "    if (!roleDisplayed && update.Role.HasValue)\n",
    "    {\n",
    "        Console.WriteLine($\"Role: {update.Role}\");\n",
    "        roleDisplayed = true;\n",
    "    }\n",
    "\n",
    "    if (update.Content is { Length: > 0 })\n",
    "    {\n",
    "        Console.Write(update.Content);\n",
    "    }\n",
    "};"
   ]
  },
  {
   "cell_type": "markdown",
   "metadata": {},
   "source": [
    "### Create two native skills"
   ]
  },
  {
   "cell_type": "code",
   "execution_count": null,
   "metadata": {
    "dotnet_interactive": {
     "language": "csharp"
    },
    "polyglot_notebook": {
     "kernelName": "csharp"
    },
    "vscode": {
     "languageId": "polyglot-notebook"
    }
   },
   "outputs": [],
   "source": [
    "// Create a new Skill\n",
    "class ConsoleSkill\n",
    "{\n",
    "    [SKFunction, Description(\"Trim whitespace from the start and end of a string.\")]\n",
    "    public string Log(string input)\n",
    "    {\n",
    "        Console.WriteLine(input);\n",
    "        return input;\n",
    "    }\n",
    "}\n",
    "var cskill = kernel.ImportFunctions(new ConsoleSkill());\n",
    "\n",
    "// SK Native Skill to replace acronyms\n",
    "class AcronymExpander\n",
    "{\n",
    "    static Dictionary<string,string> dict = new Dictionary<string,string>(){\n",
    "        {\"AKS\", \"Azure Kubernetes Service (AKS)\"},\n",
    "        {\"ACI\", \"Azure Container Instance (ACI)\"},\n",
    "        {\"ACA\", \"Azure Container Applications (ACA)\"},\n",
    "    };\n",
    "\n",
    "    [SKFunction, Description(\"Replace acronyms with expanded terminology.\")]\n",
    "    public string Expand(string input) \n",
    "    {\n",
    "            foreach(var key in dict.Keys)\n",
    "            {\n",
    "                var isFound = input.ToLower().IndexOf(key.ToLower())>=0;\n",
    "                if (isFound) {\n",
    "                    input = input.Replace(key,dict[key],StringComparison.CurrentCultureIgnoreCase);\n",
    "                }\n",
    "            }\n",
    "            return input;\n",
    "    }\n",
    "}\n",
    "var acronymSkill = kernel.ImportFunctions(new AcronymExpander());"
   ]
  },
  {
   "cell_type": "markdown",
   "metadata": {},
   "source": [
    "### Use skills in a pipeline"
   ]
  },
  {
   "cell_type": "code",
   "execution_count": null,
   "metadata": {
    "dotnet_interactive": {
     "language": "csharp"
    },
    "polyglot_notebook": {
     "kernelName": "csharp"
    },
    "vscode": {
     "languageId": "polyglot-notebook"
    }
   },
   "outputs": [],
   "source": [
    "var result = await kernel.RunAsync(\"    i n f i n i t e     s p a c e     \",\n",
    "    cskill[\"Log\"],\n",
    "    text[\"TrimStart\"],\n",
    "    cskill[\"Log\"],\n",
    "    text[\"TrimEnd\"],\n",
    "    cskill[\"Log\"],\n",
    "    text[\"Uppercase\"],\n",
    "    cskill[\"Log\"]);\n",
    "\n",
    "\n",
    "\n",
    "var result1 = await kernel.RunAsync(\"What are the top issues in working with AKS and ACA?\",acronymSkill[\"Expand\"]);\n",
    "result1"
   ]
  },
  {
   "cell_type": "markdown",
   "metadata": {},
   "source": [
    "## Pipeline with completion"
   ]
  },
  {
   "cell_type": "markdown",
   "metadata": {},
   "source": [
    "### Create an SK in-line function to give funny excuses"
   ]
  },
  {
   "cell_type": "code",
   "execution_count": null,
   "metadata": {
    "dotnet_interactive": {
     "language": "csharp"
    },
    "polyglot_notebook": {
     "kernelName": "csharp"
    },
    "vscode": {
     "languageId": "polyglot-notebook"
    }
   },
   "outputs": [],
   "source": [
    "const string FunctionDefinition = @\"\n",
    "Generate a creative reason or excuse for the given event.\n",
    "Be creative and be funny. Let your imagination run wild.\n",
    "\n",
    "Event: I am running late.\n",
    "Excuse: I was being held ransom by giraffe gangsters.\n",
    "\n",
    "Event: I haven't been to the gym for a year\n",
    "Excuse: I've been too busy training my pet dragon.\n",
    "\n",
    "Event: {{$input}}\n",
    "\";\n",
    "\n",
    "var excuseFunction = kernel.CreateSemanticFunction(FunctionDefinition, new OpenAIRequestSettings() { MaxTokens = 500, Temperature = 0.3, TopP = 1 });"
   ]
  },
  {
   "cell_type": "markdown",
   "metadata": {},
   "source": [
    "### Execute the excuses plugin"
   ]
  },
  {
   "cell_type": "code",
   "execution_count": null,
   "metadata": {
    "dotnet_interactive": {
     "language": "csharp"
    },
    "polyglot_notebook": {
     "kernelName": "csharp"
    },
    "vscode": {
     "languageId": "polyglot-notebook"
    }
   },
   "outputs": [],
   "source": [
    "var result = await kernel.RunAsync(\"I am running late.\", excuseFunction);\n",
    "Console.WriteLine(result);"
   ]
  },
  {
   "cell_type": "markdown",
   "metadata": {},
   "source": [
    "### Pipe the excuses plugin and uppercase the output"
   ]
  },
  {
   "cell_type": "code",
   "execution_count": null,
   "metadata": {
    "dotnet_interactive": {
     "language": "csharp"
    },
    "polyglot_notebook": {
     "kernelName": "csharp"
    },
    "vscode": {
     "languageId": "polyglot-notebook"
    }
   },
   "outputs": [],
   "source": [
    "var result1 = await kernel.RunAsync(\"I missed your birthday\",\n",
    "    excuseFunction,\n",
    "    text[\"Uppercase\"]);\n",
    "\n",
    "Console.WriteLine(result1);"
   ]
  },
  {
   "cell_type": "markdown",
   "metadata": {},
   "source": [
    "## Imported SK function\n",
    "\n",
    "### Import the summarizer function from a folder"
   ]
  },
  {
   "cell_type": "code",
   "execution_count": null,
   "metadata": {
    "dotnet_interactive": {
     "language": "csharp"
    },
    "polyglot_notebook": {
     "kernelName": "csharp"
    },
    "vscode": {
     "languageId": "polyglot-notebook"
    }
   },
   "outputs": [],
   "source": [
    "var sumSkill = kernel.ImportSemanticFunctionsFromDirectory(\n",
    "            \"./skills\",\n",
    "            \"SummarizeSkill\");"
   ]
  },
  {
   "cell_type": "markdown",
   "metadata": {},
   "source": [
    "### Execute a prompt, Summarize the output and uppercase it"
   ]
  },
  {
   "cell_type": "code",
   "execution_count": null,
   "metadata": {
    "dotnet_interactive": {
     "language": "csharp"
    },
    "polyglot_notebook": {
     "kernelName": "csharp"
    },
    "vscode": {
     "languageId": "polyglot-notebook"
    }
   },
   "outputs": [],
   "source": [
    "var ask = @\"Cryptocurrency, sometimes called crypto-currency or crypto, \n",
    "is any form of currency that exists digitally or virtually and uses cryptography to secure transactions. \n",
    "Cryptocurrencies don't have a central issuing or regulating authority, \n",
    "instead using a decentralized system to record transactions and issue new units.\";\n",
    "\n",
    "var result2 = await kernel.RunAsync(\n",
    "    ask,\n",
    "    sumSkill[\"Summarize\"],\n",
    "    text[\"Uppercase\"]\n",
    ");\n",
    "\n",
    "Console.WriteLine(result2);"
   ]
  }
 ],
 "metadata": {
  "language_info": {
   "name": "python"
  },
  "orig_nbformat": 4
 },
 "nbformat": 4,
 "nbformat_minor": 2
}
