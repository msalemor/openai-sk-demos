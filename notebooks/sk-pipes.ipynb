{
 "cells": [
  {
   "cell_type": "markdown",
   "metadata": {},
   "source": [
    "# SK Functions, Native Functions and Pipes\n",
    "\n",
    "\n",
    "\n",
    "## Load the required .NET Packages"
   ]
  },
  {
   "cell_type": "code",
   "execution_count": null,
   "metadata": {
    "dotnet_interactive": {
     "language": "csharp"
    },
    "polyglot_notebook": {
     "kernelName": "csharp"
    },
    "vscode": {
     "languageId": "polyglot-notebook"
    }
   },
   "outputs": [],
   "source": [
    "#r \"nuget: Microsoft.SemanticKernel, 0.17.230626.1-preview\"\n",
    "#r \"nuget: Microsoft.Extensions.Logging.Console\"\n",
    "#r \"nuget: dotenv.net\"\n",
    "\n",
    "using System.ComponentModel;\n",
    "using System.Net.Http;\n",
    "using Microsoft.Extensions.Logging;\n",
    "using Microsoft.SemanticKernel;\n",
    "using Microsoft.SemanticKernel.Skills.Core;\n",
    "using Microsoft.SemanticKernel.SkillDefinition;\n",
    "using Microsoft.SemanticKernel.Orchestration;\n",
    "using Microsoft.SemanticKernel.AI.ImageGeneration;\n",
    "using Microsoft.SemanticKernel.AI.ChatCompletion;\n",
    "using Microsoft.SemanticKernel.Connectors.AI.OpenAI.ChatCompletion;\n",
    "using dotenv.net;\n",
    "using InteractiveKernel = Microsoft.DotNet.Interactive.Kernel;\n",
    "\n",
    "#!import Utils/ConsoleLogger.cs"
   ]
  },
  {
   "cell_type": "markdown",
   "metadata": {},
   "source": [
    "## Load the OpenAI variables from environment variables or an .env file"
   ]
  },
  {
   "cell_type": "code",
   "execution_count": null,
   "metadata": {
    "dotnet_interactive": {
     "language": "csharp"
    },
    "polyglot_notebook": {
     "kernelName": "csharp"
    },
    "vscode": {
     "languageId": "polyglot-notebook"
    }
   },
   "outputs": [],
   "source": [
    "DotEnv.Load();\n",
    "var deploymentName = Environment.GetEnvironmentVariable(\"DAVINCI_OPENAI_DEPLOYMENT_NAME\");\n",
    "var endpoint = Environment.GetEnvironmentVariable(\"DAVINCI_OPENAI_ENDPOINT\");\n",
    "var apiKey = Environment.GetEnvironmentVariable(\"DAVINCI_OPENAI_KEY\");\n",
    "Console.WriteLine($\"Using deployment: {deploymentName} at: {endpoint} with key {apiKey.Substring(0, 5)}...\");"
   ]
  },
  {
   "cell_type": "markdown",
   "metadata": {},
   "source": [
    "## Get a kernel instance"
   ]
  },
  {
   "cell_type": "code",
   "execution_count": null,
   "metadata": {
    "dotnet_interactive": {
     "language": "csharp"
    },
    "polyglot_notebook": {
     "kernelName": "csharp"
    },
    "vscode": {
     "languageId": "polyglot-notebook"
    }
   },
   "outputs": [],
   "source": [
    "IKernel kernel = new KernelBuilder()\n",
    "    .WithLogger(ConsoleLogger.Log)\n",
    "    .WithAzureTextCompletionService(deploymentName,endpoint, apiKey)\n",
    "    .Build();"
   ]
  },
  {
   "cell_type": "markdown",
   "metadata": {},
   "source": [
    "## Simple pipeline"
   ]
  },
  {
   "cell_type": "code",
   "execution_count": null,
   "metadata": {
    "dotnet_interactive": {
     "language": "csharp"
    },
    "polyglot_notebook": {
     "kernelName": "csharp"
    },
    "vscode": {
     "languageId": "polyglot-notebook"
    }
   },
   "outputs": [],
   "source": [
    "Console.WriteLine(\"======== Pipeline ========\");\n",
    "\n",
    "// Load native skills\n",
    "var text = kernel.ImportSkill(new TextSkill());\n",
    "\n",
    "// Create a new Skill\n",
    "class ConsoleSkill\n",
    "{\n",
    "    [SKFunction, Description(\"Trim whitespace from the start and end of a string.\")]\n",
    "    public string Log(string input)\n",
    "    {\n",
    "        Console.WriteLine(input);\n",
    "        return input;\n",
    "    }\n",
    "}\n",
    "var cskill = kernel.ImportSkill(new ConsoleSkill());"
   ]
  },
  {
   "cell_type": "markdown",
   "metadata": {},
   "source": [
    "### Use skills in a pipeline"
   ]
  },
  {
   "cell_type": "code",
   "execution_count": null,
   "metadata": {
    "dotnet_interactive": {
     "language": "csharp"
    },
    "polyglot_notebook": {
     "kernelName": "csharp"
    },
    "vscode": {
     "languageId": "polyglot-notebook"
    }
   },
   "outputs": [],
   "source": [
    "SKContext result = await kernel.RunAsync(\"    i n f i n i t e     s p a c e     \",\n",
    "    cskill[\"Log\"],\n",
    "    text[\"TrimStart\"],\n",
    "    cskill[\"Log\"],\n",
    "    text[\"TrimEnd\"],\n",
    "    cskill[\"Log\"],\n",
    "    text[\"Uppercase\"],\n",
    "    cskill[\"Log\"]);"
   ]
  },
  {
   "cell_type": "markdown",
   "metadata": {},
   "source": [
    "## LLM Pipeline"
   ]
  },
  {
   "cell_type": "markdown",
   "metadata": {},
   "source": [
    "### Create an in-line function to give funny excuses"
   ]
  },
  {
   "cell_type": "code",
   "execution_count": null,
   "metadata": {
    "dotnet_interactive": {
     "language": "csharp"
    },
    "polyglot_notebook": {
     "kernelName": "csharp"
    },
    "vscode": {
     "languageId": "polyglot-notebook"
    }
   },
   "outputs": [],
   "source": [
    "const string FunctionDefinition = @\"\n",
    "Generate a creative reason or excuse for the given event.\n",
    "Be creative and be funny. Let your imagination run wild.\n",
    "\n",
    "Event: I am running late.\n",
    "Excuse: I was being held ransom by giraffe gangsters.\n",
    "\n",
    "Event: I haven't been to the gym for a year\n",
    "Excuse: I've been too busy training my pet dragon.\n",
    "\n",
    "Event: {{$input}}\n",
    "\";\n",
    "\n",
    "var excuseFunction = kernel.CreateSemanticFunction(FunctionDefinition, maxTokens: 100, temperature: 0.4, topP: 1);"
   ]
  },
  {
   "cell_type": "markdown",
   "metadata": {},
   "source": [
    "### Execute the excuses plugin"
   ]
  },
  {
   "cell_type": "code",
   "execution_count": null,
   "metadata": {
    "dotnet_interactive": {
     "language": "csharp"
    },
    "polyglot_notebook": {
     "kernelName": "csharp"
    },
    "vscode": {
     "languageId": "polyglot-notebook"
    }
   },
   "outputs": [],
   "source": [
    "var result = await excuseFunction.InvokeAsync(\"I missed the F1 final race\");\n",
    "Console.WriteLine(result);"
   ]
  },
  {
   "cell_type": "markdown",
   "metadata": {},
   "source": [
    "### Pipe the excuses plugin and uppercase the output"
   ]
  },
  {
   "cell_type": "code",
   "execution_count": null,
   "metadata": {
    "dotnet_interactive": {
     "language": "csharp"
    },
    "polyglot_notebook": {
     "kernelName": "csharp"
    },
    "vscode": {
     "languageId": "polyglot-notebook"
    }
   },
   "outputs": [],
   "source": [
    "SKContext result1 = await kernel.RunAsync(\"I missed your birthday\",\n",
    "    excuseFunction,\n",
    "    text[\"Uppercase\"]);\n",
    "\n",
    "Console.WriteLine(result1);"
   ]
  },
  {
   "cell_type": "markdown",
   "metadata": {},
   "source": [
    "### Import a function to summarize"
   ]
  },
  {
   "cell_type": "code",
   "execution_count": null,
   "metadata": {
    "dotnet_interactive": {
     "language": "csharp"
    },
    "polyglot_notebook": {
     "kernelName": "csharp"
    },
    "vscode": {
     "languageId": "polyglot-notebook"
    }
   },
   "outputs": [],
   "source": [
    "var sumSkill = kernel.ImportSemanticSkillFromDirectory(\n",
    "            \"./skills\",\n",
    "            \"SummarizeSkill\");"
   ]
  },
  {
   "cell_type": "markdown",
   "metadata": {},
   "source": [
    "### Execute a prompt, Summarize the output and uppercase it"
   ]
  },
  {
   "cell_type": "code",
   "execution_count": null,
   "metadata": {
    "dotnet_interactive": {
     "language": "csharp"
    },
    "polyglot_notebook": {
     "kernelName": "csharp"
    },
    "vscode": {
     "languageId": "polyglot-notebook"
    }
   },
   "outputs": [],
   "source": [
    "var ask = \"What's the tallest building in South America?\";\n",
    "\n",
    "var result2 = await kernel.RunAsync(\n",
    "    ask,\n",
    "    sumSkill[\"Summarize\"],\n",
    "    text[\"Uppercase\"]\n",
    ");\n",
    "\n",
    "Console.WriteLine(result2);"
   ]
  }
 ],
 "metadata": {
  "language_info": {
   "name": "python"
  },
  "orig_nbformat": 4
 },
 "nbformat": 4,
 "nbformat_minor": 2
}
