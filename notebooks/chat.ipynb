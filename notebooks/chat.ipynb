{
 "cells": [
  {
   "cell_type": "markdown",
   "metadata": {},
   "source": [
    "# Semantic-Kernel Bot\n",
    "\n",
    "- A bot keeps a history of the conversation\n",
    "\n",
    "## Load Required .NET Packages"
   ]
  },
  {
   "cell_type": "code",
   "execution_count": 17,
   "metadata": {
    "dotnet_interactive": {
     "language": "csharp"
    },
    "polyglot_notebook": {
     "kernelName": "csharp"
    },
    "vscode": {
     "languageId": "polyglot-notebook"
    }
   },
   "outputs": [
    {
     "data": {
      "text/html": [
       "<div><div></div><div></div><div><strong>Installed Packages</strong><ul><li><span>dotenv.net, 3.1.2</span></li><li><span>Microsoft.SemanticKernel, 0.17.230626.1-preview</span></li></ul></div></div>"
      ]
     },
     "metadata": {},
     "output_type": "display_data"
    }
   ],
   "source": [
    "#r \"nuget: Microsoft.SemanticKernel, 0.17.230626.1-preview\"\n",
    "#r \"nuget: dotenv.net\"\n",
    "\n",
    "using System.Net.Http;\n",
    "using Microsoft.SemanticKernel;\n",
    "using Microsoft.SemanticKernel.AI.ImageGeneration;\n",
    "using Microsoft.SemanticKernel.AI.ChatCompletion;\n",
    "using Microsoft.SemanticKernel.Connectors.AI.OpenAI.ChatCompletion;\n",
    "using dotenv.net;\n",
    "using InteractiveKernel = Microsoft.DotNet.Interactive.Kernel;"
   ]
  },
  {
   "cell_type": "markdown",
   "metadata": {},
   "source": [
    "## Load Environment Variables"
   ]
  },
  {
   "cell_type": "code",
   "execution_count": 29,
   "metadata": {
    "dotnet_interactive": {
     "language": "csharp"
    },
    "polyglot_notebook": {
     "kernelName": "csharp"
    },
    "vscode": {
     "languageId": "polyglot-notebook"
    }
   },
   "outputs": [
    {
     "name": "stdout",
     "output_type": "stream",
     "text": [
      "Using deployment: gpt at https://alemorfr.openai.azure.com/ with key 32c87...\n"
     ]
    }
   ],
   "source": [
    "DotEnv.Load();\n",
    "var depoymentName = Environment.GetEnvironmentVariable(\"DEPLOYMENT_NAME\");\n",
    "var endpoint = Environment.GetEnvironmentVariable(\"ENDPOINT\");\n",
    "var apiKey = Environment.GetEnvironmentVariable(\"API_KEY\");\n",
    "Console.WriteLine($\"Using deployment: {depoymentName} at {endpoint} with key {apiKey.Substring(0, 5)}...\");"
   ]
  },
  {
   "cell_type": "markdown",
   "metadata": {},
   "source": [
    "## Get an instance for a HttpClient\n",
    "\n",
    "**> Note:** This is not necessary, but it may help prevent port exhaustion issues."
   ]
  },
  {
   "cell_type": "code",
   "execution_count": null,
   "metadata": {
    "dotnet_interactive": {
     "language": "csharp"
    },
    "polyglot_notebook": {
     "kernelName": "csharp"
    },
    "vscode": {
     "languageId": "polyglot-notebook"
    }
   },
   "outputs": [],
   "source": [
    "// Note: This may be good practice depending on your use case. Otherwise, an HttpClient will be created for you.\n",
    "var httpClient = new HttpClient();"
   ]
  },
  {
   "cell_type": "markdown",
   "metadata": {},
   "source": [
    "## Build a Kernel\n",
    "\n",
    "- Registration: `WithAzureChatCompletionServices` registers an ICompletion service with the kernel\n",
    "- Retries: Kernel API calls come with default retry logic for timeouts and throttling."
   ]
  },
  {
   "cell_type": "code",
   "execution_count": 38,
   "metadata": {
    "dotnet_interactive": {
     "language": "csharp"
    },
    "polyglot_notebook": {
     "kernelName": "csharp"
    },
    "vscode": {
     "languageId": "polyglot-notebook"
    }
   },
   "outputs": [],
   "source": [
    "var kernel = new KernelBuilder()\n",
    "    .WithAzureChatCompletionService(depoymentName,endpoint,apiKey, httpClient: httpClient)\n",
    "    .Build();\n",
    "\n",
    "var systemMessage = \"You are a general assistant. Say Hello, I'm your friendly bot. How can I assist you today?\";"
   ]
  },
  {
   "cell_type": "markdown",
   "metadata": {},
   "source": [
    "## Get the registered service from the kernel and keep a conversation (a history)"
   ]
  },
  {
   "cell_type": "code",
   "execution_count": 36,
   "metadata": {
    "dotnet_interactive": {
     "language": "csharp"
    },
    "polyglot_notebook": {
     "kernelName": "csharp"
    },
    "vscode": {
     "languageId": "polyglot-notebook"
    }
   },
   "outputs": [],
   "source": [
    "// Get an IChatCompletion service from the kernel\n",
    "var chatGPT = kernel.GetService<IChatCompletion>();\n",
    "\n",
    "// Keep a history\n",
    "var conversation = (OpenAIChatHistory)chatGPT.CreateNewChat(systemMessage);"
   ]
  },
  {
   "cell_type": "markdown",
   "metadata": {},
   "source": [
    "## Call the bot for the first time"
   ]
  },
  {
   "cell_type": "code",
   "execution_count": 37,
   "metadata": {
    "dotnet_interactive": {
     "language": "csharp"
    },
    "polyglot_notebook": {
     "kernelName": "csharp"
    },
    "vscode": {
     "languageId": "polyglot-notebook"
    }
   },
   "outputs": [
    {
     "name": "stdout",
     "output_type": "stream",
     "text": [
      "\n",
      "Bot: Hello, I'm your friendly bot. How can I assist you today?\n"
     ]
    }
   ],
   "source": [
    "string assistantReply = await chatGPT.GenerateMessageAsync(conversation, new ChatRequestSettings());\n",
    "Console.WriteLine($\"\\nBot: {assistantReply}\");\n",
    "conversation.AddAssistantMessage(assistantReply);"
   ]
  },
  {
   "cell_type": "markdown",
   "metadata": {},
   "source": [
    "## Enter the while loop"
   ]
  },
  {
   "cell_type": "code",
   "execution_count": 32,
   "metadata": {
    "dotnet_interactive": {
     "language": "csharp"
    },
    "polyglot_notebook": {
     "kernelName": "csharp"
    },
    "vscode": {
     "languageId": "polyglot-notebook"
    }
   },
   "outputs": [
    {
     "name": "stdout",
     "output_type": "stream",
     "text": [
      "User: What is the speed of light?\n",
      "\n",
      "Bot: The speed of light is approximately 299,792,458 meters per second (or about 670,616,629 miles per hour). It is the fastest known speed in the universe and is used as a fundamental constant in many areas of physics and astronomy.\n",
      "User: What is the distance to the sun?\n",
      "\n",
      "Bot: The average distance from the Earth to the Sun is about 93 million miles (149.6 million kilometers). This distance is also known as an astronomical unit (AU) and is used as a standard unit of measurement in astronomy.\n",
      "User: List some top restaurants in Miami.\n",
      "\n",
      "Bot: Sure, here are some top restaurants in Miami:\n",
      "\n",
      "1. Joe's Stone Crab\n",
      "2. Yardbird Southern Table & Bar\n",
      "3. Versailles Restaurant\n",
      "4. La Mar by Gastón Acurio\n",
      "5. KYU\n",
      "6. Zuma\n",
      "7. Michael's Genuine Food & Drink\n",
      "8. Mandolin Aegean Bistro\n",
      "9. Alter\n",
      "10. The Bazaar by José Andrés\n",
      "\n",
      "Please note that this is not an exhaustive list and there are many other great restaurants in Miami as well.\n",
      "User: List some more.\n",
      "\n",
      "Bot: Sure, here are some more top restaurants in Miami:\n",
      "\n",
      "11. Naoe\n",
      "12. Ariete\n",
      "13. Stubborn Seed\n",
      "14. Upland\n",
      "15. Beaker & Gray\n",
      "16. Katsuya\n",
      "17. Casa Tua\n",
      "18. Makoto\n",
      "19. Prime 112\n",
      "20. The Rusty Pelican\n",
      "\n",
      "Again, this is not an exhaustive list and there are many other great restaurants in Miami to explore.\n",
      "User: history\n",
      "System: You are a general assistant.\n"
     ]
    },
    {
     "ename": "Error",
     "evalue": "Input request cancelled",
     "output_type": "error",
     "traceback": [
      "Input request cancelled"
     ]
    },
    {
     "ename": "Error",
     "evalue": "Input request cancelled",
     "output_type": "error",
     "traceback": [
      "Input request cancelled"
     ]
    },
    {
     "ename": "Error",
     "evalue": "System.Exception: Input request cancelled\n   at Microsoft.DotNet.Interactive.Kernel.GetInputAsync(String prompt, Boolean isPassword, String typeHint, String valueName) in D:\\a\\_work\\1\\s\\src\\Microsoft.DotNet.Interactive\\Kernel.Static.cs:line 79\n   at Microsoft.DotNet.Interactive.Kernel.GetInputAsync(String prompt, String typeHint, String valueName) in D:\\a\\_work\\1\\s\\src\\Microsoft.DotNet.Interactive\\Kernel.Static.cs:line 47\n   at Submission#33.<<Initialize>>d__0.MoveNext()\n--- End of stack trace from previous location ---\n   at Microsoft.CodeAnalysis.Scripting.ScriptExecutionState.RunSubmissionsAsync[TResult](ImmutableArray`1 precedingExecutors, Func`2 currentExecutor, StrongBox`1 exceptionHolderOpt, Func`2 catchExceptionOpt, CancellationToken cancellationToken)",
     "output_type": "error",
     "traceback": [
      "System.Exception: Input request cancelled\n",
      "   at Microsoft.DotNet.Interactive.Kernel.GetInputAsync(String prompt, Boolean isPassword, String typeHint, String valueName) in D:\\a\\_work\\1\\s\\src\\Microsoft.DotNet.Interactive\\Kernel.Static.cs:line 79\n",
      "   at Microsoft.DotNet.Interactive.Kernel.GetInputAsync(String prompt, String typeHint, String valueName) in D:\\a\\_work\\1\\s\\src\\Microsoft.DotNet.Interactive\\Kernel.Static.cs:line 47\n",
      "   at Submission#33.<<Initialize>>d__0.MoveNext()\n",
      "--- End of stack trace from previous location ---\n",
      "   at Microsoft.CodeAnalysis.Scripting.ScriptExecutionState.RunSubmissionsAsync[TResult](ImmutableArray`1 precedingExecutors, Func`2 currentExecutor, StrongBox`1 exceptionHolderOpt, Func`2 catchExceptionOpt, CancellationToken cancellationToken)"
     ]
    }
   ],
   "source": [
    "while (true) {\n",
    "    var userMessage = await InteractiveKernel.GetInputAsync(\"Your message\");\n",
    "    Console.WriteLine($\"User: {userMessage}\");\n",
    "    conversation.AddUserMessage(userMessage);\n",
    "    if (userMessage == \"history\") {\n",
    "        foreach (var message in chat.Messages) {\n",
    "            Console.WriteLine(message.Role+ \": \" + message.Content);\n",
    "        }\n",
    "        continue;\n",
    "    }\n",
    "    string assistantReply = await chatGPT.GenerateMessageAsync(conversation, new ChatRequestSettings());\n",
    "    // or\n",
    "    //IReadOnlyList<ITextResult> completionResults = await chatGPT.GetCompletionsAsync(conversation, new CompleteRequestSettings() { MaxTokens = 100, Temperature = 0.4, TopP = 1 });\n",
    "    //Console.WriteLine(await completionResults[0].GetCompletionAsync());\n",
    "    //Console.WriteLine(completionResults[0].ModelResult.GetOpenAIChatResult().Usage.AsJson());\n",
    "    //Console.WriteLine();\n",
    "\n",
    "    Console.WriteLine($\"\\nBot: {assistantReply}\");\n",
    "    // Add the message to the conversation history\n",
    "    conversation.AddAssistantMessage(assistantReply);\n",
    "}"
   ]
  }
 ],
 "metadata": {
  "language_info": {
   "name": "python"
  },
  "orig_nbformat": 4
 },
 "nbformat": 4,
 "nbformat_minor": 2
}
