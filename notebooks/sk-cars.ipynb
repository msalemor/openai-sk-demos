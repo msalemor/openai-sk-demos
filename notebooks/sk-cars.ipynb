{
 "cells": [
  {
   "cell_type": "markdown",
   "metadata": {},
   "source": [
    "# SK Car Sales Descriptions in English and Spanish\n",
    "\n",
    "- Get a list of cars and for each car get a sales descriptions in English and translate it into Spanish."
   ]
  },
  {
   "cell_type": "markdown",
   "metadata": {},
   "source": [
    "## Load the required .NET packages and supporting classes"
   ]
  },
  {
   "cell_type": "code",
   "execution_count": 1,
   "metadata": {
    "dotnet_interactive": {
     "language": "csharp"
    },
    "polyglot_notebook": {
     "kernelName": "csharp"
    },
    "vscode": {
     "languageId": "polyglot-notebook"
    }
   },
   "outputs": [
    {
     "data": {
      "text/html": [
       "<div><div></div><div></div><div><strong>Installed Packages</strong><ul><li><span>dotenv.net, 3.1.2</span></li><li><span>Microsoft.EntityFrameworkCore.Sqlite, 7.0.9</span></li><li><span>Microsoft.Extensions.Logging.Console, 7.0.0</span></li><li><span>Microsoft.SemanticKernel, 0.18.230725.3-preview</span></li></ul></div></div>"
      ]
     },
     "metadata": {},
     "output_type": "display_data"
    }
   ],
   "source": [
    "#r \"nuget: Microsoft.SemanticKernel, 0.18.230725.3-preview\"\n",
    "#r \"nuget: Microsoft.Extensions.Logging.Console, 7.0.0\"\n",
    "#r \"nuget: Microsoft.EntityFrameworkCore.Sqlite, 7.0.9\"\n",
    "#r \"nuget: dotenv.net, 3.1.2\"\n",
    "\n",
    "using System.ComponentModel;\n",
    "using System.Net.Http;\n",
    "using System.Text.Json;\n",
    "using System.Text.Json.Serialization;\n",
    "using Microsoft.Extensions.Logging;\n",
    "using Microsoft.SemanticKernel;\n",
    "using Microsoft.SemanticKernel.Skills.Core;\n",
    "using Microsoft.SemanticKernel.SkillDefinition;\n",
    "using Microsoft.EntityFrameworkCore;\n",
    "using dotenv.net;\n",
    "using InteractiveKernel = Microsoft.DotNet.Interactive.Kernel;\n",
    "\n",
    "#!import Utils/ConsoleLogger.cs\n",
    "#!import Models/Models.cs\n",
    "\n",
    "// Json Options\n",
    "readonly JsonSerializerOptions s_jsonOptions = new() { WriteIndented = true };"
   ]
  },
  {
   "cell_type": "code",
   "execution_count": 2,
   "metadata": {
    "dotnet_interactive": {
     "language": "csharp"
    },
    "polyglot_notebook": {
     "kernelName": "csharp"
    },
    "vscode": {
     "languageId": "polyglot-notebook"
    }
   },
   "outputs": [],
   "source": [
    "class CarsDbContext : DbContext\n",
    "{\n",
    "    public DbSet<CarEF> Users { get; set; }\n",
    "\n",
    "    public CarsDbContext()\n",
    "    {\n",
    "    }\n",
    "\n",
    "    public CarsDbContext(DbContextOptions<CarsDbContext> options) : base(options)\n",
    "    {\n",
    "    }\n",
    "}\n",
    "\n",
    "public class CarEF\n",
    "{\n",
    "    public string VIN { get; set; }\n",
    "    public string Make { get; set; }\n",
    "    public string Model { get; set; }\n",
    "    public int Year { get; set; }\n",
    "    public string Package {get;set;}\n",
    "    public string Motor {get;set;}\n",
    "    public double Price {get;set;}\n",
    "}"
   ]
  },
  {
   "cell_type": "markdown",
   "metadata": {},
   "source": [
    "## Load the OpenAI variables from environment variables or an .env file"
   ]
  },
  {
   "cell_type": "code",
   "execution_count": 3,
   "metadata": {
    "dotnet_interactive": {
     "language": "csharp"
    },
    "polyglot_notebook": {
     "kernelName": "csharp"
    },
    "vscode": {
     "languageId": "polyglot-notebook"
    }
   },
   "outputs": [
    {
     "name": "stdout",
     "output_type": "stream",
     "text": [
      "Using deployment: davinci at: https://eualemor.openai.azure.com/ with key bd987...\n"
     ]
    }
   ],
   "source": [
    "DotEnv.Load();\n",
    "var deploymentName = Environment.GetEnvironmentVariable(\"DAVINCI_OPENAI_DEPLOYMENT_NAME\");\n",
    "var endpoint = Environment.GetEnvironmentVariable(\"DAVINCI_OPENAI_ENDPOINT\");\n",
    "var apiKey = Environment.GetEnvironmentVariable(\"DAVINCI_OPENAI_KEY\");\n",
    "Console.WriteLine($\"Using deployment: {deploymentName} at: {endpoint} with key {apiKey.Substring(0, 5)}...\");"
   ]
  },
  {
   "cell_type": "markdown",
   "metadata": {},
   "source": [
    "## Mock a database call to get the a list of cars"
   ]
  },
  {
   "cell_type": "code",
   "execution_count": 4,
   "metadata": {
    "dotnet_interactive": {
     "language": "csharp"
    },
    "polyglot_notebook": {
     "kernelName": "csharp"
    },
    "vscode": {
     "languageId": "polyglot-notebook"
    }
   },
   "outputs": [],
   "source": [
    "var mockCarData = new List<Car>{\n",
    "    new Car(\"123\",\"Ford\", \"Explorer\", 2015, \"Silver\", \"V6\", \"Platinum\", 10000, 16500),\n",
    "    new Car(\"456\",\"Ford\", \"Mustang\", 2018, \"Blue\", \"V8\", \"Sports\", 10000, 250000),\n",
    "    new Car(\"789\",\"Ford\", \"Escape\", 2020, \"Red\", \"V6\",\"Special\", 3000, 15000)\n",
    "  };\n",
    "  \n",
    "List<Car> MockDBCall() {  \n",
    "  return mockCarData;\n",
    "}"
   ]
  },
  {
   "cell_type": "markdown",
   "metadata": {},
   "source": [
    "## Function to get a short car description from the car properties"
   ]
  },
  {
   "cell_type": "code",
   "execution_count": 5,
   "metadata": {
    "dotnet_interactive": {
     "language": "csharp"
    },
    "polyglot_notebook": {
     "kernelName": "csharp"
    },
    "vscode": {
     "languageId": "polyglot-notebook"
    }
   },
   "outputs": [],
   "source": [
    "string GetCarDescription(Car car) {\n",
    "  return $\"{car.Year} {car.Make} {car.Model} {car.Color} {car.Motor} {car.Package} with {car.milage} miles for ${car.price}\";\n",
    "}"
   ]
  },
  {
   "cell_type": "markdown",
   "metadata": {},
   "source": [
    "## Create an instance of a kernel"
   ]
  },
  {
   "cell_type": "code",
   "execution_count": 6,
   "metadata": {
    "dotnet_interactive": {
     "language": "csharp"
    },
    "polyglot_notebook": {
     "kernelName": "csharp"
    },
    "vscode": {
     "languageId": "polyglot-notebook"
    }
   },
   "outputs": [],
   "source": [
    "var kernel = new KernelBuilder()\n",
    "    .WithLogger(ConsoleLogger.Log)\n",
    "    .WithAzureTextCompletionService(deploymentName,endpoint, apiKey)\n",
    "    .Build();"
   ]
  },
  {
   "cell_type": "markdown",
   "metadata": {},
   "source": [
    "## Create the sales definition and translation in-line functions and add them to the kernel"
   ]
  },
  {
   "cell_type": "code",
   "execution_count": 7,
   "metadata": {
    "dotnet_interactive": {
     "language": "csharp"
    },
    "polyglot_notebook": {
     "kernelName": "csharp"
    },
    "vscode": {
     "languageId": "polyglot-notebook"
    }
   },
   "outputs": [],
   "source": [
    "// Define a function to get a used car sales description\n",
    "const string fnSalesDefinition = @\"Get a used car sales description for the following: \n",
    "{{$input}}.\";\n",
    "\n",
    "var salesDescriptionFunc = kernel.CreateSemanticFunction(fnSalesDefinition, \n",
    "    maxTokens: 200, temperature: 0.5, topP: 1);\n",
    "\n",
    "// Define a function to translate English to Spanish\n",
    "const string fnESTranslatorDefinition = @\"Translate the following English text to Spanish: \n",
    "{{$input}}.\";\n",
    "\n",
    "var esTranslatorFunc = kernel.CreateSemanticFunction(fnESTranslatorDefinition, \n",
    "maxTokens: 200, temperature: 0.5, topP: 1);"
   ]
  },
  {
   "cell_type": "markdown",
   "metadata": {},
   "source": [
    "## Using the kernel and sk functions, get a car sales description and translate it into Spanish"
   ]
  },
  {
   "cell_type": "code",
   "execution_count": 8,
   "metadata": {
    "dotnet_interactive": {
     "language": "csharp"
    },
    "polyglot_notebook": {
     "kernelName": "csharp"
    },
    "vscode": {
     "languageId": "polyglot-notebook"
    }
   },
   "outputs": [],
   "source": [
    "// Mock making a call to a database to get a list of cars\n",
    "var cars = MockDBCall();\n",
    "var text = kernel.ImportSkill(new TextSkill());\n",
    "var carDesc = GetCarDescription(cars[0]);"
   ]
  },
  {
   "cell_type": "markdown",
   "metadata": {},
   "source": [
    "## Get a sales description, translate it and Uppercase it in a pipe"
   ]
  },
  {
   "cell_type": "code",
   "execution_count": 9,
   "metadata": {
    "dotnet_interactive": {
     "language": "csharp"
    },
    "polyglot_notebook": {
     "kernelName": "csharp"
    },
    "vscode": {
     "languageId": "polyglot-notebook"
    }
   },
   "outputs": [
    {
     "name": "stdout",
     "output_type": "stream",
     "text": [
      "\n",
      "\n",
      "¡ESTA ES UNA GRAN OFERTA PARA UN FORD EXPLORER SILVER V6 PLATINUM DEL 2015 CON SOLO 10.000 MILLAS! ESTÁ EN EXCELENTES CONDICIONES Y ESTÁ CARGADO DE CARACTERÍSTICAS COMO ASIENTOS DE CUERO, UN TECHO SOLAR ELÉCTRICO Y UNA CÁMARA TRASERA. EL MOTOR V6 PROPORCIONA MUCHA POTENCIA Y EL ACABADO PLATINUM LE DA LUJOSAS COMODIDADES COMO UN PANEL DE INSTRUMENTOS DIGITAL Y PEDALES AJUSTABLES ELÉCTRICAMENTE. ¡NO TE PIERDAS ESTA INCREÍBLE OPORTUNIDAD DE POSEER ESTE HERMOSO SUV POR SOLO $16.500!\n"
     ]
    }
   ],
   "source": [
    "\n",
    "var pipeLineResult = await kernel.RunAsync(carDesc,\n",
    "  salesDescriptionFunc,\n",
    "  esTranslatorFunc,\n",
    "  text[\"Uppercase\"]);\n",
    "\n",
    "Console.WriteLine(pipeLineResult);"
   ]
  },
  {
   "cell_type": "markdown",
   "metadata": {},
   "source": [
    "## Get a sales description and a translation for all the cars in the mock database"
   ]
  },
  {
   "cell_type": "code",
   "execution_count": 10,
   "metadata": {
    "dotnet_interactive": {
     "language": "csharp"
    },
    "polyglot_notebook": {
     "kernelName": "csharp"
    },
    "vscode": {
     "languageId": "polyglot-notebook"
    }
   },
   "outputs": [
    {
     "name": "stdout",
     "output_type": "stream",
     "text": [
      "Processing: 2015 Ford Explorer Silver V6 Platinum with 10000 miles for $16500\n",
      "Sales Description: \n",
      "\n",
      "This 2015 Ford Explorer Platinum is the perfect combination of luxury and power. It is finished in a sleek silver exterior that stands out from the crowd, and it is powered by a V6 engine that provides plenty of power. With only 10,000 miles, this Explorer is in excellent condition and ready for its next owner. Inside, you'll find a luxurious interior with all the bells and whistles you could want. Enjoy features like leather seating, a power moonroof, and a premium sound system. All of this is available for the great price of only $16,500. Don't miss your chance to own this beautiful Ford Explorer!\n",
      "{\n",
      "  \"CompletionTokens\": 131,\n",
      "  \"PromptTokens\": 27,\n",
      "  \"TotalTokens\": 158\n",
      "}\n",
      "Translation: \n",
      "\n",
      "Este Ford Explorer Platinum 2015 es la combinación perfecta de lujo y potencia. Está terminado en un elegante exterior plateado que destaca entre la multitud, y está alimentado por un motor V6 que proporciona una gran cantidad de poder. Con solo 10,000 millas, este Explorer está en excelentes condiciones y listo para su próximo dueño. En el interior, encontrarás un lujoso interior con todos los adornos que podrías querer. Disfruta de características como asientos de cuero, un techo corredizo eléctrico y un sistema de sonido premium. Todo esto está disponible por el gran precio de solo $16,500. ¡No te pierdas la oportunidad\n",
      "Processing: 2018 Ford Mustang Blue V8 Sports with 10000 miles for $250000\n",
      "Sales Description: \n",
      "\n",
      "This is your chance to own a piece of automotive history! This 2018 Ford Mustang Blue V8 Sports is a one-of-a-kind classic with only 10,000 miles on it. It has a powerful V8 engine, sleek exterior, and a comfortable interior. With a price tag of only $250,000, you can take this classic car home and enjoy it for years to come. Don't miss out on this amazing opportunity to own a piece of automotive history!\n",
      "{\n",
      "  \"CompletionTokens\": 99,\n",
      "  \"PromptTokens\": 27,\n",
      "  \"TotalTokens\": 126\n",
      "}\n",
      "Translation: \n",
      "\n",
      "¡Esta es tu oportunidad de tener una pieza de la historia automotriz! Este Ford Mustang Azul V8 Sport de 2018 es único con solo 10,000 millas. Tiene un poderoso motor V8, un exterior elegante y un interior cómodo. Con un precio de solo $250,000, puedes llevar a casa este clásico automóvil y disfrutarlo durante años. ¡No te pierdas esta increíble oportunidad de tener una pieza de la historia automotriz!\n",
      "Processing: 2020 Ford Escape Red V6 Special with 3000 miles for $15000\n",
      "Sales Description: \n",
      "\n",
      "This is your chance to own a 2020 Ford Escape Red V6 Special with only 3000 miles for an amazing price of just $15000! This vehicle has been well maintained and is in excellent condition. It features a powerful V6 engine and special features including power windows, power locks, air conditioning, and more. Don't miss out on this incredible opportunity to own a reliable and stylish car for a fraction of the cost. Come in today and take this Ford Escape Red V6 Special for a test drive!\n",
      "{\n",
      "  \"CompletionTokens\": 104,\n",
      "  \"PromptTokens\": 27,\n",
      "  \"TotalTokens\": 131\n",
      "}\n",
      "Translation: \n",
      "\n",
      "¡Esta es tu oportunidad de tener un Ford Escape Red V6 Especial 2020 con solo 3000 millas a un precio increíble de solo $15000! Este vehículo ha sido bien mantenido y está en excelentes condiciones. Cuenta con un potente motor V6 y características especiales como ventanas eléctricas, cerraduras eléctricas, aire acondicionado y más. No te pierdas esta increíble oportunidad de tener un auto confiable y elegante por una fracción del costo. ¡Ven hoy y haz una prueba de manejo de este Ford Escape Red V6 Especial!\n"
     ]
    },
    {
     "data": {
      "text/html": [
       "<table><thead><tr><th><i>index</i></th><th>value</th></tr></thead><tbody><tr><td>0</td><td><details class=\"dni-treeview\"><summary><span class=\"dni-code-hint\"><code>CarTranslation { VIN = 123, En = \\n\\nThis 2015 Ford Explorer Platinum is the perfect combination of luxury and power. It is finished in a sleek silver exterior that stands out from the crowd, and it is powered by a V6 engine that provides plenty of power. With only 10,000 miles, this Explorer is in ...</code></span></summary><div><table><thead><tr></tr></thead><tbody><tr><td>VIN</td><td>123</td></tr><tr><td>En</td><td>\n",
       "\n",
       "This 2015 Ford Explorer Platinum is the perfect combination of luxury and power. It is finished in a sleek silver exterior that stands out from the crowd, and it is powered by a V6 engine that provides plenty of power. With only 10,000 miles, this Explorer is in excellent condition and ready for its next owner. Inside, you&#39;ll find a luxurious interior with all the bells and whistles you could want. Enjoy features like leather seating, a power moonroof, and a premium sound system. All of this is available for the great price of only $16,500. Don&#39;t miss your chance to own this beautiful Ford Explorer!</td></tr><tr><td>ES</td><td>\n",
       "\n",
       "Este Ford Explorer Platinum 2015 es la combinaci&#243;n perfecta de lujo y potencia. Est&#225; terminado en un elegante exterior plateado que destaca entre la multitud, y est&#225; alimentado por un motor V6 que proporciona una gran cantidad de poder. Con solo 10,000 millas, este Explorer est&#225; en excelentes condiciones y listo para su pr&#243;ximo due&#241;o. En el interior, encontrar&#225;s un lujoso interior con todos los adornos que podr&#237;as querer. Disfruta de caracter&#237;sticas como asientos de cuero, un techo corredizo el&#233;ctrico y un sistema de sonido premium. Todo esto est&#225; disponible por el gran precio de solo $16,500. &#161;No te pierdas la oportunidad</td></tr></tbody></table></div></details></td></tr><tr><td>1</td><td><details class=\"dni-treeview\"><summary><span class=\"dni-code-hint\"><code>CarTranslation { VIN = 456, En = \\n\\nThis is your chance to own a piece of automotive history! This 2018 Ford Mustang Blue V8 Sports is a one-of-a-kind classic with only 10,000 miles on it. It has a powerful V8 engine, sleek exterior, and a comfortable interior. With a price tag of only $250,000, yo...</code></span></summary><div><table><thead><tr></tr></thead><tbody><tr><td>VIN</td><td>456</td></tr><tr><td>En</td><td>\n",
       "\n",
       "This is your chance to own a piece of automotive history! This 2018 Ford Mustang Blue V8 Sports is a one-of-a-kind classic with only 10,000 miles on it. It has a powerful V8 engine, sleek exterior, and a comfortable interior. With a price tag of only $250,000, you can take this classic car home and enjoy it for years to come. Don&#39;t miss out on this amazing opportunity to own a piece of automotive history!</td></tr><tr><td>ES</td><td>\n",
       "\n",
       "&#161;Esta es tu oportunidad de tener una pieza de la historia automotriz! Este Ford Mustang Azul V8 Sport de 2018 es &#250;nico con solo 10,000 millas. Tiene un poderoso motor V8, un exterior elegante y un interior c&#243;modo. Con un precio de solo $250,000, puedes llevar a casa este cl&#225;sico autom&#243;vil y disfrutarlo durante a&#241;os. &#161;No te pierdas esta incre&#237;ble oportunidad de tener una pieza de la historia automotriz!</td></tr></tbody></table></div></details></td></tr><tr><td>2</td><td><details class=\"dni-treeview\"><summary><span class=\"dni-code-hint\"><code>CarTranslation { VIN = 789, En = \\n\\nThis is your chance to own a 2020 Ford Escape Red V6 Special with only 3000 miles for an amazing price of just $15000! This vehicle has been well maintained and is in excellent condition. It features a powerful V6 engine and special features including power windo...</code></span></summary><div><table><thead><tr></tr></thead><tbody><tr><td>VIN</td><td>789</td></tr><tr><td>En</td><td>\n",
       "\n",
       "This is your chance to own a 2020 Ford Escape Red V6 Special with only 3000 miles for an amazing price of just $15000! This vehicle has been well maintained and is in excellent condition. It features a powerful V6 engine and special features including power windows, power locks, air conditioning, and more. Don&#39;t miss out on this incredible opportunity to own a reliable and stylish car for a fraction of the cost. Come in today and take this Ford Escape Red V6 Special for a test drive!</td></tr><tr><td>ES</td><td>\n",
       "\n",
       "&#161;Esta es tu oportunidad de tener un Ford Escape Red V6 Especial 2020 con solo 3000 millas a un precio incre&#237;ble de solo $15000! Este veh&#237;culo ha sido bien mantenido y est&#225; en excelentes condiciones. Cuenta con un potente motor V6 y caracter&#237;sticas especiales como ventanas el&#233;ctricas, cerraduras el&#233;ctricas, aire acondicionado y m&#225;s. No te pierdas esta incre&#237;ble oportunidad de tener un auto confiable y elegante por una fracci&#243;n del costo. &#161;Ven hoy y haz una prueba de manejo de este Ford Escape Red V6 Especial!</td></tr></tbody></table></div></details></td></tr></tbody></table><style>\r\n",
       ".dni-code-hint {\r\n",
       "    font-style: italic;\r\n",
       "    overflow: hidden;\r\n",
       "    white-space: nowrap;\r\n",
       "}\r\n",
       ".dni-treeview {\r\n",
       "    white-space: nowrap;\r\n",
       "}\r\n",
       ".dni-treeview td {\r\n",
       "    vertical-align: top;\r\n",
       "    text-align: start;\r\n",
       "}\r\n",
       "details.dni-treeview {\r\n",
       "    padding-left: 1em;\r\n",
       "}\r\n",
       "table td {\r\n",
       "    text-align: start;\r\n",
       "}\r\n",
       "table tr { \r\n",
       "    vertical-align: top; \r\n",
       "    margin: 0em 0px;\r\n",
       "}\r\n",
       "table tr td pre \r\n",
       "{ \r\n",
       "    vertical-align: top !important; \r\n",
       "    margin: 0em 0px !important;\r\n",
       "} \r\n",
       "table th {\r\n",
       "    text-align: start;\r\n",
       "}\r\n",
       "</style>"
      ]
     },
     "metadata": {},
     "output_type": "display_data"
    }
   ],
   "source": [
    "// Run tasks asynchronously\n",
    "// var task1 = kernel.RunAsync(carDesc,salesDescriptionFunc);\n",
    "// var task2 = kernel.RunAsync(carDesc,salesDescriptionFunc);\n",
    "// await Task.WhenAll(task1,task2);\n",
    "// Console.WriteLine(task1.Result + \" \" + task2.Result);\n",
    "\n",
    "var processedCars = new List<CarTranslation>();\n",
    "foreach(var car in cars) {\n",
    "\n",
    "  // Get a short description given the car properties\n",
    "  var desc = GetCarDescription(car);\n",
    "  Console.WriteLine($\"Processing: {desc}\");\n",
    "  \n",
    "  // Use the SK sales description function to get a sales for a car\n",
    "  var result = await kernel.RunAsync(desc,salesDescriptionFunc);\n",
    "  Console.WriteLine($\"Sales Description: {result}\");\n",
    "\n",
    "  // Get the usage for the call\n",
    "  Console.WriteLine(JsonSerializer.Serialize(result.ModelResults.LastOrDefault()?.GetOpenAITextResult()?.Usage, s_jsonOptions));\n",
    "  \n",
    "  // Use the SK translation function to translate the sales description into Spanish\n",
    "  var es = await kernel.RunAsync(result.ToString(), esTranslatorFunc);\n",
    "  Console.WriteLine($\"Translation: {es}\");\n",
    "  \n",
    "  // Add processed the EN and ES sales description\n",
    "  processedCars.Add(new CarTranslation(car.VIN, result.ToString(), es.ToString()));\n",
    "}\n",
    "\n",
    "// Show the processed cars\n",
    "processedCars"
   ]
  }
 ],
 "metadata": {
  "language_info": {
   "name": "python"
  },
  "orig_nbformat": 4
 },
 "nbformat": 4,
 "nbformat_minor": 2
}
