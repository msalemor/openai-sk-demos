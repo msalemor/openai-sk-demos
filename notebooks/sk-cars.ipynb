{
 "cells": [
  {
   "cell_type": "markdown",
   "metadata": {},
   "source": [
    "# SK Car Sales Descriptions in English and Spanish\n",
    "\n",
    "- Get a list of cars and for each car get a sales descriptions in English and translate it into Spanish."
   ]
  },
  {
   "cell_type": "markdown",
   "metadata": {},
   "source": [
    "## Load the required .NET packages and supporting classes"
   ]
  },
  {
   "cell_type": "code",
   "execution_count": null,
   "metadata": {
    "dotnet_interactive": {
     "language": "csharp"
    },
    "polyglot_notebook": {
     "kernelName": "csharp"
    },
    "vscode": {
     "languageId": "polyglot-notebook"
    }
   },
   "outputs": [],
   "source": [
    "#r \"nuget: Microsoft.SemanticKernel, 0.17.230626.1-preview\"\n",
    "#r \"nuget: Microsoft.Extensions.Logging.Console, 7.0.0\"\n",
    "#r \"nuget: Microsoft.EntityFrameworkCore.Sqlite, 7.0.9\"\n",
    "#r \"nuget: dotenv.net, 3.1.2\"\n",
    "\n",
    "using System.ComponentModel;\n",
    "using System.Net.Http;\n",
    "using System.Text.Json;\n",
    "using System.Text.Json.Serialization;\n",
    "using Microsoft.Extensions.Logging;\n",
    "using Microsoft.SemanticKernel;\n",
    "using Microsoft.SemanticKernel.Skills.Core;\n",
    "using Microsoft.SemanticKernel.SkillDefinition;\n",
    "using Microsoft.EntityFrameworkCore;\n",
    "using dotenv.net;\n",
    "using InteractiveKernel = Microsoft.DotNet.Interactive.Kernel;\n",
    "\n",
    "#!import Utils/ConsoleLogger.cs\n",
    "#!import Models/Models.cs\n",
    "\n",
    "// Json Options\n",
    "readonly JsonSerializerOptions s_jsonOptions = new() { WriteIndented = true };"
   ]
  },
  {
   "cell_type": "code",
   "execution_count": null,
   "metadata": {
    "dotnet_interactive": {
     "language": "csharp"
    },
    "polyglot_notebook": {
     "kernelName": "csharp"
    },
    "vscode": {
     "languageId": "polyglot-notebook"
    }
   },
   "outputs": [],
   "source": [
    "class CarsDbContext : DbContext\n",
    "{\n",
    "    public DbSet<CarEF> Users { get; set; }\n",
    "\n",
    "    public CarsDbContext()\n",
    "    {\n",
    "    }\n",
    "\n",
    "    public CarsDbContext(DbContextOptions<CarsDbContext> options) : base(options)\n",
    "    {\n",
    "    }\n",
    "}\n",
    "\n",
    "public class CarEF\n",
    "{\n",
    "    public string VIN { get; set; }\n",
    "    public string Make { get; set; }\n",
    "    public string Model { get; set; }\n",
    "    public int Year { get; set; }\n",
    "    public string Package {get;set;}\n",
    "    public string Motor {get;set;}\n",
    "    public double Price {get;set;}\n",
    "}"
   ]
  },
  {
   "cell_type": "markdown",
   "metadata": {},
   "source": [
    "## Load the OpenAI variables from environment variables or an .env file"
   ]
  },
  {
   "cell_type": "code",
   "execution_count": null,
   "metadata": {
    "dotnet_interactive": {
     "language": "csharp"
    },
    "polyglot_notebook": {
     "kernelName": "csharp"
    },
    "vscode": {
     "languageId": "polyglot-notebook"
    }
   },
   "outputs": [],
   "source": [
    "DotEnv.Load();\n",
    "var deploymentName = Environment.GetEnvironmentVariable(\"DAVINCI_OPENAI_DEPLOYMENT_NAME\");\n",
    "var endpoint = Environment.GetEnvironmentVariable(\"DAVINCI_OPENAI_ENDPOINT\");\n",
    "var apiKey = Environment.GetEnvironmentVariable(\"DAVINCI_OPENAI_KEY\");\n",
    "Console.WriteLine($\"Using deployment: {deploymentName} at: {endpoint} with key {apiKey.Substring(0, 5)}...\");"
   ]
  },
  {
   "cell_type": "markdown",
   "metadata": {},
   "source": [
    "## Mock a database call to get the a list of cars"
   ]
  },
  {
   "cell_type": "code",
   "execution_count": null,
   "metadata": {
    "dotnet_interactive": {
     "language": "csharp"
    },
    "polyglot_notebook": {
     "kernelName": "csharp"
    },
    "vscode": {
     "languageId": "polyglot-notebook"
    }
   },
   "outputs": [],
   "source": [
    "var mockCarData = new List<Car>{\n",
    "    new Car(\"123\",\"Ford\", \"Explorer\", 2015, \"Silver\", \"V6\", \"Platinum\", 10000, 16500),\n",
    "    new Car(\"456\",\"Ford\", \"Mustang\", 2018, \"Blue\", \"V8\", \"Sports\", 10000, 250000),\n",
    "    new Car(\"789\",\"Ford\", \"Escape\", 2020, \"Red\", \"V6\",\"Special\", 3000, 15000)\n",
    "  };\n",
    "  \n",
    "List<Car> MockDBCall() {  \n",
    "  return mockCarData;\n",
    "}"
   ]
  },
  {
   "cell_type": "markdown",
   "metadata": {},
   "source": [
    "## Function to get a short car description from the car properties"
   ]
  },
  {
   "cell_type": "code",
   "execution_count": null,
   "metadata": {
    "dotnet_interactive": {
     "language": "csharp"
    },
    "polyglot_notebook": {
     "kernelName": "csharp"
    },
    "vscode": {
     "languageId": "polyglot-notebook"
    }
   },
   "outputs": [],
   "source": [
    "string GetCarDescription(Car car) {\n",
    "  return $\"{car.Year} {car.Make} {car.Model} {car.Color} {car.Motor} {car.Package} with {car.milage} miles for ${car.price}\";\n",
    "}"
   ]
  },
  {
   "cell_type": "markdown",
   "metadata": {},
   "source": [
    "## Create an instance of a kernel"
   ]
  },
  {
   "cell_type": "code",
   "execution_count": null,
   "metadata": {
    "dotnet_interactive": {
     "language": "csharp"
    },
    "polyglot_notebook": {
     "kernelName": "csharp"
    },
    "vscode": {
     "languageId": "polyglot-notebook"
    }
   },
   "outputs": [],
   "source": [
    "var kernel = new KernelBuilder()\n",
    "    .WithLogger(ConsoleLogger.Log)\n",
    "    .WithAzureTextCompletionService(deploymentName,endpoint, apiKey)\n",
    "    .Build();"
   ]
  },
  {
   "cell_type": "markdown",
   "metadata": {},
   "source": [
    "## Create the sales definition and translation in-line functions and add them to the kernel"
   ]
  },
  {
   "cell_type": "code",
   "execution_count": null,
   "metadata": {
    "dotnet_interactive": {
     "language": "csharp"
    },
    "polyglot_notebook": {
     "kernelName": "csharp"
    },
    "vscode": {
     "languageId": "polyglot-notebook"
    }
   },
   "outputs": [],
   "source": [
    "// Define a function to get a used car sales description\n",
    "const string fnSalesDefinition = @\"Get a used car sales description for the following: \n",
    "{{$input}}.\";\n",
    "\n",
    "var salesDescriptionFunc = kernel.CreateSemanticFunction(fnSalesDefinition, \n",
    "    maxTokens: 200, temperature: 0.5, topP: 1);\n",
    "\n",
    "// Define a function to translate English to Spanish\n",
    "const string fnESTranslatorDefinition = @\"Translate the following English text to Spanish: \n",
    "{{$input}}.\";\n",
    "\n",
    "var esTranslatorFunc = kernel.CreateSemanticFunction(fnESTranslatorDefinition, \n",
    "maxTokens: 200, temperature: 0.5, topP: 1);"
   ]
  },
  {
   "cell_type": "markdown",
   "metadata": {},
   "source": [
    "## Using the kernel and sk functions, get a car sales description and translate it into Spanish"
   ]
  },
  {
   "cell_type": "code",
   "execution_count": null,
   "metadata": {
    "dotnet_interactive": {
     "language": "csharp"
    },
    "polyglot_notebook": {
     "kernelName": "csharp"
    },
    "vscode": {
     "languageId": "polyglot-notebook"
    }
   },
   "outputs": [],
   "source": [
    "// Mock making a call to a database to get a list of cars\n",
    "var cars = MockDBCall();\n",
    "var text = kernel.ImportSkill(new TextSkill());\n",
    "var carDesc = GetCarDescription(cars[0]);"
   ]
  },
  {
   "cell_type": "markdown",
   "metadata": {},
   "source": [
    "## Get a sales description, translate it and Uppercase it in a pipe"
   ]
  },
  {
   "cell_type": "code",
   "execution_count": null,
   "metadata": {
    "dotnet_interactive": {
     "language": "csharp"
    },
    "polyglot_notebook": {
     "kernelName": "csharp"
    },
    "vscode": {
     "languageId": "polyglot-notebook"
    }
   },
   "outputs": [],
   "source": [
    "\n",
    "var pipeLineResult = await kernel.RunAsync(carDesc,\n",
    "  salesDescriptionFunc,\n",
    "  esTranslatorFunc,\n",
    "  text[\"Uppercase\"]);\n",
    "\n",
    "Console.WriteLine(pipeLineResult);"
   ]
  },
  {
   "cell_type": "markdown",
   "metadata": {},
   "source": [
    "## Get a sales description and a translation for all the cars in the mock database"
   ]
  },
  {
   "cell_type": "code",
   "execution_count": null,
   "metadata": {
    "dotnet_interactive": {
     "language": "csharp"
    },
    "polyglot_notebook": {
     "kernelName": "csharp"
    },
    "vscode": {
     "languageId": "polyglot-notebook"
    }
   },
   "outputs": [],
   "source": [
    "// Run tasks asynchronously\n",
    "// var task1 = kernel.RunAsync(carDesc,salesDescriptionFunc);\n",
    "// var task2 = kernel.RunAsync(carDesc,salesDescriptionFunc);\n",
    "// await Task.WhenAll(task1,task2);\n",
    "// Console.WriteLine(task1.Result + \" \" + task2.Result);\n",
    "\n",
    "var processedCars = new List<CarTranslation>();\n",
    "foreach(var car in cars) {\n",
    "\n",
    "  // Get a short description given the car properties\n",
    "  var desc = GetCarDescription(car);\n",
    "  Console.WriteLine($\"Processing: {desc}\");\n",
    "  \n",
    "  // Use the SK sales description function to get a sales for a car\n",
    "  var result = await kernel.RunAsync(desc,salesDescriptionFunc);\n",
    "  Console.WriteLine($\"Sales Description: {result}\");\n",
    "\n",
    "  // Get the usage for the call\n",
    "  Console.WriteLine(JsonSerializer.Serialize(result.ModelResults.LastOrDefault()?.GetOpenAITextResult()?.Usage, s_jsonOptions));\n",
    "  \n",
    "  // Use the SK translation function to translate the sales description into Spanish\n",
    "  var es = await kernel.RunAsync(result.ToString(), esTranslatorFunc);\n",
    "  Console.WriteLine($\"Translation: {es}\");\n",
    "  \n",
    "  // Add processed the EN and ES sales description\n",
    "  processedCars.Add(new CarTranslation(car.VIN, result.ToString(), es.ToString()));\n",
    "}\n",
    "\n",
    "// Show the processed cars\n",
    "processedCars"
   ]
  }
 ],
 "metadata": {
  "language_info": {
   "name": "python"
  },
  "orig_nbformat": 4
 },
 "nbformat": 4,
 "nbformat_minor": 2
}
