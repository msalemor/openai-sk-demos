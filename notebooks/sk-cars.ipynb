{
 "cells": [
  {
   "cell_type": "markdown",
   "metadata": {},
   "source": [
    "# English and Spanish used cars sales description using SK<br/>Text generation scenario\n",
    "\n",
    "Learning objectives:\n",
    "\n",
    "- What does SK provide for me?\n",
    "  - A configurable Kernel with pluggable architecture\n",
    "  - The models to work with the OpenAI endpoints\n",
    "  - A resilient HttpClient that can handle disconnections and throttlihg\n",
    "  - SK functions that can be pipe to achieve complex orchestrations such a text generation and transaltion\n",
    "  - Ability to handle prompts and completions"
   ]
  },
  {
   "cell_type": "markdown",
   "metadata": {},
   "source": [
    "## Load the required .NET packages and supporting classes"
   ]
  },
  {
   "cell_type": "code",
   "execution_count": null,
   "metadata": {
    "dotnet_interactive": {
     "language": "csharp"
    },
    "polyglot_notebook": {
     "kernelName": "csharp"
    },
    "vscode": {
     "languageId": "polyglot-notebook"
    }
   },
   "outputs": [],
   "source": [
    "#r \"nuget: Microsoft.SemanticKernel, 0.19.230804.2-preview\"\n",
    "#r \"nuget: Microsoft.Extensions.Logging.Console, 7.0.0\"\n",
    "#r \"nuget: Microsoft.EntityFrameworkCore.Sqlite, 7.0.9\"\n",
    "#r \"nuget: dotenv.net, 3.1.2\"\n",
    "\n",
    "using System.ComponentModel;\n",
    "using System.Net.Http;\n",
    "using System.Text.Json;\n",
    "using System.Text.Json.Serialization;\n",
    "using Microsoft.Extensions.Logging;\n",
    "using Microsoft.SemanticKernel;\n",
    "using Microsoft.SemanticKernel.Skills.Core;\n",
    "using Microsoft.SemanticKernel.SkillDefinition;\n",
    "using dotenv.net;\n",
    "\n",
    "#!import Utils/ConsoleLogger.cs\n",
    "#!import Models/Models.cs\n",
    "\n",
    "// Json Options\n",
    "readonly JsonSerializerOptions s_jsonOptions = new() { WriteIndented = true };"
   ]
  },
  {
   "cell_type": "markdown",
   "metadata": {},
   "source": [
    "## Load the OpenAI endpoint and API key from environment variables or an .env file"
   ]
  },
  {
   "cell_type": "code",
   "execution_count": null,
   "metadata": {
    "dotnet_interactive": {
     "language": "csharp"
    },
    "polyglot_notebook": {
     "kernelName": "csharp"
    },
    "vscode": {
     "languageId": "polyglot-notebook"
    }
   },
   "outputs": [],
   "source": [
    "DotEnv.Load();\n",
    "var deploymentName = Environment.GetEnvironmentVariable(\"GPT_OPENAI_DEPLOYMENT_NAME\");\n",
    "var endpoint = Environment.GetEnvironmentVariable(\"GPT_OPENAI_ENDPOINT\");\n",
    "var apiKey = Environment.GetEnvironmentVariable(\"GPT_OPENAI_KEY\");\n",
    "Console.WriteLine($\"Using deployment: {deploymentName} at: {endpoint} with key {apiKey.Substring(0, 5)}...\");"
   ]
  },
  {
   "cell_type": "markdown",
   "metadata": {},
   "source": [
    "## Mock a database call to get a list of car"
   ]
  },
  {
   "cell_type": "code",
   "execution_count": null,
   "metadata": {
    "dotnet_interactive": {
     "language": "csharp"
    },
    "polyglot_notebook": {
     "kernelName": "csharp"
    },
    "vscode": {
     "languageId": "polyglot-notebook"
    }
   },
   "outputs": [],
   "source": [
    "var mockCarData = new List<Car>{\n",
    "    new Car(\"123\",\"Ford\", \"Explorer\", 2015, \"Silver\", \"V6\", \"Platinum\", 10000, 16500),\n",
    "    new Car(\"456\",\"Ford\", \"Mustang\", 2018, \"Blue\", \"V8\", \"Sports\", 10000, 250000),\n",
    "    new Car(\"789\",\"Ford\", \"Escape\", 2020, \"Red\", \"V6\",\"Special\", 3000, 15000)\n",
    "  };\n",
    "  \n",
    "List<Car> MockDBCall() {  \n",
    "  return mockCarData;\n",
    "}"
   ]
  },
  {
   "cell_type": "markdown",
   "metadata": {},
   "source": [
    "## Function to get a short car description from the car properties"
   ]
  },
  {
   "cell_type": "code",
   "execution_count": null,
   "metadata": {
    "dotnet_interactive": {
     "language": "csharp"
    },
    "polyglot_notebook": {
     "kernelName": "csharp"
    },
    "vscode": {
     "languageId": "polyglot-notebook"
    }
   },
   "outputs": [],
   "source": [
    "// Reminder: I created this function, to make more impact, but the car record has a ToString defition to return the same information\n",
    "string GetCarDescription(Car car) {\n",
    "  return $\"{car.Year} {car.Make} {car.Model} {car.Color} {car.Motor} {car.Package} with {car.milage} miles for ${car.price}\";\n",
    "}"
   ]
  },
  {
   "cell_type": "markdown",
   "metadata": {},
   "source": [
    "## Create an instance of a kernel\n",
    "\n",
    "- Here notice how elegantly the kernel is configured"
   ]
  },
  {
   "cell_type": "code",
   "execution_count": null,
   "metadata": {
    "dotnet_interactive": {
     "language": "csharp"
    },
    "polyglot_notebook": {
     "kernelName": "csharp"
    },
    "vscode": {
     "languageId": "polyglot-notebook"
    }
   },
   "outputs": [],
   "source": [
    "IKernel kernel = new KernelBuilder()\n",
    "    .WithLogger(ConsoleLogger.Log)\n",
    "    .WithAzureChatCompletionService(deploymentName,endpoint, apiKey)\n",
    "    .Build();"
   ]
  },
  {
   "cell_type": "markdown",
   "metadata": {},
   "source": [
    "## Create the sales definition and translation in-line functions and add them to the kernel"
   ]
  },
  {
   "cell_type": "code",
   "execution_count": null,
   "metadata": {
    "dotnet_interactive": {
     "language": "csharp"
    },
    "polyglot_notebook": {
     "kernelName": "csharp"
    },
    "vscode": {
     "languageId": "polyglot-notebook"
    }
   },
   "outputs": [],
   "source": [
    "// Define a function to get a used car sales description\n",
    "const string fnSalesDefinition = @\"Get a used car sales description for the following: \n",
    "{{$input}}.\";\n",
    "\n",
    "ISKFunction salesDescriptionFunc = kernel.CreateSemanticFunction(fnSalesDefinition, \n",
    "    maxTokens: 200, temperature: 0.5, topP: 1);\n",
    "\n",
    "// Define a function to translate English to Spanish\n",
    "const string fnESTranslatorDefinition = @\"Translate the following English text to Spanish: \n",
    "{{$input}}.\";\n",
    "\n",
    "ISKFunction esTranslatorFunc = kernel.CreateSemanticFunction(fnESTranslatorDefinition, \n",
    "maxTokens: 200, temperature: 0.5, topP: 1);"
   ]
  },
  {
   "cell_type": "markdown",
   "metadata": {},
   "source": [
    "## Using the kernel and sk functions, get a car sales description and translate it into Spanish"
   ]
  },
  {
   "cell_type": "code",
   "execution_count": null,
   "metadata": {
    "dotnet_interactive": {
     "language": "csharp"
    },
    "polyglot_notebook": {
     "kernelName": "csharp"
    },
    "vscode": {
     "languageId": "polyglot-notebook"
    }
   },
   "outputs": [],
   "source": [
    "// Mock making a call to a database to get a list of cars\n",
    "var cars = MockDBCall();\n",
    "var text = kernel.ImportSkill(new TextSkill());\n",
    "var carDesc = GetCarDescription(cars[0]);\n",
    "cars[0].ToString()"
   ]
  },
  {
   "cell_type": "markdown",
   "metadata": {},
   "source": [
    "## Just to a pipe, lets get a used car sales description, translate into Spanish, and uppercase it"
   ]
  },
  {
   "cell_type": "code",
   "execution_count": null,
   "metadata": {
    "dotnet_interactive": {
     "language": "csharp"
    },
    "polyglot_notebook": {
     "kernelName": "csharp"
    },
    "vscode": {
     "languageId": "polyglot-notebook"
    }
   },
   "outputs": [],
   "source": [
    "var pipeLineResult = await kernel.RunAsync(carDesc,\n",
    "  salesDescriptionFunc,\n",
    "  esTranslatorFunc,\n",
    "  text[\"Uppercase\"]);\n",
    "\n",
    "Console.WriteLine(pipeLineResult);"
   ]
  },
  {
   "cell_type": "markdown",
   "metadata": {},
   "source": [
    "## Sample execute concurrent tasks"
   ]
  },
  {
   "cell_type": "code",
   "execution_count": null,
   "metadata": {
    "dotnet_interactive": {
     "language": "csharp"
    },
    "polyglot_notebook": {
     "kernelName": "csharp"
    },
    "vscode": {
     "languageId": "polyglot-notebook"
    }
   },
   "outputs": [],
   "source": [
    "// Run tasks asynchronously\n",
    "// var task1 = kernel.RunAsync(carDesc,salesDescriptionFunc);\n",
    "// var task2 = kernel.RunAsync(carDesc,salesDescriptionFunc);\n",
    "// await Task.WhenAll(task1,task2);\n",
    "// Console.WriteLine(task1.Result + \" \" + task2.Result);"
   ]
  },
  {
   "cell_type": "markdown",
   "metadata": {},
   "source": [
    "## Get a sales description and a translation for all the cars in the mock database"
   ]
  },
  {
   "cell_type": "code",
   "execution_count": null,
   "metadata": {
    "dotnet_interactive": {
     "language": "csharp"
    },
    "polyglot_notebook": {
     "kernelName": "csharp"
    },
    "vscode": {
     "languageId": "polyglot-notebook"
    }
   },
   "outputs": [],
   "source": [
    "// Keep a list of processed cars\n",
    "var processedCars = new List<CarTranslation>();\n",
    "\n",
    "foreach(var car in cars) {\n",
    "\n",
    "  // Get a short description given the car properties\n",
    "  var desc = GetCarDescription(car);\n",
    "  Console.WriteLine($\"Processing: {desc}\");\n",
    "  \n",
    "  // Use the SK sales description function to get a sales for a car\n",
    "  var result = await kernel.RunAsync(desc,salesDescriptionFunc);\n",
    "  Console.WriteLine($\"Sales Description: {result}\");\n",
    "\n",
    "  // Get the usage for the call\n",
    "  Console.WriteLine(JsonSerializer.Serialize(result.ModelResults.LastOrDefault()?.GetOpenAIChatResult()?.Usage, s_jsonOptions));\n",
    "  \n",
    "  // Use the SK translation function to translate the sales description into Spanish\n",
    "  var esTranslation = await kernel.RunAsync(result.ToString(), esTranslatorFunc);\n",
    "  Console.WriteLine($\"Translation: {es}\");\n",
    "  \n",
    "  // Add processed the EN and ES sales description\n",
    "  processedCars.Add(new CarTranslation(car.VIN, result.ToString(), esTranslation.ToString()));\n",
    "}\n",
    "\n",
    "// Show the processed cars\n",
    "processedCars"
   ]
  }
 ],
 "metadata": {
  "language_info": {
   "name": "python"
  },
  "orig_nbformat": 4
 },
 "nbformat": 4,
 "nbformat_minor": 2
}
