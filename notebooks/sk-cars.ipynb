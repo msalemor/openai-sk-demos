{
 "cells": [
  {
   "cell_type": "markdown",
   "metadata": {},
   "source": [
    "# English and Spanish used cars sales description using SK "
   ]
  },
  {
   "cell_type": "markdown",
   "metadata": {},
   "source": [
    "## Load the required .NET packages and supporting classes"
   ]
  },
  {
   "cell_type": "code",
   "execution_count": 12,
   "metadata": {
    "dotnet_interactive": {
     "language": "csharp"
    },
    "polyglot_notebook": {
     "kernelName": "csharp"
    },
    "vscode": {
     "languageId": "polyglot-notebook"
    }
   },
   "outputs": [
    {
     "data": {
      "text/html": [
       "<div><div></div><div></div><div><strong>Installed Packages</strong><ul><li><span>dotenv.net, 3.1.2</span></li><li><span>Microsoft.EntityFrameworkCore.Sqlite, 7.0.9</span></li><li><span>Microsoft.Extensions.Logging.Console, 7.0.0</span></li><li><span>Microsoft.SemanticKernel, 0.19.230804.2-preview</span></li></ul></div></div>"
      ]
     },
     "metadata": {},
     "output_type": "display_data"
    }
   ],
   "source": [
    "#r \"nuget: Microsoft.SemanticKernel, 0.19.230804.2-preview\"\n",
    "#r \"nuget: Microsoft.Extensions.Logging.Console, 7.0.0\"\n",
    "#r \"nuget: Microsoft.EntityFrameworkCore.Sqlite, 7.0.9\"\n",
    "#r \"nuget: dotenv.net, 3.1.2\"\n",
    "\n",
    "using System.ComponentModel;\n",
    "using System.Net.Http;\n",
    "using System.Text.Json;\n",
    "using System.Text.Json.Serialization;\n",
    "using Microsoft.Extensions.Logging;\n",
    "using Microsoft.SemanticKernel;\n",
    "using Microsoft.SemanticKernel.Skills.Core;\n",
    "using Microsoft.SemanticKernel.SkillDefinition;\n",
    "using dotenv.net;\n",
    "\n",
    "#!import Utils/ConsoleLogger.cs\n",
    "#!import Models/Models.cs\n",
    "\n",
    "// Json Options\n",
    "readonly JsonSerializerOptions s_jsonOptions = new() { WriteIndented = true };"
   ]
  },
  {
   "cell_type": "markdown",
   "metadata": {},
   "source": [
    "## Load the OpenAI endpoint and API key from environment variables or an .env file"
   ]
  },
  {
   "cell_type": "code",
   "execution_count": 11,
   "metadata": {
    "dotnet_interactive": {
     "language": "csharp"
    },
    "polyglot_notebook": {
     "kernelName": "csharp"
    },
    "vscode": {
     "languageId": "polyglot-notebook"
    }
   },
   "outputs": [
    {
     "name": "stdout",
     "output_type": "stream",
     "text": [
      "Using deployment: gpt at: https://alemorfr.openai.azure.com/ with key 32c87...\n"
     ]
    }
   ],
   "source": [
    "DotEnv.Load();\n",
    "var deploymentName = Environment.GetEnvironmentVariable(\"GPT_OPENAI_DEPLOYMENT_NAME\");\n",
    "var endpoint = Environment.GetEnvironmentVariable(\"GPT_OPENAI_ENDPOINT\");\n",
    "var apiKey = Environment.GetEnvironmentVariable(\"GPT_OPENAI_KEY\");\n",
    "Console.WriteLine($\"Using deployment: {deploymentName} at: {endpoint} with key {apiKey.Substring(0, 5)}...\");"
   ]
  },
  {
   "cell_type": "markdown",
   "metadata": {},
   "source": [
    "## Mock an DB/API call to get the a list of cars"
   ]
  },
  {
   "cell_type": "code",
   "execution_count": 13,
   "metadata": {
    "dotnet_interactive": {
     "language": "csharp"
    },
    "polyglot_notebook": {
     "kernelName": "csharp"
    },
    "vscode": {
     "languageId": "polyglot-notebook"
    }
   },
   "outputs": [],
   "source": [
    "var mockCarData = new List<Car>{\n",
    "    new Car(\"123\",\"Ford\", \"Explorer\", 2015, \"Silver\", \"V6\", \"Platinum\", 10000, 16500),\n",
    "    new Car(\"456\",\"Ford\", \"Mustang\", 2018, \"Blue\", \"V8\", \"Sports\", 10000, 250000),\n",
    "    new Car(\"789\",\"Ford\", \"Escape\", 2020, \"Red\", \"V6\",\"Special\", 3000, 15000)\n",
    "  };\n",
    "  \n",
    "List<Car> MockDBCall() {  \n",
    "  return mockCarData;\n",
    "}"
   ]
  },
  {
   "cell_type": "markdown",
   "metadata": {},
   "source": [
    "## Function to get a short car description from the car properties"
   ]
  },
  {
   "cell_type": "code",
   "execution_count": 14,
   "metadata": {
    "dotnet_interactive": {
     "language": "csharp"
    },
    "polyglot_notebook": {
     "kernelName": "csharp"
    },
    "vscode": {
     "languageId": "polyglot-notebook"
    }
   },
   "outputs": [],
   "source": [
    "string GetCarDescription(Car car) {\n",
    "  return $\"{car.Year} {car.Make} {car.Model} {car.Color} {car.Motor} {car.Package} with {car.milage} miles for ${car.price}\";\n",
    "}"
   ]
  },
  {
   "cell_type": "markdown",
   "metadata": {},
   "source": [
    "## Create an instance of a kernel"
   ]
  },
  {
   "cell_type": "code",
   "execution_count": 16,
   "metadata": {
    "dotnet_interactive": {
     "language": "csharp"
    },
    "polyglot_notebook": {
     "kernelName": "csharp"
    },
    "vscode": {
     "languageId": "polyglot-notebook"
    }
   },
   "outputs": [],
   "source": [
    "var kernel = new KernelBuilder()\n",
    "    .WithLogger(ConsoleLogger.Log)\n",
    "    .WithAzureChatCompletionService(deploymentName,endpoint, apiKey)\n",
    "    .Build();"
   ]
  },
  {
   "cell_type": "markdown",
   "metadata": {},
   "source": [
    "## Create the sales definition and translation in-line functions and add them to the kernel"
   ]
  },
  {
   "cell_type": "code",
   "execution_count": 17,
   "metadata": {
    "dotnet_interactive": {
     "language": "csharp"
    },
    "polyglot_notebook": {
     "kernelName": "csharp"
    },
    "vscode": {
     "languageId": "polyglot-notebook"
    }
   },
   "outputs": [],
   "source": [
    "// Define a function to get a used car sales description\n",
    "const string fnSalesDefinition = @\"Get a used car sales description for the following: \n",
    "{{$input}}.\";\n",
    "\n",
    "var salesDescriptionFunc = kernel.CreateSemanticFunction(fnSalesDefinition, \n",
    "    maxTokens: 200, temperature: 0.5, topP: 1);\n",
    "\n",
    "// Define a function to translate English to Spanish\n",
    "const string fnESTranslatorDefinition = @\"Translate the following English text to Spanish: \n",
    "{{$input}}.\";\n",
    "\n",
    "var esTranslatorFunc = kernel.CreateSemanticFunction(fnESTranslatorDefinition, \n",
    "maxTokens: 200, temperature: 0.5, topP: 1);"
   ]
  },
  {
   "cell_type": "markdown",
   "metadata": {},
   "source": [
    "## Using the kernel and sk functions, get a car sales description and translate it into Spanish"
   ]
  },
  {
   "cell_type": "code",
   "execution_count": 18,
   "metadata": {
    "dotnet_interactive": {
     "language": "csharp"
    },
    "polyglot_notebook": {
     "kernelName": "csharp"
    },
    "vscode": {
     "languageId": "polyglot-notebook"
    }
   },
   "outputs": [],
   "source": [
    "// Mock making a call to a database to get a list of cars\n",
    "var cars = MockDBCall();\n",
    "var text = kernel.ImportSkill(new TextSkill());\n",
    "var carDesc = GetCarDescription(cars[0]);"
   ]
  },
  {
   "cell_type": "markdown",
   "metadata": {},
   "source": [
    "## Get a sales description, translate it and Uppercase it in a pipe"
   ]
  },
  {
   "cell_type": "code",
   "execution_count": 19,
   "metadata": {
    "dotnet_interactive": {
     "language": "csharp"
    },
    "polyglot_notebook": {
     "kernelName": "csharp"
    },
    "vscode": {
     "languageId": "polyglot-notebook"
    }
   },
   "outputs": [
    {
     "name": "stdout",
     "output_type": "stream",
     "text": [
      "¿BUSCAS UN SUV ESPACIOSO Y LUJOSO QUE HAYA SIDO BIEN MANTENIDO Y NO TE CUESTE UN OJO DE LA CARA? ¡NO BUSQUES MÁS ALLÁ DE ESTE IMPRESIONANTE FORD EXPLORER PLATINUM 2015! CON UN ELEGANTE EXTERIOR PLATEADO QUE SEGURAMENTE LLAMARÁ LA ATENCIÓN, ESTE EXPLORER ESTÁ IMPULSADO POR UN CONFIABLE MOTOR V6 QUE OFRECE UN RENDIMIENTO SUAVE Y RECEPTIVO. Y CON SOLO 10,000 MILLAS EN EL ODÓMETRO, ¡ESTE VEHÍCULO ES PRÁCTICAMENTE NUEVO!\n",
      "\n",
      "AL ENTRAR EN LA CABINA, TE RECIBIRÁ UN INTERIOR ESPACIOSO Y CÓMODO QUE ESTÁ CARGADO DE CARACTERÍSTICAS. EL NIVEL DE EQUIPAMIENTO PLATINUM SIGNIFICA QUE ESTE EXPLORER VIENE CON TODAS LAS CAMPANAS Y SILBATOS, INCLUYENDO ASIENTOS DE CUERO, UN SISTEMA DE SONIDO PREMIUM Y UN TECHO SOLAR PANORÁMICO. Y CON MUCHO ESPACIO DE CARGA, ESTE SUV ES PERFECTO PARA FAMIL\n"
     ]
    }
   ],
   "source": [
    "var pipeLineResult = await kernel.RunAsync(carDesc,\n",
    "  salesDescriptionFunc,\n",
    "  esTranslatorFunc,\n",
    "  text[\"Uppercase\"]);\n",
    "\n",
    "Console.WriteLine(pipeLineResult);"
   ]
  },
  {
   "cell_type": "markdown",
   "metadata": {},
   "source": [
    "## Sample execute concurrent tasks"
   ]
  },
  {
   "cell_type": "code",
   "execution_count": null,
   "metadata": {
    "dotnet_interactive": {
     "language": "csharp"
    },
    "polyglot_notebook": {
     "kernelName": "csharp"
    },
    "vscode": {
     "languageId": "polyglot-notebook"
    }
   },
   "outputs": [],
   "source": [
    "// Run tasks asynchronously\n",
    "// var task1 = kernel.RunAsync(carDesc,salesDescriptionFunc);\n",
    "// var task2 = kernel.RunAsync(carDesc,salesDescriptionFunc);\n",
    "// await Task.WhenAll(task1,task2);\n",
    "// Console.WriteLine(task1.Result + \" \" + task2.Result);"
   ]
  },
  {
   "cell_type": "markdown",
   "metadata": {},
   "source": [
    "## Get a sales description and a translation for all the cars in the mock database"
   ]
  },
  {
   "cell_type": "code",
   "execution_count": 22,
   "metadata": {
    "dotnet_interactive": {
     "language": "csharp"
    },
    "polyglot_notebook": {
     "kernelName": "csharp"
    },
    "vscode": {
     "languageId": "polyglot-notebook"
    }
   },
   "outputs": [
    {
     "name": "stdout",
     "output_type": "stream",
     "text": [
      "Processing: 2015 Ford Explorer Silver V6 Platinum with 10000 miles for $16500\n",
      "Sales Description: Looking for a reliable and stylish SUV that won't break the bank? Look no further than this 2015 Ford Explorer Platinum! This sleek silver vehicle comes equipped with a powerful V6 engine that will give you the performance you need, whether you're cruising down the highway or navigating city streets. With only 10000 miles on the odometer, this Explorer has plenty of life left in it and is ready to take you on all of your adventures. And with a price tag of just $16500, you won't find a better deal on a vehicle of this quality. Don't wait - come test drive this 2015 Ford Explorer Platinum today!\n",
      "{\n",
      "  \"CompletionTokens\": 132,\n",
      "  \"PromptTokens\": 49,\n",
      "  \"TotalTokens\": 181\n",
      "}\n",
      "Translation: ¿Estás buscando un SUV confiable y elegante que no te haga gastar una fortuna? ¡No busques más allá de este Ford Explorer Platinum 2015! Este elegante vehículo plateado viene equipado con un potente motor V6 que te dará el rendimiento que necesitas, ya sea que estés conduciendo por la autopista o navegando por las calles de la ciudad. Con solo 10000 millas en el odómetro, este Explorer tiene mucha vida por delante y está listo para llevarte en todas tus aventuras. Y con un precio de solo $16500, no encontrarás una mejor oferta en un vehículo de esta calidad. No esperes más, ven a probar este Ford Explorer Platinum 2015 hoy mismo.\n",
      "Processing: 2018 Ford Mustang Blue V8 Sports with 10000 miles for $250000\n",
      "Sales Description: Looking for a thrilling ride? Look no further than this stunning 2018 Ford Mustang V8 Sports! With only 10000 miles on the clock, this car is practically brand new. The sleek blue exterior is sure to turn heads, and the powerful V8 engine under the hood will make your heart race. This Mustang is loaded with features, including a premium sound system, leather seats, and advanced safety technology. Whether you're cruising down the highway or tearing up the track, this car delivers a driving experience like no other. Don't miss your chance to own this incredible machine - contact us today to schedule a test drive! All of this can be yours for the unbeatable price of $250000.\n",
      "{\n",
      "  \"CompletionTokens\": 143,\n",
      "  \"PromptTokens\": 49,\n",
      "  \"TotalTokens\": 192\n",
      "}\n",
      "Translation: ¿Buscas una experiencia emocionante? ¡No busques más allá de este impresionante Ford Mustang V8 Sports del 2018! Con solo 10000 millas en el odómetro, este automóvil es prácticamente nuevo. El elegante exterior azul seguramente llamará la atención, y el poderoso motor V8 debajo del capó acelerará tu corazón. Este Mustang está equipado con características impresionantes, que incluyen un sistema de sonido premium, asientos de cuero y tecnología avanzada de seguridad. Ya sea que estés conduciendo por la autopista o corriendo en la pista, este automóvil ofrece una experiencia de conducción incomparable. ¡No pierdas la oportunidad de ser dueño de esta increíble máquina - contáctanos hoy mismo para programar una prueba de manejo! Todo esto puede ser tuyo por el precio im\n",
      "Processing: 2020 Ford Escape Red V6 Special with 3000 miles for $15000\n",
      "Sales Description: Looking for a stylish and reliable SUV that won't break the bank? Look no further than this 2020 Ford Escape Red V6 Special! With only 3000 miles on the odometer, this vehicle is practically brand new and ready to hit the road. The powerful V6 engine provides plenty of get-up-and-go, while the sleek red exterior is sure to turn heads wherever you go. And at just $15000, this Escape is an incredible value that won't last long. Don't miss your chance to own this amazing vehicle - come see it today!\n",
      "{\n",
      "  \"CompletionTokens\": 115,\n",
      "  \"PromptTokens\": 49,\n",
      "  \"TotalTokens\": 164\n",
      "}\n",
      "Translation: ¿Buscas un SUV elegante y confiable que no te cueste una fortuna? ¡No busques más que este 2020 Ford Escape Red V6 Special! Con solo 3000 millas en el odómetro, este vehículo es prácticamente nuevo y está listo para salir a la carretera. El potente motor V6 proporciona mucha fuerza, mientras que el exterior rojo elegante seguramente llamará la atención dondequiera que vayas. Y por solo $15000, este Escape es una increíble oferta que no durará mucho tiempo. No pierdas la oportunidad de ser dueño de este increíble vehículo: ¡ven a verlo hoy mismo!\n"
     ]
    },
    {
     "data": {
      "text/html": [
       "<table><thead><tr><th><i>index</i></th><th>value</th></tr></thead><tbody><tr><td>0</td><td><details class=\"dni-treeview\"><summary><span class=\"dni-code-hint\"><code>CarTranslation { VIN = 123, En = Looking for a reliable and stylish SUV that won&#39;t break the bank? Look no further than this 2015 Ford Explorer Platinum! This sleek silver vehicle comes equipped with a powerful V6 engine that will give you the performance you need, whether you&#39;re cruising down the h...</code></span></summary><div><table><thead><tr></tr></thead><tbody><tr><td>VIN</td><td><div class=\"dni-plaintext\"><pre>123</pre></div></td></tr><tr><td>En</td><td><div class=\"dni-plaintext\"><pre>Looking for a reliable and stylish SUV that won&#39;t break the bank? Look no further than this 2015 Ford Explorer Platinum! This sleek silver vehicle comes equipped with a powerful V6 engine that will give you the performance you need, whether you&#39;re cruising down the highway or navigating city streets. With only 10000 miles on the odometer, this Explorer has plenty of life left in it and is ready to take you on all of your adventures. And with a price tag of just $16500, you won&#39;t find a better deal on a vehicle of this quality. Don&#39;t wait - come test drive this 2015 Ford Explorer Platinum today!</pre></div></td></tr><tr><td>ES</td><td><div class=\"dni-plaintext\"><pre>&#191;Est&#225;s buscando un SUV confiable y elegante que no te haga gastar una fortuna? &#161;No busques m&#225;s all&#225; de este Ford Explorer Platinum 2015! Este elegante veh&#237;culo plateado viene equipado con un potente motor V6 que te dar&#225; el rendimiento que necesitas, ya sea que est&#233;s conduciendo por la autopista o navegando por las calles de la ciudad. Con solo 10000 millas en el od&#243;metro, este Explorer tiene mucha vida por delante y est&#225; listo para llevarte en todas tus aventuras. Y con un precio de solo $16500, no encontrar&#225;s una mejor oferta en un veh&#237;culo de esta calidad. No esperes m&#225;s, ven a probar este Ford Explorer Platinum 2015 hoy mismo.</pre></div></td></tr></tbody></table></div></details></td></tr><tr><td>1</td><td><details class=\"dni-treeview\"><summary><span class=\"dni-code-hint\"><code>CarTranslation { VIN = 456, En = Looking for a thrilling ride? Look no further than this stunning 2018 Ford Mustang V8 Sports! With only 10000 miles on the clock, this car is practically brand new. The sleek blue exterior is sure to turn heads, and the powerful V8 engine under the hood will make you...</code></span></summary><div><table><thead><tr></tr></thead><tbody><tr><td>VIN</td><td><div class=\"dni-plaintext\"><pre>456</pre></div></td></tr><tr><td>En</td><td><div class=\"dni-plaintext\"><pre>Looking for a thrilling ride? Look no further than this stunning 2018 Ford Mustang V8 Sports! With only 10000 miles on the clock, this car is practically brand new. The sleek blue exterior is sure to turn heads, and the powerful V8 engine under the hood will make your heart race. This Mustang is loaded with features, including a premium sound system, leather seats, and advanced safety technology. Whether you&#39;re cruising down the highway or tearing up the track, this car delivers a driving experience like no other. Don&#39;t miss your chance to own this incredible machine - contact us today to schedule a test drive! All of this can be yours for the unbeatable price of $250000.</pre></div></td></tr><tr><td>ES</td><td><div class=\"dni-plaintext\"><pre>&#191;Buscas una experiencia emocionante? &#161;No busques m&#225;s all&#225; de este impresionante Ford Mustang V8 Sports del 2018! Con solo 10000 millas en el od&#243;metro, este autom&#243;vil es pr&#225;cticamente nuevo. El elegante exterior azul seguramente llamar&#225; la atenci&#243;n, y el poderoso motor V8 debajo del cap&#243; acelerar&#225; tu coraz&#243;n. Este Mustang est&#225; equipado con caracter&#237;sticas impresionantes, que incluyen un sistema de sonido premium, asientos de cuero y tecnolog&#237;a avanzada de seguridad. Ya sea que est&#233;s conduciendo por la autopista o corriendo en la pista, este autom&#243;vil ofrece una experiencia de conducci&#243;n incomparable. &#161;No pierdas la oportunidad de ser due&#241;o de esta incre&#237;ble m&#225;quina - cont&#225;ctanos hoy mismo para programar una prueba de manejo! Todo esto puede ser tuyo por el precio im</pre></div></td></tr></tbody></table></div></details></td></tr><tr><td>2</td><td><details class=\"dni-treeview\"><summary><span class=\"dni-code-hint\"><code>CarTranslation { VIN = 789, En = Looking for a stylish and reliable SUV that won&#39;t break the bank? Look no further than this 2020 Ford Escape Red V6 Special! With only 3000 miles on the odometer, this vehicle is practically brand new and ready to hit the road. The powerful V6 engine provides plenty ...</code></span></summary><div><table><thead><tr></tr></thead><tbody><tr><td>VIN</td><td><div class=\"dni-plaintext\"><pre>789</pre></div></td></tr><tr><td>En</td><td><div class=\"dni-plaintext\"><pre>Looking for a stylish and reliable SUV that won&#39;t break the bank? Look no further than this 2020 Ford Escape Red V6 Special! With only 3000 miles on the odometer, this vehicle is practically brand new and ready to hit the road. The powerful V6 engine provides plenty of get-up-and-go, while the sleek red exterior is sure to turn heads wherever you go. And at just $15000, this Escape is an incredible value that won&#39;t last long. Don&#39;t miss your chance to own this amazing vehicle - come see it today!</pre></div></td></tr><tr><td>ES</td><td><div class=\"dni-plaintext\"><pre>&#191;Buscas un SUV elegante y confiable que no te cueste una fortuna? &#161;No busques m&#225;s que este 2020 Ford Escape Red V6 Special! Con solo 3000 millas en el od&#243;metro, este veh&#237;culo es pr&#225;cticamente nuevo y est&#225; listo para salir a la carretera. El potente motor V6 proporciona mucha fuerza, mientras que el exterior rojo elegante seguramente llamar&#225; la atenci&#243;n dondequiera que vayas. Y por solo $15000, este Escape es una incre&#237;ble oferta que no durar&#225; mucho tiempo. No pierdas la oportunidad de ser due&#241;o de este incre&#237;ble veh&#237;culo: &#161;ven a verlo hoy mismo!</pre></div></td></tr></tbody></table></div></details></td></tr></tbody></table><style>\r\n",
       ".dni-code-hint {\r\n",
       "    font-style: italic;\r\n",
       "    overflow: hidden;\r\n",
       "    white-space: nowrap;\r\n",
       "}\r\n",
       ".dni-treeview {\r\n",
       "    white-space: nowrap;\r\n",
       "}\r\n",
       ".dni-treeview td {\r\n",
       "    vertical-align: top;\r\n",
       "    text-align: start;\r\n",
       "}\r\n",
       "details.dni-treeview {\r\n",
       "    padding-left: 1em;\r\n",
       "}\r\n",
       "table td {\r\n",
       "    text-align: start;\r\n",
       "}\r\n",
       "table tr { \r\n",
       "    vertical-align: top; \r\n",
       "    margin: 0em 0px;\r\n",
       "}\r\n",
       "table tr td pre \r\n",
       "{ \r\n",
       "    vertical-align: top !important; \r\n",
       "    margin: 0em 0px !important;\r\n",
       "} \r\n",
       "table th {\r\n",
       "    text-align: start;\r\n",
       "}\r\n",
       "</style>"
      ]
     },
     "metadata": {},
     "output_type": "display_data"
    }
   ],
   "source": [
    "// Keep a list of processed cars\n",
    "var processedCars = new List<CarTranslation>();\n",
    "\n",
    "foreach(var car in cars) {\n",
    "\n",
    "  // Get a short description given the car properties\n",
    "  var desc = GetCarDescription(car);\n",
    "  Console.WriteLine($\"Processing: {desc}\");\n",
    "  \n",
    "  // Use the SK sales description function to get a sales for a car\n",
    "  var result = await kernel.RunAsync(desc,salesDescriptionFunc);\n",
    "  Console.WriteLine($\"Sales Description: {result}\");\n",
    "\n",
    "  // Get the usage for the call\n",
    "  Console.WriteLine(JsonSerializer.Serialize(result.ModelResults.LastOrDefault()?.GetOpenAIChatResult()?.Usage, s_jsonOptions));\n",
    "  \n",
    "  // Use the SK translation function to translate the sales description into Spanish\n",
    "  var es = await kernel.RunAsync(result.ToString(), esTranslatorFunc);\n",
    "  Console.WriteLine($\"Translation: {es}\");\n",
    "  \n",
    "  // Add processed the EN and ES sales description\n",
    "  processedCars.Add(new CarTranslation(car.VIN, result.ToString(), es.ToString()));\n",
    "}\n",
    "\n",
    "// Show the processed cars\n",
    "processedCars"
   ]
  }
 ],
 "metadata": {
  "language_info": {
   "name": "python"
  },
  "orig_nbformat": 4
 },
 "nbformat": 4,
 "nbformat_minor": 2
}
