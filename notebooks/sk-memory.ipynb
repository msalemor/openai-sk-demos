{
 "cells": [
  {
   "cell_type": "markdown",
   "metadata": {},
   "source": [
    "# SK Memory - RAG Pattern Primer"
   ]
  },
  {
   "cell_type": "markdown",
   "metadata": {},
   "source": [
    "Learning objectives:\n",
    "\n",
    "- Setting up SK to save memories\n",
    "- Saving, retrieving, recalling, and deleting memories\n",
    "\n",
    "Reference:\n",
    "- https://github.com/Azure-Samples/azure-search-openai-demo\n",
    "- https://github.com/azure-samples/semantic-kernel-rag-chat\n",
    "\n",
    "**Important:**\n",
    "\n",
    "- A memory includes at a minium a key, some text (a text chunk), and the embedding\n",
    "- The embedding is used to perform a semantic search, but the text is what is used for augmentation"
   ]
  },
  {
   "cell_type": "markdown",
   "metadata": {},
   "source": [
    "## Load the required .NET packages and supporting classes"
   ]
  },
  {
   "cell_type": "code",
   "execution_count": null,
   "metadata": {
    "dotnet_interactive": {
     "language": "csharp"
    },
    "polyglot_notebook": {
     "kernelName": "csharp"
    },
    "vscode": {
     "languageId": "polyglot-notebook"
    }
   },
   "outputs": [],
   "source": [
    "#r \"nuget: Microsoft.SemanticKernel, 0.19.230804.2-preview\"\n",
    "#r \"nuget: Microsoft.Extensions.Logging.Console\"\n",
    "#r \"nuget: dotenv.net\"\n",
    "\n",
    "using System.ComponentModel;\n",
    "using System.Net.Http;\n",
    "using Microsoft.Extensions.Logging;\n",
    "using Microsoft.SemanticKernel;\n",
    "using Microsoft.SemanticKernel.Memory;\n",
    "using Microsoft.SemanticKernel.SkillDefinition;\n",
    "using Microsoft.SemanticKernel.Skills.Core;\n",
    "using dotenv.net;\n",
    "\n",
    "#!import Utils/ConsoleLogger.cs\n",
    "\n",
    "const string MemoryCollectionName = \"aboutMe\";"
   ]
  },
  {
   "cell_type": "markdown",
   "metadata": {},
   "source": [
    "## Load the OpenAI variables from environment variables or an .env file"
   ]
  },
  {
   "cell_type": "code",
   "execution_count": null,
   "metadata": {
    "dotnet_interactive": {
     "language": "csharp"
    },
    "polyglot_notebook": {
     "kernelName": "csharp"
    },
    "vscode": {
     "languageId": "polyglot-notebook"
    }
   },
   "outputs": [],
   "source": [
    "DotEnv.Load();\n",
    "var deploymentName = Environment.GetEnvironmentVariable(\"GPT_OPENAI_DEPLOYMENT_NAME\");\n",
    "var endpoint = Environment.GetEnvironmentVariable(\"GPT_OPENAI_ENDPOINT\");\n",
    "var apiKey = Environment.GetEnvironmentVariable(\"GPT_OPENAI_KEY\");\n",
    "var adaDeploymentName = \"ada\";\n",
    "Console.WriteLine($\"Using deployment: {deploymentName} at: {endpoint} with key {apiKey.Substring(0, 5)}...\");"
   ]
  },
  {
   "cell_type": "markdown",
   "metadata": {},
   "source": [
    "## Get a Kernel with an embedding service"
   ]
  },
  {
   "cell_type": "code",
   "execution_count": null,
   "metadata": {
    "dotnet_interactive": {
     "language": "csharp"
    },
    "polyglot_notebook": {
     "kernelName": "csharp"
    },
    "vscode": {
     "languageId": "polyglot-notebook"
    }
   },
   "outputs": [],
   "source": [
    "var kernel = Kernel.Builder\n",
    "            .WithLogger(ConsoleLogger.Log)\n",
    "            .WithAzureChatCompletionService(deploymentName, endpoint, apiKey)\n",
    "            .WithAzureTextEmbeddingGenerationService(adaDeploymentName, endpoint, apiKey)\n",
    "            .WithMemoryStorage(new VolatileMemoryStore())\n",
    "            .Build();"
   ]
  },
  {
   "cell_type": "markdown",
   "metadata": {},
   "source": [
    "## Save memories - Method 1"
   ]
  },
  {
   "cell_type": "code",
   "execution_count": null,
   "metadata": {
    "dotnet_interactive": {
     "language": "csharp"
    },
    "polyglot_notebook": {
     "kernelName": "csharp"
    },
    "vscode": {
     "languageId": "polyglot-notebook"
    }
   },
   "outputs": [],
   "source": [
    "// ========= Store memories using the kernel =========\n",
    "\n",
    "await kernel.Memory.SaveInformationAsync(MemoryCollectionName, id: \"info1\", text: \"My name is Andre\");\n",
    "await kernel.Memory.SaveInformationAsync(MemoryCollectionName, id: \"info2\", text: \"I work as a tourist operator\");\n",
    "await kernel.Memory.SaveInformationAsync(MemoryCollectionName, id: \"info3\", text: \"I've been living in Seattle since 2005\");\n",
    "await kernel.Memory.SaveInformationAsync(MemoryCollectionName, id: \"info4\", text: \"I visited France and Italy five times since 2015\");"
   ]
  },
  {
   "cell_type": "markdown",
   "metadata": {},
   "source": [
    "## Save memories - Method 2 - using a skill"
   ]
  },
  {
   "cell_type": "code",
   "execution_count": null,
   "metadata": {
    "dotnet_interactive": {
     "language": "csharp"
    },
    "polyglot_notebook": {
     "kernelName": "csharp"
    },
    "vscode": {
     "languageId": "polyglot-notebook"
    }
   },
   "outputs": [],
   "source": [
    "// ========= Store memories using semantic function =========\n",
    "\n",
    "// Add Memory as a skill for other functions\n",
    "var memorySkill = new TextMemorySkill(kernel.Memory);\n",
    "kernel.ImportSkill(memorySkill);\n",
    "\n",
    "// Build a semantic function that saves info to memory\n",
    "const string SaveFunctionDefinition = \"{{save $info}}\";\n",
    "var memorySaver = kernel.CreateSemanticFunction(SaveFunctionDefinition);\n",
    "\n",
    "var context = kernel.CreateNewContext();\n",
    "context[TextMemorySkill.CollectionParam] = MemoryCollectionName;\n",
    "context[TextMemorySkill.KeyParam] = \"info5\";\n",
    "context[\"info\"] = \"My family is from New York\";\n",
    "await memorySaver.InvokeAsync(context);"
   ]
  },
  {
   "cell_type": "markdown",
   "metadata": {},
   "source": [
    "## Retrive a memory by Key"
   ]
  },
  {
   "cell_type": "code",
   "execution_count": null,
   "metadata": {
    "dotnet_interactive": {
     "language": "csharp"
    },
    "polyglot_notebook": {
     "kernelName": "csharp"
    },
    "vscode": {
     "languageId": "polyglot-notebook"
    }
   },
   "outputs": [],
   "source": [
    "// ========= Test memory remember =========\n",
    "Console.WriteLine(\"========= Example: Recalling a Memory =========\");\n",
    "\n",
    "var answer = await memorySkill.RetrieveAsync(MemoryCollectionName, \"info1\", logger: context.Log);\n",
    "Console.WriteLine(\"Memory associated with 'info1': {0}\", answer);"
   ]
  },
  {
   "cell_type": "markdown",
   "metadata": {},
   "source": [
    "## Recall a memory based on relevance and a count limit"
   ]
  },
  {
   "cell_type": "code",
   "execution_count": null,
   "metadata": {
    "dotnet_interactive": {
     "language": "csharp"
    },
    "polyglot_notebook": {
     "kernelName": "csharp"
    },
    "vscode": {
     "languageId": "polyglot-notebook"
    }
   },
   "outputs": [],
   "source": [
    "Console.WriteLine(\"========= Example: Recalling an Idea =========\");\n",
    "\n",
    "answer = await memorySkill.RecallAsync(\"where did I grow up?\", MemoryCollectionName, relevance: null, limit: 2, logger: context.Log);\n",
    "Console.WriteLine(\"Ask: where did I grow up?\");\n",
    "Console.WriteLine(\"Answer:\\n{0}\", answer);\n",
    "\n",
    "answer = await memorySkill.RecallAsync(\"where do I live?\", MemoryCollectionName, relevance: null, limit: 2, logger: context.Log);\n",
    "Console.WriteLine(\"Ask: where do I live?\");\n",
    "Console.WriteLine(\"Answer:\\n{0}\", answer);"
   ]
  },
  {
   "cell_type": "markdown",
   "metadata": {},
   "source": [
    "## Recall a memory using an SK function"
   ]
  },
  {
   "cell_type": "code",
   "execution_count": null,
   "metadata": {
    "dotnet_interactive": {
     "language": "csharp"
    },
    "polyglot_notebook": {
     "kernelName": "csharp"
    },
    "vscode": {
     "languageId": "polyglot-notebook"
    }
   },
   "outputs": [],
   "source": [
    "Console.WriteLine(\"========= Example: Using Recall in a Semantic Function =========\");\n",
    "\n",
    "// Build a semantic function that uses memory to find facts\n",
    "const string RecallFunctionDefinition = @\"\n",
    "Consider only the facts below when answering questions.\n",
    "\n",
    "About me: {{recall 'where did I grow up?'}}\n",
    "About me: {{recall 'where do I live?'}}\n",
    "\n",
    "Question: {{$input}}\n",
    "\n",
    "Answer:\n",
    "\";\n",
    "\n",
    "var aboutMeOracle = kernel.CreateSemanticFunction(RecallFunctionDefinition, maxTokens: 100);\n",
    "var result = await kernel.RunAsync(aboutMeOracle, new(\"Do I live in the same town where I grew up?\")\n",
    "{\n",
    "    [TextMemorySkill.CollectionParam] = MemoryCollectionName,\n",
    "    [TextMemorySkill.RelevanceParam] = \"0.8\"\n",
    "});\n",
    "\n",
    "Console.WriteLine(\"Do I live in the same town where I grew up?\\n\");\n",
    "Console.WriteLine(result);"
   ]
  },
  {
   "cell_type": "markdown",
   "metadata": {},
   "source": [
    "## Remove a memory by key"
   ]
  },
  {
   "cell_type": "code",
   "execution_count": null,
   "metadata": {
    "dotnet_interactive": {
     "language": "csharp"
    },
    "polyglot_notebook": {
     "kernelName": "csharp"
    },
    "vscode": {
     "languageId": "polyglot-notebook"
    }
   },
   "outputs": [],
   "source": [
    "// ========= Remove a memory =========\n",
    "Console.WriteLine(\"========= Example: Forgetting a Memory =========\");\n",
    "\n",
    "result = await kernel.RunAsync(aboutMeOracle, new(\"Tell me a bit about myself\")\n",
    "{\n",
    "    [\"fact1\"] = \"What is my name?\",\n",
    "    [\"fact2\"] = \"What do I do for a living?\",\n",
    "    [TextMemorySkill.RelevanceParam] = \".75\"\n",
    "});\n",
    "\n",
    "Console.WriteLine(\"Tell me a bit about myself\\n\");\n",
    "Console.WriteLine(result);\n",
    "\n",
    "await memorySkill.RemoveAsync(MemoryCollectionName, \"info1\", logger: null);\n",
    "result = await kernel.RunAsync(aboutMeOracle, new(\"Tell me a bit about myself\"));\n",
    "\n",
    "Console.WriteLine(\"Tell me a bit about myself\\n\");\n",
    "Console.WriteLine(result);\n"
   ]
  }
 ],
 "metadata": {
  "language_info": {
   "name": "python"
  },
  "orig_nbformat": 4
 },
 "nbformat": 4,
 "nbformat_minor": 2
}
