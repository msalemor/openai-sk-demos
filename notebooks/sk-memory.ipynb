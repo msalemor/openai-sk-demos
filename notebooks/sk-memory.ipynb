{
 "cells": [
  {
   "cell_type": "markdown",
   "metadata": {},
   "source": [
    "# SK Memory - RAG Pattern Primer"
   ]
  },
  {
   "cell_type": "markdown",
   "metadata": {},
   "source": [
    "Learning objectives:\n",
    "\n",
    "- Setting up SK to save memories\n",
    "- Saving, retrieving, recalling, and deleting memories\n",
    "\n",
    "Reference:\n",
    "- https://github.com/Azure-Samples/azure-search-openai-demo\n",
    "- https://github.com/azure-samples/semantic-kernel-rag-chat\n",
    "\n",
    "**Important:**\n",
    "\n",
    "- A memory includes at a minium a key, some text (a text chunk), and the embedding\n",
    "- The embedding is used to perform a semantic search, but the text is what is used for augmentation"
   ]
  },
  {
   "cell_type": "markdown",
   "metadata": {},
   "source": [
    "## Load the required .NET packages and supporting classes"
   ]
  },
  {
   "cell_type": "code",
   "execution_count": null,
   "metadata": {
    "dotnet_interactive": {
     "language": "csharp"
    },
    "polyglot_notebook": {
     "kernelName": "csharp"
    },
    "vscode": {
     "languageId": "polyglot-notebook"
    }
   },
   "outputs": [],
   "source": [
    "#r \"nuget: Microsoft.SemanticKernel, 1.0.0-beta8\"\n",
    "#r \"nuget: dotenv.net\"\n",
    "\n",
    "using Microsoft.SemanticKernel;\n",
    "using Microsoft.SemanticKernel.Connectors.AI.OpenAI;\n",
    "using Microsoft.SemanticKernel.Connectors.AI.OpenAI.TextEmbedding;\n",
    "using Microsoft.SemanticKernel.Memory;\n",
    "using Microsoft.SemanticKernel.Orchestration;\n",
    "using Microsoft.SemanticKernel.Plugins.Memory;\n",
    "\n",
    "using dotenv.net;\n",
    "\n",
    "const string MemoryCollectionName = \"aboutMe\";"
   ]
  },
  {
   "cell_type": "markdown",
   "metadata": {},
   "source": [
    "## Load the OpenAI variables from environment variables or an .env file"
   ]
  },
  {
   "cell_type": "code",
   "execution_count": null,
   "metadata": {
    "dotnet_interactive": {
     "language": "csharp"
    },
    "polyglot_notebook": {
     "kernelName": "csharp"
    },
    "vscode": {
     "languageId": "polyglot-notebook"
    }
   },
   "outputs": [],
   "source": [
    "DotEnv.Load();\n",
    "var deploymentName = Environment.GetEnvironmentVariable(\"GPT_OPENAI_DEPLOYMENT_NAME\");\n",
    "var endpoint = Environment.GetEnvironmentVariable(\"GPT_OPENAI_ENDPOINT\");\n",
    "var apiKey = Environment.GetEnvironmentVariable(\"GPT_OPENAI_KEY\");\n",
    "var adaDeploymentName = \"ada\";\n",
    "Console.WriteLine($\"Using deployment: {deploymentName} at: {endpoint} with key {apiKey.Substring(0, 5)}...\");"
   ]
  },
  {
   "cell_type": "markdown",
   "metadata": {},
   "source": [
    "## Get a Kernel with an embedding service"
   ]
  },
  {
   "cell_type": "code",
   "execution_count": null,
   "metadata": {
    "dotnet_interactive": {
     "language": "csharp"
    },
    "polyglot_notebook": {
     "kernelName": "csharp"
    },
    "vscode": {
     "languageId": "polyglot-notebook"
    }
   },
   "outputs": [],
   "source": [
    "var ramStore = new VolatileMemoryStore();\n",
    "\n",
    "var kernel = new KernelBuilder()\n",
    "            .WithAzureOpenAIChatCompletionService(deploymentName, endpoint, apiKey)\n",
    "            .WithAzureOpenAITextEmbeddingGenerationService(\"ada\", endpoint, apiKey)\n",
    "            .Build();\n",
    "            \n",
    "var embeddingGenerator = new AzureOpenAITextEmbeddingGeneration(adaDeploymentName, endpoint, apiKey,null,null,null);\n",
    "SemanticTextMemory textMemory = new(ramStore, embeddingGenerator);"
   ]
  },
  {
   "cell_type": "markdown",
   "metadata": {},
   "source": [
    "## Save memories - Method 1"
   ]
  },
  {
   "cell_type": "code",
   "execution_count": null,
   "metadata": {
    "dotnet_interactive": {
     "language": "csharp"
    },
    "polyglot_notebook": {
     "kernelName": "csharp"
    },
    "vscode": {
     "languageId": "polyglot-notebook"
    }
   },
   "outputs": [],
   "source": [
    "// ========= Store memories using the kernel =========\n",
    "\n",
    "await textMemory.SaveInformationAsync(MemoryCollectionName, id: \"info1\", text: \"My name is Andre\");\n",
    "await textMemory.SaveInformationAsync(MemoryCollectionName, id: \"info2\", text: \"I work as a tourist operator\");\n",
    "await textMemory.SaveInformationAsync(MemoryCollectionName, id: \"info3\", text: \"I've been living in Seattle since 2005\");\n",
    "await textMemory.SaveInformationAsync(MemoryCollectionName, id: \"info4\", text: \"I visited France and Italy five times since 2015\");"
   ]
  },
  {
   "cell_type": "markdown",
   "metadata": {},
   "source": [
    "## Save memories - Method 2 - using a skill"
   ]
  },
  {
   "cell_type": "code",
   "execution_count": null,
   "metadata": {
    "dotnet_interactive": {
     "language": "csharp"
    },
    "polyglot_notebook": {
     "kernelName": "csharp"
    },
    "vscode": {
     "languageId": "polyglot-notebook"
    }
   },
   "outputs": [],
   "source": [
    "// ========= Store memories using semantic function =========\n",
    "\n",
    "// Add Memory as a skill for other functions\n",
    "var memoryPlugin = new TextMemoryPlugin(textMemory);\n",
    "var memoryFunctions = kernel.ImportFunctions(memoryPlugin);\n",
    "\n",
    "// Build a semantic function that saves info to memory\n",
    "const string SaveFunctionDefinition = \"{{save $info}}\";\n",
    "var memorySaver = kernel.CreateSemanticFunction(SaveFunctionDefinition);\n",
    "\n",
    "var result = await kernel.RunAsync(memoryFunctions[\"Save\"], new ContextVariables()\n",
    "        {\n",
    "            [TextMemoryPlugin.CollectionParam] = MemoryCollectionName,\n",
    "            [TextMemoryPlugin.KeyParam] = \"info5\",\n",
    "            [\"input\"] = \"My family is from New York\"\n",
    "        });\n",
    "\n",
    "Console.WriteLine(result);"
   ]
  },
  {
   "cell_type": "markdown",
   "metadata": {},
   "source": [
    "## Retrive a memory by Key"
   ]
  },
  {
   "cell_type": "code",
   "execution_count": null,
   "metadata": {
    "dotnet_interactive": {
     "language": "csharp"
    },
    "polyglot_notebook": {
     "kernelName": "csharp"
    },
    "vscode": {
     "languageId": "polyglot-notebook"
    }
   },
   "outputs": [],
   "source": [
    "// ========= Test memory remember =========\n",
    "Console.WriteLine(\"========= Example: Recalling a Memory =========\");\n",
    "\n",
    "var result = await kernel.RunAsync(memoryFunctions[\"Retrieve\"], new ContextVariables()\n",
    "        {\n",
    "            [TextMemoryPlugin.CollectionParam] = MemoryCollectionName,\n",
    "            [TextMemoryPlugin.KeyParam] = \"info5\"\n",
    "        });\n",
    "Console.WriteLine(result);"
   ]
  },
  {
   "cell_type": "markdown",
   "metadata": {},
   "source": [
    "## Recall a memory based on relevance and a count limit"
   ]
  },
  {
   "cell_type": "code",
   "execution_count": null,
   "metadata": {
    "dotnet_interactive": {
     "language": "csharp"
    },
    "polyglot_notebook": {
     "kernelName": "csharp"
    },
    "vscode": {
     "languageId": "polyglot-notebook"
    }
   },
   "outputs": [],
   "source": [
    "Console.WriteLine(\"========= Example: Recalling an Idea =========\");\n",
    "\n",
    " await foreach (var answer in textMemory.SearchAsync(\n",
    "            collection: MemoryCollectionName,\n",
    "            query: \"where did I grow up?\",\n",
    "            limit: 2,\n",
    "            minRelevanceScore: 0.79,\n",
    "            withEmbeddings: true))\n",
    "        {\n",
    "            Console.WriteLine($\"Answer: {answer.Metadata.Text}\");\n",
    "        }"
   ]
  },
  {
   "cell_type": "markdown",
   "metadata": {},
   "source": [
    "## Recall a memory using an SK function"
   ]
  },
  {
   "cell_type": "code",
   "execution_count": null,
   "metadata": {
    "dotnet_interactive": {
     "language": "csharp"
    },
    "polyglot_notebook": {
     "kernelName": "csharp"
    },
    "vscode": {
     "languageId": "polyglot-notebook"
    }
   },
   "outputs": [],
   "source": [
    "Console.WriteLine(\"========= Example: Using Recall in a Semantic Function =========\");\n",
    "\n",
    "result = await kernel.RunAsync(memoryFunctions[\"Recall\"], new ContextVariables()\n",
    "        {\n",
    "            [TextMemoryPlugin.CollectionParam] = MemoryCollectionName,\n",
    "            [TextMemoryPlugin.LimitParam] = \"2\",\n",
    "            [TextMemoryPlugin.RelevanceParam] = \"0.79\",\n",
    "            [\"input\"] = \"Ask: where do I live?\"\n",
    "        });\n",
    "\n",
    " Console.WriteLine($\"Answer: {result.GetValue<string>()}\"); "
   ]
  },
  {
   "cell_type": "markdown",
   "metadata": {},
   "source": [
    "## Remove a memory by key"
   ]
  },
  {
   "cell_type": "code",
   "execution_count": null,
   "metadata": {
    "dotnet_interactive": {
     "language": "csharp"
    },
    "polyglot_notebook": {
     "kernelName": "csharp"
    },
    "vscode": {
     "languageId": "polyglot-notebook"
    }
   },
   "outputs": [],
   "source": [
    "Console.WriteLine(\"========= Example: Remove a memory by key =========\");\n",
    "\n",
    "var result = await kernel.RunAsync(memoryFunctions[\"Remove\"], new ContextVariables()\n",
    "        {\n",
    "            [TextMemoryPlugin.CollectionParam] = MemoryCollectionName,\n",
    "            [TextMemoryPlugin.KeyParam] = \"info5\"\n",
    "        });\n",
    "Console.WriteLine(result);"
   ]
  },
  {
   "cell_type": "markdown",
   "metadata": {},
   "source": [
    "## Get a list of collections"
   ]
  },
  {
   "cell_type": "code",
   "execution_count": null,
   "metadata": {
    "dotnet_interactive": {
     "language": "csharp"
    },
    "polyglot_notebook": {
     "kernelName": "csharp"
    },
    "vscode": {
     "languageId": "polyglot-notebook"
    }
   },
   "outputs": [],
   "source": [
    "Console.WriteLine(\"========= Example: Get a list of collections =========\");\n",
    "var collections = await textMemory.GetCollectionsAsync();\n",
    "foreach (var collection in collections)\n",
    "{\n",
    "    Console.WriteLine(collection);\n",
    "}"
   ]
  },
  {
   "cell_type": "markdown",
   "metadata": {},
   "source": [
    "## Remove a memory using the textMemory functionality"
   ]
  },
  {
   "cell_type": "code",
   "execution_count": null,
   "metadata": {
    "dotnet_interactive": {
     "language": "csharp"
    },
    "polyglot_notebook": {
     "kernelName": "csharp"
    },
    "vscode": {
     "languageId": "polyglot-notebook"
    }
   },
   "outputs": [],
   "source": [
    "Console.WriteLine(\"========= Example: Remove a memory by key =========\");\n",
    "await textMemory.RemoveAsync(MemoryCollectionName, \"info1\");\n"
   ]
  }
 ],
 "metadata": {
  "language_info": {
   "name": "python"
  },
  "orig_nbformat": 4
 },
 "nbformat": 4,
 "nbformat_minor": 2
}
