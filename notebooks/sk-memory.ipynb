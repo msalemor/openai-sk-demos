{
 "cells": [
  {
   "cell_type": "markdown",
   "metadata": {},
   "source": [
    "# SK Memory - RAG Patter Primer"
   ]
  },
  {
   "cell_type": "markdown",
   "metadata": {},
   "source": [
    "Reference:\n",
    "- https://github.com/Azure-Samples/azure-search-openai-demo\n",
    "- https://github.com/azure-samples/semantic-kernel-rag-chat"
   ]
  },
  {
   "cell_type": "markdown",
   "metadata": {},
   "source": [
    "## Load the required .NET packages and supporting classes"
   ]
  },
  {
   "cell_type": "code",
   "execution_count": 1,
   "metadata": {
    "dotnet_interactive": {
     "language": "csharp"
    },
    "polyglot_notebook": {
     "kernelName": "csharp"
    },
    "vscode": {
     "languageId": "polyglot-notebook"
    }
   },
   "outputs": [
    {
     "data": {
      "text/html": [
       "<div><div></div><div></div><div><strong>Installed Packages</strong><ul><li><span>dotenv.net, 3.1.2</span></li><li><span>Microsoft.Extensions.Logging.Console, 7.0.0</span></li><li><span>Microsoft.SemanticKernel, 0.18.230725.3-preview</span></li></ul></div></div>"
      ]
     },
     "metadata": {},
     "output_type": "display_data"
    }
   ],
   "source": [
    "#r \"nuget: Microsoft.SemanticKernel, 0.18.230725.3-preview\"\n",
    "#r \"nuget: Microsoft.Extensions.Logging.Console\"\n",
    "#r \"nuget: dotenv.net\"\n",
    "\n",
    "using System.ComponentModel;\n",
    "using System.Net.Http;\n",
    "using Microsoft.Extensions.Logging;\n",
    "using Microsoft.SemanticKernel;\n",
    "using Microsoft.SemanticKernel.Memory;\n",
    "using Microsoft.SemanticKernel.SkillDefinition;\n",
    "using Microsoft.SemanticKernel.Skills.Core;\n",
    "using dotenv.net;\n",
    "using InteractiveKernel = Microsoft.DotNet.Interactive.Kernel;\n",
    "\n",
    "#!import Utils/ConsoleLogger.cs\n",
    "\n",
    "const string MemoryCollectionName = \"aboutMe\";"
   ]
  },
  {
   "cell_type": "markdown",
   "metadata": {},
   "source": [
    "## Load the OpenAI variables from environment variables or an .env file"
   ]
  },
  {
   "cell_type": "code",
   "execution_count": 2,
   "metadata": {
    "dotnet_interactive": {
     "language": "csharp"
    },
    "polyglot_notebook": {
     "kernelName": "csharp"
    },
    "vscode": {
     "languageId": "polyglot-notebook"
    }
   },
   "outputs": [
    {
     "name": "stdout",
     "output_type": "stream",
     "text": [
      "Using deployment: gpt at: https://alemorfr.openai.azure.com/ with key 32c87...\n"
     ]
    }
   ],
   "source": [
    "DotEnv.Load();\n",
    "var deploymentName = Environment.GetEnvironmentVariable(\"GPT_OPENAI_DEPLOYMENT_NAME\");\n",
    "var endpoint = Environment.GetEnvironmentVariable(\"GPT_OPENAI_ENDPOINT\");\n",
    "var apiKey = Environment.GetEnvironmentVariable(\"GPT_OPENAI_KEY\");\n",
    "var adaDeploymentName = \"ada\";\n",
    "Console.WriteLine($\"Using deployment: {deploymentName} at: {endpoint} with key {apiKey.Substring(0, 5)}...\");"
   ]
  },
  {
   "cell_type": "markdown",
   "metadata": {},
   "source": [
    "## Get a Kernel with an embedding service"
   ]
  },
  {
   "cell_type": "code",
   "execution_count": 3,
   "metadata": {
    "dotnet_interactive": {
     "language": "csharp"
    },
    "polyglot_notebook": {
     "kernelName": "csharp"
    },
    "vscode": {
     "languageId": "polyglot-notebook"
    }
   },
   "outputs": [],
   "source": [
    "var kernel = Kernel.Builder\n",
    "            .WithLogger(ConsoleLogger.Log)\n",
    "            .WithAzureChatCompletionService(deploymentName, endpoint, apiKey)\n",
    "            .WithAzureTextEmbeddingGenerationService(adaDeploymentName, endpoint, apiKey)\n",
    "            .WithMemoryStorage(new VolatileMemoryStore())\n",
    "            .Build();"
   ]
  },
  {
   "cell_type": "markdown",
   "metadata": {},
   "source": [
    "## Save memories"
   ]
  },
  {
   "cell_type": "code",
   "execution_count": 4,
   "metadata": {
    "dotnet_interactive": {
     "language": "csharp"
    },
    "polyglot_notebook": {
     "kernelName": "csharp"
    },
    "vscode": {
     "languageId": "polyglot-notebook"
    }
   },
   "outputs": [],
   "source": [
    "// ========= Store memories using the kernel =========\n",
    "\n",
    "await kernel.Memory.SaveInformationAsync(MemoryCollectionName, id: \"info1\", text: \"My name is Andre\");\n",
    "await kernel.Memory.SaveInformationAsync(MemoryCollectionName, id: \"info2\", text: \"I work as a tourist operator\");\n",
    "await kernel.Memory.SaveInformationAsync(MemoryCollectionName, id: \"info3\", text: \"I've been living in Seattle since 2005\");\n",
    "await kernel.Memory.SaveInformationAsync(MemoryCollectionName, id: \"info4\", text: \"I visited France and Italy five times since 2015\");"
   ]
  },
  {
   "cell_type": "markdown",
   "metadata": {},
   "source": [
    "## Record memory using a Skill"
   ]
  },
  {
   "cell_type": "code",
   "execution_count": 5,
   "metadata": {
    "dotnet_interactive": {
     "language": "csharp"
    },
    "polyglot_notebook": {
     "kernelName": "csharp"
    },
    "vscode": {
     "languageId": "polyglot-notebook"
    }
   },
   "outputs": [],
   "source": [
    "// ========= Store memories using semantic function =========\n",
    "\n",
    "// Add Memory as a skill for other functions\n",
    "var memorySkill = new TextMemorySkill(kernel.Memory);\n",
    "kernel.ImportSkill(memorySkill);\n",
    "\n",
    "// Build a semantic function that saves info to memory\n",
    "const string SaveFunctionDefinition = \"{{save $info}}\";\n",
    "var memorySaver = kernel.CreateSemanticFunction(SaveFunctionDefinition);\n",
    "\n",
    "var context = kernel.CreateNewContext();\n",
    "context[TextMemorySkill.CollectionParam] = MemoryCollectionName;\n",
    "context[TextMemorySkill.KeyParam] = \"info5\";\n",
    "context[\"info\"] = \"My family is from New York\";\n",
    "await memorySaver.InvokeAsync(context);"
   ]
  },
  {
   "cell_type": "markdown",
   "metadata": {},
   "source": [
    "## Retrive a memory"
   ]
  },
  {
   "cell_type": "code",
   "execution_count": 6,
   "metadata": {
    "dotnet_interactive": {
     "language": "csharp"
    },
    "polyglot_notebook": {
     "kernelName": "csharp"
    },
    "vscode": {
     "languageId": "polyglot-notebook"
    }
   },
   "outputs": [
    {
     "name": "stdout",
     "output_type": "stream",
     "text": [
      "========= Example: Recalling a Memory =========\n",
      "Memory associated with 'info1': My family is from New York\n"
     ]
    }
   ],
   "source": [
    "// ========= Test memory remember =========\n",
    "Console.WriteLine(\"========= Example: Recalling a Memory =========\");\n",
    "\n",
    "var answer = await memorySkill.RetrieveAsync(MemoryCollectionName, \"info5\", logger: context.Log);\n",
    "Console.WriteLine(\"Memory associated with 'info1': {0}\", answer);"
   ]
  },
  {
   "cell_type": "markdown",
   "metadata": {},
   "source": [
    "## Test a memory recall"
   ]
  },
  {
   "cell_type": "code",
   "execution_count": 7,
   "metadata": {
    "dotnet_interactive": {
     "language": "csharp"
    },
    "polyglot_notebook": {
     "kernelName": "csharp"
    },
    "vscode": {
     "languageId": "polyglot-notebook"
    }
   },
   "outputs": [
    {
     "name": "stdout",
     "output_type": "stream",
     "text": [
      "========= Example: Recalling an Idea =========\n",
      "Ask: where did I grow up?\n",
      "Answer:\n",
      "[\"My family is from New York\",\"I\\u0027ve been living in Seattle since 2005\"]\n",
      "Ask: where do I live?\n",
      "Answer:\n",
      "[\"I\\u0027ve been living in Seattle since 2005\",\"My family is from New York\"]\n"
     ]
    }
   ],
   "source": [
    "Console.WriteLine(\"========= Example: Recalling an Idea =========\");\n",
    "\n",
    "answer = await memorySkill.RecallAsync(\"where did I grow up?\", MemoryCollectionName, relevance: null, limit: 2, logger: context.Log);\n",
    "Console.WriteLine(\"Ask: where did I grow up?\");\n",
    "Console.WriteLine(\"Answer:\\n{0}\", answer);\n",
    "\n",
    "answer = await memorySkill.RecallAsync(\"where do I live?\", MemoryCollectionName, relevance: null, limit: 2, logger: context.Log);\n",
    "Console.WriteLine(\"Ask: where do I live?\");\n",
    "Console.WriteLine(\"Answer:\\n{0}\", answer);"
   ]
  },
  {
   "cell_type": "markdown",
   "metadata": {},
   "source": [
    "## Use an SK function to recall a memory"
   ]
  },
  {
   "cell_type": "code",
   "execution_count": 8,
   "metadata": {
    "dotnet_interactive": {
     "language": "csharp"
    },
    "polyglot_notebook": {
     "kernelName": "csharp"
    },
    "vscode": {
     "languageId": "polyglot-notebook"
    }
   },
   "outputs": [
    {
     "name": "stdout",
     "output_type": "stream",
     "text": [
      "========= Example: Using Recall in a Semantic Function =========\n",
      "Do I live in the same town where I grew up?\n",
      "\n",
      "The given facts do not provide information about where you grew up, so it is not possible to determine whether you currently live in the same town.\n"
     ]
    }
   ],
   "source": [
    "Console.WriteLine(\"========= Example: Using Recall in a Semantic Function =========\");\n",
    "\n",
    "// Build a semantic function that uses memory to find facts\n",
    "const string RecallFunctionDefinition = @\"\n",
    "Consider only the facts below when answering questions.\n",
    "\n",
    "About me: {{recall 'where did I grow up?'}}\n",
    "About me: {{recall 'where do I live?'}}\n",
    "\n",
    "Question: {{$input}}\n",
    "\n",
    "Answer:\n",
    "\";\n",
    "\n",
    "var aboutMeOracle = kernel.CreateSemanticFunction(RecallFunctionDefinition, maxTokens: 100);\n",
    "\n",
    "context = kernel.CreateNewContext();\n",
    "context[TextMemorySkill.CollectionParam] = MemoryCollectionName;\n",
    "context[TextMemorySkill.RelevanceParam] = \"0.8\";\n",
    "var result = await aboutMeOracle.InvokeAsync(\"Do I live in the same town where I grew up?\", context);\n",
    "\n",
    "Console.WriteLine(\"Do I live in the same town where I grew up?\\n\");\n",
    "Console.WriteLine(result);"
   ]
  },
  {
   "cell_type": "markdown",
   "metadata": {},
   "source": [
    "## Remove a memory"
   ]
  },
  {
   "cell_type": "code",
   "execution_count": 9,
   "metadata": {
    "dotnet_interactive": {
     "language": "csharp"
    },
    "polyglot_notebook": {
     "kernelName": "csharp"
    },
    "vscode": {
     "languageId": "polyglot-notebook"
    }
   },
   "outputs": [
    {
     "name": "stdout",
     "output_type": "stream",
     "text": [
      "========= Example: Forgetting a Memory =========\n",
      "Tell me a bit about myself\n",
      "\n",
      "Based on the given facts, you are originally from New York and have been living in Seattle since 2005.\n",
      "Tell me a bit about myself\n",
      "\n",
      "Based on the given facts, you are originally from New York and have been living in Seattle since 2005.\n"
     ]
    }
   ],
   "source": [
    "Console.WriteLine(\"========= Example: Forgetting a Memory =========\");\n",
    "\n",
    "context[\"fact1\"] = \"What is my name?\";\n",
    "context[\"fact2\"] = \"What do I do for a living?\";\n",
    "context[TextMemorySkill.RelevanceParam] = \".75\";\n",
    "\n",
    "result = await aboutMeOracle.InvokeAsync(\"Tell me a bit about myself\", context);\n",
    "\n",
    "Console.WriteLine(\"Tell me a bit about myself\\n\");\n",
    "Console.WriteLine(result);\n",
    "\n",
    "context[TextMemorySkill.KeyParam] = \"info1\";\n",
    "await memorySkill.RemoveAsync(MemoryCollectionName, \"info1\", logger: context.Log);\n",
    "\n",
    "result = await aboutMeOracle.InvokeAsync(\"Tell me a bit about myself\", context);\n",
    "\n",
    "Console.WriteLine(\"Tell me a bit about myself\\n\");\n",
    "Console.WriteLine(result);"
   ]
  }
 ],
 "metadata": {
  "language_info": {
   "name": "python"
  },
  "orig_nbformat": 4
 },
 "nbformat": 4,
 "nbformat_minor": 2
}
