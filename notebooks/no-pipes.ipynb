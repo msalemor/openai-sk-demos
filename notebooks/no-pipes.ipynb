{
 "cells": [
  {
   "cell_type": "markdown",
   "metadata": {},
   "source": [
    "# Semantic-Kernel ChatBot\n",
    "\n",
    "Advantages of using SK over vanilla REST or standar OpenAI SDK:\n",
    "\n",
    "- HttpClient handling and built-in retry logic\n",
    "- Pre-defined models (Prompt & Completion)\n",
    "- Process prompts as pipes\n",
    "- Prompts and prompt templates (semantic functions)\n",
    "- Process native functions as semantic functions\n",
    "\n",
    "\n",
    "## Load the required .NET Packages"
   ]
  }
 ],
 "metadata": {
  "language_info": {
   "name": "python"
  },
  "orig_nbformat": 4
 },
 "nbformat": 4,
 "nbformat_minor": 2
}
