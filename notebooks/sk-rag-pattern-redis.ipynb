{
 "cells": [
  {
   "cell_type": "markdown",
   "metadata": {},
   "source": [
    "# SK RAG Pattern Foundational Concepts - Redis Cache\n",
    "\n",
    "Learning objectives:\n",
    "\n",
    "- RAG pattern foundational concepts\n",
    "- Redis cache as a vector database\n",
    "\n",
    "## Redis setup\n",
    "\n",
    "### Running Redis in a local container:\n",
    "\n",
    "- docker pull `redis/redis-stack:latest`\n",
    "  - Note this version of redis includes the `RedisSearch` module\n",
    "- Then execute: \n",
    "  - `docker run -d --name redis-stack -p 6379:6379 -p 8001:8001 redis/redis-stack:latest`\n",
    "\n",
    "Connection string:\n",
    "- `PG_CONN_STR=\"Host=<server>;Port=5432;Database=<database>;Username=<user>;Password=<password>\"`\n",
    "\n",
    "### Running from Azure Redis Cache\n",
    "\n",
    "Connection string:\n",
    "\n",
    "- `REDIS_CONN_STR=localhost`\n",
    "\n",
    "## Setup\n",
    "\n",
    "### Load required .NET packages and supporting constants, classes, etc."
   ]
  },
  {
   "cell_type": "code",
   "execution_count": null,
   "metadata": {
    "dotnet_interactive": {
     "language": "csharp"
    },
    "polyglot_notebook": {
     "kernelName": "csharp"
    }
   },
   "outputs": [],
   "source": [
    "#r \"nuget: Microsoft.SemanticKernel, 1.4.0\"\n",
    "#r \"nuget: Microsoft.SemanticKernel.Core, 1.4.0\"\n",
    "#r \"nuget: Microsoft.SemanticKernel.Plugins.Memory, 1.4.0-alpha\"\n",
    "#r \"nuget: Microsoft.SemanticKernel.Connectors.Redis, 1.4.0-alpha\"\n",
    "#r \"nuget: StackExchange.Redis\"\n",
    "#r \"nuget: dotenv.net\"\n",
    "\n",
    "using System;\n",
    "\n",
    "using System.IO;\n",
    "using System.Text;\n",
    "using System.Text.RegularExpressions;\n",
    "using System.Text.Json;\n",
    "using System.Text.Json.Serialization;\n",
    "using StackExchange.Redis;\n",
    "using Microsoft.SemanticKernel;\n",
    "using Microsoft.SemanticKernel.Connectors.OpenAI;\n",
    "using Microsoft.SemanticKernel.Connectors.Redis;\n",
    "using Microsoft.SemanticKernel.Memory;\n",
    "using Microsoft.SemanticKernel.Plugins.Memory;\n",
    "\n",
    "using dotenv.net;\n",
    "using InteractiveKernel = Microsoft.DotNet.Interactive.Kernel;\n",
    "\n",
    "#!import Models/Models.cs\n",
    "\n",
    "const int ADA_EMBEDDING_SIZE = 1536;\n",
    "const string MemoryCollectionName = \"RedisCollection\";"
   ]
  },
  {
   "cell_type": "markdown",
   "metadata": {},
   "source": [
    "### Read the API Key and endpoints from environment variables or the .env file"
   ]
  },
  {
   "cell_type": "code",
   "execution_count": null,
   "metadata": {
    "dotnet_interactive": {
     "language": "csharp"
    },
    "polyglot_notebook": {
     "kernelName": "csharp"
    }
   },
   "outputs": [],
   "source": [
    "// Load the .env file\n",
    "DotEnv.Load();\n",
    "\n",
    "// Get the OpenAI deployment name, endpoint, and key from the environment variables\n",
    "var deploymentName = Environment.GetEnvironmentVariable(\"GPT_OPENAI_DEPLOYMENT_NAME\");\n",
    "var endpoint = Environment.GetEnvironmentVariable(\"GPT_OPENAI_ENDPOINT\");\n",
    "var apiKey = Environment.GetEnvironmentVariable(\"GPT_OPENAI_KEY\");\n",
    "var redis_conn_str = Environment.GetEnvironmentVariable(\"REDIS_CONN_STR\");\n",
    "var adaDeploymentName = \"ada\";"
   ]
  },
  {
   "cell_type": "markdown",
   "metadata": {},
   "source": [
    "### Get a kernel instance configured for text completions and embeddings"
   ]
  },
  {
   "cell_type": "code",
   "execution_count": null,
   "metadata": {
    "dotnet_interactive": {
     "language": "csharp"
    },
    "polyglot_notebook": {
     "kernelName": "csharp"
    }
   },
   "outputs": [],
   "source": [
    "// I'm using a RAM stored Vector DB, but I can switch providers like Azure Search, DuckDB, SQLite, etc.\n",
    "#pragma warning disable CS8618,IDE0009,CA1051,CA1050,CA1707,CA2007,VSTHRD111,CS1591,RCS1110,CA5394,SKEXP0001,SKEXP0002,SKEXP0003,SKEXP0004,SKEXP0010,SKEXP0011,SKEXP0012,SKEXP0020,SKEXP0021,SKEXP0022,SKEXP0023,SKEXP0024,SKEXP0025,SKEXP0026,SKEXP0027,SKEXP0028,SKEXP0029,SKEXP0030,SKEXP0031,SKEXP0032,SKEXP0040,SKEXP0041,SKEXP0042,SKEXP0050,SKEXP0051,SKEXP0052,SKEXP0053,SKEXP0054,SKEXP0055,SKEXP0060,SKEXP0061,SKEXP0101,SKEXP0102\n",
    "\n",
    "var kernel = Kernel.CreateBuilder()\n",
    "    .AddAzureOpenAIChatCompletion(deploymentName, endpoint, apiKey)\n",
    "    .AddAzureOpenAITextEmbeddingGeneration(adaDeploymentName, endpoint, apiKey)\n",
    "    .Build();"
   ]
  },
  {
   "cell_type": "code",
   "execution_count": null,
   "metadata": {
    "dotnet_interactive": {
     "language": "csharp"
    },
    "polyglot_notebook": {
     "kernelName": "csharp"
    }
   },
   "outputs": [],
   "source": [
    "#pragma warning disable CS8618,IDE0009,CA1051,CA1050,CA1707,CA2007,VSTHRD111,CS1591,RCS1110,CA5394,SKEXP0001,SKEXP0002,SKEXP0003,SKEXP0004,SKEXP0010,SKEXP0011,SKEXP0012,SKEXP0020,SKEXP0021,SKEXP0022,SKEXP0023,SKEXP0024,SKEXP0025,SKEXP0026,SKEXP0027,SKEXP0028,SKEXP0029,SKEXP0030,SKEXP0031,SKEXP0032,SKEXP0040,SKEXP0041,SKEXP0042,SKEXP0050,SKEXP0051,SKEXP0052,SKEXP0053,SKEXP0054,SKEXP0055,SKEXP0060,SKEXP0061,SKEXP0101,SKEXP0102\n",
    "\n",
    "ConnectionMultiplexer connectionMultiplexer = await ConnectionMultiplexer.ConnectAsync(redis_conn_str);\n",
    "IDatabase database = connectionMultiplexer.GetDatabase();\n",
    "IMemoryStore memoryStore = new RedisMemoryStore(database, vectorSize: ADA_EMBEDDING_SIZE);\n",
    "\n",
    "var embeddingGenerator = new AzureOpenAITextEmbeddingGenerationService(adaDeploymentName, endpoint, apiKey);\n",
    "\n",
    "// The combination of the text embedding generator and the memory store makes up the 'SemanticTextMemory' object used to\n",
    "// store and retrieve memories.\n",
    "SemanticTextMemory textMemory = new(memoryStore, embeddingGenerator);"
   ]
  },
  {
   "cell_type": "markdown",
   "metadata": {},
   "source": [
    "## Ingestion\n",
    "\n",
    "### Read the files and chunk them by paragraph"
   ]
  },
  {
   "cell_type": "code",
   "execution_count": null,
   "metadata": {
    "dotnet_interactive": {
     "language": "csharp"
    },
    "polyglot_notebook": {
     "kernelName": "csharp"
    }
   },
   "outputs": [],
   "source": [
    "const string FOLDER_PATH = \"data/\";\n",
    "string[] files = Directory.GetFiles(FOLDER_PATH);\n",
    "List<Chunk> chunks = [];\n",
    "\n",
    "foreach (string file in files)\n",
    "{\n",
    "    if (file.Contains(\"water\"))\n",
    "    {\n",
    "        Console.WriteLine(file);        \n",
    "        var contents = File.ReadAllText(file).Split(\"\\n\\n\");\n",
    "        var fileName = Path.GetFileName(file);\n",
    "        var id = 1;\n",
    "        foreach(var content in contents)\n",
    "        {\n",
    "            // Add the chunk to the list\n",
    "            var c = new Chunk($\"{fileName}-{contents.Length}-{id}\",content, fileName);\n",
    "            Console.WriteLine(c);\n",
    "            chunks.Add(c);\n",
    "            id++;\n",
    "        }\n",
    "    }\n",
    "}"
   ]
  },
  {
   "cell_type": "markdown",
   "metadata": {},
   "source": [
    "### Save every chunk as a memory"
   ]
  },
  {
   "cell_type": "code",
   "execution_count": null,
   "metadata": {
    "dotnet_interactive": {
     "language": "csharp"
    },
    "polyglot_notebook": {
     "kernelName": "csharp"
    }
   },
   "outputs": [],
   "source": [
    "// Create an embedding generator to use for semantic memory.\n",
    "foreach(var chunk in chunks)\n",
    "{    \n",
    "    await textMemory.SaveInformationAsync(MemoryCollectionName, id: chunk.Id, text: chunk.Text, description: chunk.File);\n",
    "}"
   ]
  },
  {
   "cell_type": "markdown",
   "metadata": {},
   "source": [
    "## Grounding\n",
    "\n",
    "### Retrieve the memory based on a query"
   ]
  },
  {
   "cell_type": "code",
   "execution_count": null,
   "metadata": {
    "dotnet_interactive": {
     "language": "csharp"
    },
    "polyglot_notebook": {
     "kernelName": "csharp"
    }
   },
   "outputs": [],
   "source": [
    "var question = \"What is the chemical composition of water?\";\n",
    "\n",
    "#pragma warning disable CS8618,IDE0009,CA1051,CA1050,CA1707,CA2007,VSTHRD111,CS1591,RCS1110,CA5394,SKEXP0001,SKEXP0002,SKEXP0003,SKEXP0004,SKEXP0010,SKEXP0011,SKEXP0012,SKEXP0020,SKEXP0021,SKEXP0022,SKEXP0023,SKEXP0024,SKEXP0025,SKEXP0026,SKEXP0027,SKEXP0028,SKEXP0029,SKEXP0030,SKEXP0031,SKEXP0032,SKEXP0040,SKEXP0041,SKEXP0042,SKEXP0050,SKEXP0051,SKEXP0052,SKEXP0053,SKEXP0054,SKEXP0055,SKEXP0060,SKEXP0061,SKEXP0101,SKEXP0102\n",
    "IAsyncEnumerable<MemoryQueryResult> queryResults =\n",
    "                textMemory.SearchAsync(MemoryCollectionName, question, limit: 3, minRelevanceScore: 0.77);"
   ]
  },
  {
   "cell_type": "markdown",
   "metadata": {},
   "source": [
    "\n",
    "### Find memories based on query, and collect the text in the memories to augment the prompt"
   ]
  },
  {
   "cell_type": "code",
   "execution_count": null,
   "metadata": {
    "dotnet_interactive": {
     "language": "csharp"
    },
    "polyglot_notebook": {
     "kernelName": "csharp"
    }
   },
   "outputs": [],
   "source": [
    "// Keep the text for the recalled memories\n",
    "StringBuilder context = new StringBuilder();\n",
    "\n",
    "#pragma warning disable CS8618,IDE0009,CA1051,CA1050,CA1707,CA2007,VSTHRD111,CS1591,RCS1110,CA5394,SKEXP0001,SKEXP0002,SKEXP0003,SKEXP0004,SKEXP0010,SKEXP0011,SKEXP0012,SKEXP0020,SKEXP0021,SKEXP0022,SKEXP0023,SKEXP0024,SKEXP0025,SKEXP0026,SKEXP0027,SKEXP0028,SKEXP0029,SKEXP0030,SKEXP0031,SKEXP0032,SKEXP0040,SKEXP0041,SKEXP0042,SKEXP0050,SKEXP0051,SKEXP0052,SKEXP0053,SKEXP0054,SKEXP0055,SKEXP0060,SKEXP0061,SKEXP0101,SKEXP0102\n",
    "await foreach (MemoryQueryResult r in queryResults)\n",
    "{\n",
    "    // Append the text\n",
    "    context.Append(\"Text:\\n\"+r.Metadata.Text+\"\\n\\n\"+\"Source:\\n\"+r.Metadata.Description+\"\\n\\n\");\n",
    "}\n",
    "\n",
    "// Final augmented text\n",
    "var promptContext = context.ToString();\n",
    "Console.WriteLine($\"User:\\n{question}\\n\\nNearest results:\\n{promptContext}\")"
   ]
  },
  {
   "cell_type": "markdown",
   "metadata": {},
   "source": [
    "## Process Prompt & Completion"
   ]
  },
  {
   "cell_type": "markdown",
   "metadata": {},
   "source": [
    "### Create a SK function"
   ]
  },
  {
   "cell_type": "code",
   "execution_count": null,
   "metadata": {
    "dotnet_interactive": {
     "language": "csharp"
    },
    "polyglot_notebook": {
     "kernelName": "csharp"
    }
   },
   "outputs": [],
   "source": [
    "const string promptTemplate = \"{{$input}}\\n\\nContext: ===\\n{{$context}}\\n===\\n\\nadd a source reference to the end of each sentence. e.g. Apple is a fruit [reference1.pdf][reference2.pdf]. Use only the provided text.\";\n",
    "var excuseFunction = kernel.CreateFunctionFromPrompt(promptTemplate, new OpenAIPromptExecutionSettings() { MaxTokens = 500, Temperature = 0.4, TopP = 1 });"
   ]
  },
  {
   "cell_type": "markdown",
   "metadata": {},
   "source": [
    "### Submit the prompt and print the results"
   ]
  },
  {
   "cell_type": "code",
   "execution_count": null,
   "metadata": {
    "dotnet_interactive": {
     "language": "csharp"
    },
    "polyglot_notebook": {
     "kernelName": "csharp"
    }
   },
   "outputs": [],
   "source": [
    "string SplingLines(string longLine, int max_size =120)\n",
    "{\n",
    "    int currentLineLength = 0;\n",
    "    StringBuilder sb = new StringBuilder();\n",
    "    foreach (string word in longLine.Split(' '))\n",
    "    {\n",
    "        if (currentLineLength + word.Length >= max_size)\n",
    "        {\n",
    "            sb.AppendLine();\n",
    "            currentLineLength = 0;\n",
    "        }\n",
    "\n",
    "        sb.Append(word + \" \");\n",
    "        currentLineLength += word.Length + 1;\n",
    "    }\n",
    "    return sb.ToString();\n",
    "}"
   ]
  },
  {
   "cell_type": "code",
   "execution_count": null,
   "metadata": {
    "dotnet_interactive": {
     "language": "csharp"
    },
    "polyglot_notebook": {
     "kernelName": "csharp"
    }
   },
   "outputs": [],
   "source": [
    "var arguments = new KernelArguments()\n",
    "        {\n",
    "            [\"input\"] = question,\n",
    "            [\"context\"] = promptContext\n",
    "        };\n",
    "var result = await kernel.InvokeAsync(excuseFunction, arguments);\n",
    "\n",
    "Console.WriteLine($\"Memories store: Redis Cache\\n\");\n",
    "Console.WriteLine($\"user:\\n{question}\\n\");\n",
    "Console.WriteLine($\"assistant:\\n{SplingLines(result.ToString())}\");"
   ]
  }
 ],
 "metadata": {
  "kernelspec": {
   "display_name": ".NET (C#)",
   "language": "C#",
   "name": ".net-csharp"
  },
  "language_info": {
   "name": "polyglot-notebook"
  },
  "polyglot_notebook": {
   "kernelInfo": {
    "defaultKernelName": "csharp",
    "items": [
     {
      "aliases": [],
      "languageName": "csharp",
      "name": "csharp"
     }
    ]
   }
  }
 },
 "nbformat": 4,
 "nbformat_minor": 2
}
