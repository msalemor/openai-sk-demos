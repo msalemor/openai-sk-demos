{
 "cells": [
  {
   "cell_type": "markdown",
   "metadata": {},
   "source": [
    "# REST ChatBot\n",
    "\n",
    "Advantages of using SK over vanilla REST or standar OpenAI SDK:\n",
    "\n",
    "- HttpClient handling and built-in retry logic\n",
    "- Pre-defined models (Prompt & Completion)\n",
    "- Process prompts as pipes\n",
    "- Prompts and prompt templates (semantic functions)\n",
    "- Process native functions as semantic functions\n",
    "\n",
    "\n",
    "## Load the required .NET packages and supporting classes"
   ]
  },
  {
   "cell_type": "code",
   "execution_count": 2,
   "metadata": {
    "dotnet_interactive": {
     "language": "csharp"
    },
    "polyglot_notebook": {
     "kernelName": "csharp"
    },
    "vscode": {
     "languageId": "polyglot-notebook"
    }
   },
   "outputs": [
    {
     "data": {
      "text/html": [
       "<div><div></div><div></div><div><strong>Installed Packages</strong><ul><li><span>dotenv.net, 3.1.2</span></li></ul></div></div>"
      ]
     },
     "metadata": {},
     "output_type": "display_data"
    }
   ],
   "source": [
    "using System;\n",
    "using System.Net;\n",
    "using System.Net.Http;\n",
    "using System.Net.Http.Headers;\n",
    "using System.Text;\n",
    "using System.Text.Json;\n",
    "using System.Text.Json.Serialization;\n",
    "using dotenv.net;\n",
    "using InteractiveKernel = Microsoft.DotNet.Interactive.Kernel;\n",
    "\n",
    "#r \"nuget: dotenv.net\"\n",
    "\n",
    "#!import Models/Models.cs\n",
    "#!import Utils/HttpUtils.cs"
   ]
  },
  {
   "cell_type": "markdown",
   "metadata": {},
   "source": [
    "## Load the OpenAI variables from environment variables or an .env file"
   ]
  },
  {
   "cell_type": "code",
   "execution_count": 3,
   "metadata": {
    "dotnet_interactive": {
     "language": "csharp"
    },
    "polyglot_notebook": {
     "kernelName": "csharp"
    },
    "vscode": {
     "languageId": "polyglot-notebook"
    }
   },
   "outputs": [
    {
     "name": "stdout",
     "output_type": "stream",
     "text": [
      "Using deployment at: https://alemorfr.openai.azure.com/openai/deployments/gpt/chat/completions?api-version=2023-03-15-preview with key 32c87...\n"
     ]
    }
   ],
   "source": [
    "DotEnv.Load();\n",
    "var uri = Environment.GetEnvironmentVariable(\"GPT_OPENAI_FULL_ENDPOINT\");\n",
    "var apiKey = Environment.GetEnvironmentVariable(\"GPT_OPENAI_KEY\");\n",
    "Console.WriteLine($\"Using deployment at: {uri} with key {apiKey.Substring(0, 5)}...\");"
   ]
  },
  {
   "cell_type": "markdown",
   "metadata": {},
   "source": [
    "## Get a HttpClient instance\n",
    "\n",
    "**> Note:** This is not necessary, but it may help prevent port exhaustion issues."
   ]
  },
  {
   "cell_type": "code",
   "execution_count": 4,
   "metadata": {
    "dotnet_interactive": {
     "language": "csharp"
    },
    "polyglot_notebook": {
     "kernelName": "csharp"
    },
    "vscode": {
     "languageId": "polyglot-notebook"
    }
   },
   "outputs": [],
   "source": [
    "// Note: This may be good practice depending on your use case. Otherwise, an HttpClient will be created for you.\n",
    "var client = new HttpClient();\n",
    "client.DefaultRequestHeaders.Accept.Add(new MediaTypeWithQualityHeaderValue(\"application/json\"));\n",
    "client.DefaultRequestHeaders.Add(\"api-key\", $\"{apiKey}\");"
   ]
  },
  {
   "cell_type": "markdown",
   "metadata": {},
   "source": [
    "## Call the bot for the first time"
   ]
  },
  {
   "cell_type": "code",
   "execution_count": 5,
   "metadata": {
    "dotnet_interactive": {
     "language": "csharp"
    },
    "polyglot_notebook": {
     "kernelName": "csharp"
    },
    "vscode": {
     "languageId": "polyglot-notebook"
    }
   },
   "outputs": [
    {
     "name": "stdout",
     "output_type": "stream",
     "text": [
      "As a general assistant, my role is to provide support and assistance to various departments and individuals within an organization. This may include tasks such as answering phone calls, responding to emails, scheduling appointments, organizing files, running errands, and performing other administrative duties as needed. I am responsible for ensuring that the office runs smoothly and efficiently, and that all tasks are completed in a timely and accurate manner. I am also expected to maintain a professional and courteous demeanor at all times, and to represent the organization in a positive light.\n",
      "\n"
     ]
    }
   ],
   "source": [
    "var DefaultSystemMessage = \"You are a general assitant.\";\n",
    "\n",
    "// Keep the conversation history\n",
    "var chatHistory = new List<Message>();\n",
    "chatHistory.Add(new Message(\"system\", DefaultSystemMessage));\n",
    "\n",
    "// Get the first Chat completion\n",
    "var ans = await GetGptCompletionAsync(client,uri,chatHistory);\n",
    "Console.WriteLine(ans.Item1 + \"\\n\");"
   ]
  },
  {
   "cell_type": "markdown",
   "metadata": {},
   "source": [
    "## Enter the while loop and process the user and system messages"
   ]
  },
  {
   "cell_type": "code",
   "execution_count": 6,
   "metadata": {
    "dotnet_interactive": {
     "language": "csharp"
    },
    "polyglot_notebook": {
     "kernelName": "csharp"
    },
    "vscode": {
     "languageId": "polyglot-notebook"
    }
   },
   "outputs": [
    {
     "ename": "Error",
     "evalue": "Input request cancelled",
     "output_type": "error",
     "traceback": [
      "Input request cancelled"
     ]
    },
    {
     "ename": "Error",
     "evalue": "Input request cancelled",
     "output_type": "error",
     "traceback": [
      "Input request cancelled"
     ]
    },
    {
     "ename": "Error",
     "evalue": "System.Exception: Input request cancelled\n   at Microsoft.DotNet.Interactive.Kernel.GetInputAsync(String prompt, Boolean isPassword, String typeHint, String valueName) in D:\\a\\_work\\1\\s\\src\\Microsoft.DotNet.Interactive\\Kernel.Static.cs:line 71\n   at Microsoft.DotNet.Interactive.Kernel.GetInputAsync(String prompt, String typeHint, String valueName) in D:\\a\\_work\\1\\s\\src\\Microsoft.DotNet.Interactive\\Kernel.Static.cs:line 46\n   at Submission#9.<<Initialize>>d__0.MoveNext()\n--- End of stack trace from previous location ---\n   at Microsoft.CodeAnalysis.Scripting.ScriptExecutionState.RunSubmissionsAsync[TResult](ImmutableArray`1 precedingExecutors, Func`2 currentExecutor, StrongBox`1 exceptionHolderOpt, Func`2 catchExceptionOpt, CancellationToken cancellationToken)",
     "output_type": "error",
     "traceback": [
      "System.Exception: Input request cancelled\n",
      "   at Microsoft.DotNet.Interactive.Kernel.GetInputAsync(String prompt, Boolean isPassword, String typeHint, String valueName) in D:\\a\\_work\\1\\s\\src\\Microsoft.DotNet.Interactive\\Kernel.Static.cs:line 71\n",
      "   at Microsoft.DotNet.Interactive.Kernel.GetInputAsync(String prompt, String typeHint, String valueName) in D:\\a\\_work\\1\\s\\src\\Microsoft.DotNet.Interactive\\Kernel.Static.cs:line 46\n",
      "   at Submission#9.<<Initialize>>d__0.MoveNext()\n",
      "--- End of stack trace from previous location ---\n",
      "   at Microsoft.CodeAnalysis.Scripting.ScriptExecutionState.RunSubmissionsAsync[TResult](ImmutableArray`1 precedingExecutors, Func`2 currentExecutor, StrongBox`1 exceptionHolderOpt, Func`2 catchExceptionOpt, CancellationToken cancellationToken)"
     ]
    }
   ],
   "source": [
    "while (true) {\n",
    "    // Get and write the user input\n",
    "    var userMessage = await InteractiveKernel.GetInputAsync(\"Your message\");\n",
    "    Console.WriteLine($\"User: {userMessage}\");\n",
    "\n",
    "    switch(userMessage) {\n",
    "        case \"history\":\n",
    "            foreach (var message in chatHistory) {\n",
    "                Console.WriteLine(message.Role+ \": \" + message.Content);\n",
    "            }\n",
    "            continue;\n",
    "        default:\n",
    "            // send the prompt for completion, but really send the conversation\n",
    "            chatHistory.Add(new Message(\"user\", userMessage));\n",
    "            ans = await GetGptCompletionAsync(client,uri,chatHistory);\n",
    "            Console.WriteLine(ans.Item1 + \"\\n\");\n",
    "            \n",
    "            // add the completion as a system message\n",
    "            chatHistory.Add(new Message(\"system\", ans.Item1));\n",
    "            break;\n",
    "    }        \n",
    "}"
   ]
  }
 ],
 "metadata": {
  "language_info": {
   "name": "python"
  },
  "orig_nbformat": 4
 },
 "nbformat": 4,
 "nbformat_minor": 2
}
