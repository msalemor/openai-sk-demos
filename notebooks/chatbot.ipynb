{
 "cells": [
  {
   "cell_type": "markdown",
   "metadata": {},
   "source": [
    "# REST ChatBot\n",
    "\n",
    "Advantages of using SK over vanilla REST or standar OpenAI SDK:\n",
    "\n",
    "- HttpClient handling and built-in retry logic\n",
    "- Pre-defined models (Prompt & Completion)\n",
    "- Process prompts as pipes\n",
    "- Prompts and prompt templates (semantic functions)\n",
    "- Process native functions as semantic functions\n",
    "\n",
    "\n",
    "## Load the required .NET Packages"
   ]
  },
  {
   "cell_type": "code",
   "execution_count": 22,
   "metadata": {
    "dotnet_interactive": {
     "language": "csharp"
    },
    "polyglot_notebook": {
     "kernelName": "csharp"
    },
    "vscode": {
     "languageId": "polyglot-notebook"
    }
   },
   "outputs": [
    {
     "data": {
      "text/html": [
       "<div><div></div><div></div><div><strong>Installed Packages</strong><ul><li><span>dotenv.net, 3.1.2</span></li></ul></div></div>"
      ]
     },
     "metadata": {},
     "output_type": "display_data"
    }
   ],
   "source": [
    "using System;\n",
    "using System.Net.Http;\n",
    "using System.Net.Http.Headers;\n",
    "using System.Text;\n",
    "using System.Text.Json;\n",
    "using System.Text.Json.Serialization;\n",
    "using dotenv.net;\n",
    "using InteractiveKernel = Microsoft.DotNet.Interactive.Kernel;\n",
    "\n",
    "#r \"nuget: dotenv.net\"\n",
    "\n",
    "#!import Models/Models.cs\n",
    "#!import Utils/HttpUtils.cs"
   ]
  },
  {
   "cell_type": "markdown",
   "metadata": {},
   "source": [
    "## Load environment variables"
   ]
  },
  {
   "cell_type": "code",
   "execution_count": 28,
   "metadata": {
    "dotnet_interactive": {
     "language": "csharp"
    },
    "polyglot_notebook": {
     "kernelName": "csharp"
    },
    "vscode": {
     "languageId": "polyglot-notebook"
    }
   },
   "outputs": [
    {
     "name": "stdout",
     "output_type": "stream",
     "text": [
      "Using deployment at: https://alemorfr.openai.azure.com/openai/deployments/gpt/chat/completions?api-version=2023-03-15-preview with key 32c87...\n"
     ]
    }
   ],
   "source": [
    "DotEnv.Load();\n",
    "var uri = Environment.GetEnvironmentVariable(\"GPT_OPENAI_FULL_ENDPOINT\");\n",
    "var apiKey = Environment.GetEnvironmentVariable(\"GPT_OPENAI_KEY\");\n",
    "Console.WriteLine($\"Using deployment at: {uri} with key {apiKey.Substring(0, 5)}...\");"
   ]
  },
  {
   "cell_type": "markdown",
   "metadata": {},
   "source": [
    "## Get a HttpClient instance\n",
    "\n",
    "**> Note:** This is not necessary, but it may help prevent port exhaustion issues."
   ]
  },
  {
   "cell_type": "code",
   "execution_count": 12,
   "metadata": {
    "dotnet_interactive": {
     "language": "csharp"
    },
    "polyglot_notebook": {
     "kernelName": "csharp"
    },
    "vscode": {
     "languageId": "polyglot-notebook"
    }
   },
   "outputs": [],
   "source": [
    "// Note: This may be good practice depending on your use case. Otherwise, an HttpClient will be created for you.\n",
    "var client = new HttpClient();\n",
    "client.DefaultRequestHeaders.Accept.Add(new MediaTypeWithQualityHeaderValue(\"application/json\"));\n",
    "client.DefaultRequestHeaders.Add(\"api-key\", $\"{apiKey}\");"
   ]
  },
  {
   "cell_type": "markdown",
   "metadata": {},
   "source": [
    "## Call the bot for the first time"
   ]
  },
  {
   "cell_type": "code",
   "execution_count": 26,
   "metadata": {
    "dotnet_interactive": {
     "language": "csharp"
    },
    "polyglot_notebook": {
     "kernelName": "csharp"
    },
    "vscode": {
     "languageId": "polyglot-notebook"
    }
   },
   "outputs": [
    {
     "name": "stdout",
     "output_type": "stream",
     "text": [
      "made it.\n",
      "As a general assistant, I am here to help with a wide range of tasks and responsibilities. Some of my duties may include answering phone calls, responding to emails, scheduling appointments, organizing files and documents, running errands, and assisting with various administrative tasks. I am here to provide support and ensure that everything runs smoothly and efficiently. If you have any questions or need assistance with anything, please don't hesitate to ask.\n",
      "\n"
     ]
    }
   ],
   "source": [
    "var DefaultSystemMessage = \"You are a general assitant.\";\n",
    "var chatHistory = new List<Message>();\n",
    "chatHistory.Add(new Message(\"system\", DefaultSystemMessage));\n",
    "var ans = await GetGptCompletionAsync(client,uri,chatHistory);\n",
    "Console.WriteLine(ans.Item1 + \"\\n\");\n"
   ]
  },
  {
   "cell_type": "markdown",
   "metadata": {},
   "source": [
    "## Enter the while loop and process the user and system messages"
   ]
  },
  {
   "cell_type": "code",
   "execution_count": 27,
   "metadata": {
    "dotnet_interactive": {
     "language": "csharp"
    },
    "polyglot_notebook": {
     "kernelName": "csharp"
    },
    "vscode": {
     "languageId": "polyglot-notebook"
    }
   },
   "outputs": [
    {
     "name": "stdout",
     "output_type": "stream",
     "text": [
      "User: What is the speed of light?\n",
      "made it.\n",
      "The speed of light is approximately 299,792,458 meters per second (or about 186,282 miles per second).\n",
      "\n",
      "User: What is the distance to the sun?\n",
      "made it.\n",
      "The average distance from the Earth to the Sun is about 93 million miles (149.6 million kilometers). This distance is also known as an astronomical unit (AU).\n",
      "\n",
      "User: history\n",
      "system: You are a general assitant.\n",
      "user: What is the speed of light?\n",
      "system: The speed of light is approximately 299,792,458 meters per second (or about 186,282 miles per second).\n",
      "user: What is the distance to the sun?\n",
      "system: The average distance from the Earth to the Sun is about 93 million miles (149.6 million kilometers). This distance is also known as an astronomical unit (AU).\n"
     ]
    },
    {
     "ename": "Error",
     "evalue": "Input request cancelled",
     "output_type": "error",
     "traceback": [
      "Input request cancelled"
     ]
    },
    {
     "ename": "Error",
     "evalue": "Input request cancelled",
     "output_type": "error",
     "traceback": [
      "Input request cancelled"
     ]
    },
    {
     "ename": "Error",
     "evalue": "System.Exception: Input request cancelled\n   at Microsoft.DotNet.Interactive.Kernel.GetInputAsync(String prompt, Boolean isPassword, String typeHint, String valueName) in D:\\a\\_work\\1\\s\\src\\Microsoft.DotNet.Interactive\\Kernel.Static.cs:line 71\n   at Microsoft.DotNet.Interactive.Kernel.GetInputAsync(String prompt, String typeHint, String valueName) in D:\\a\\_work\\1\\s\\src\\Microsoft.DotNet.Interactive\\Kernel.Static.cs:line 46\n   at Submission#42.<<Initialize>>d__0.MoveNext()\n--- End of stack trace from previous location ---\n   at Microsoft.CodeAnalysis.Scripting.ScriptExecutionState.RunSubmissionsAsync[TResult](ImmutableArray`1 precedingExecutors, Func`2 currentExecutor, StrongBox`1 exceptionHolderOpt, Func`2 catchExceptionOpt, CancellationToken cancellationToken)",
     "output_type": "error",
     "traceback": [
      "System.Exception: Input request cancelled\n",
      "   at Microsoft.DotNet.Interactive.Kernel.GetInputAsync(String prompt, Boolean isPassword, String typeHint, String valueName) in D:\\a\\_work\\1\\s\\src\\Microsoft.DotNet.Interactive\\Kernel.Static.cs:line 71\n",
      "   at Microsoft.DotNet.Interactive.Kernel.GetInputAsync(String prompt, String typeHint, String valueName) in D:\\a\\_work\\1\\s\\src\\Microsoft.DotNet.Interactive\\Kernel.Static.cs:line 46\n",
      "   at Submission#42.<<Initialize>>d__0.MoveNext()\n",
      "--- End of stack trace from previous location ---\n",
      "   at Microsoft.CodeAnalysis.Scripting.ScriptExecutionState.RunSubmissionsAsync[TResult](ImmutableArray`1 precedingExecutors, Func`2 currentExecutor, StrongBox`1 exceptionHolderOpt, Func`2 catchExceptionOpt, CancellationToken cancellationToken)"
     ]
    }
   ],
   "source": [
    "while (true) {\n",
    "    var userMessage = await InteractiveKernel.GetInputAsync(\"Your message\");\n",
    "    Console.WriteLine($\"User: {userMessage}\");\n",
    "    switch(userMessage) {\n",
    "        case \"history\":\n",
    "            foreach (var message in chatHistory) {\n",
    "                Console.WriteLine(message.Role+ \": \" + message.Content);\n",
    "            }\n",
    "            continue;\n",
    "        default:\n",
    "            chatHistory.Add(new Message(\"user\", userMessage));\n",
    "            ans = await GetGptCompletionAsync(client,uri,chatHistory);\n",
    "            Console.WriteLine(ans.Item1 + \"\\n\");\n",
    "            chatHistory.Add(new Message(\"system\", ans.Item1));\n",
    "            break;\n",
    "    }        \n",
    "}"
   ]
  }
 ],
 "metadata": {
  "language_info": {
   "name": "python"
  },
  "orig_nbformat": 4
 },
 "nbformat": 4,
 "nbformat_minor": 2
}
