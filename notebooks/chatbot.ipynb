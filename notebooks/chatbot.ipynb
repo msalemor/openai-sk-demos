{
 "cells": [
  {
   "cell_type": "markdown",
   "metadata": {},
   "source": [
    "# REST ChatBot\n",
    "\n",
    "Advantages of using SK over vanilla REST or standar OpenAI SDK:\n",
    "\n",
    "- HttpClient handling and built-in retry logic\n",
    "- Pre-defined models (Prompt & Completion)\n",
    "- Process prompts as pipes\n",
    "- Prompts and prompt templates (semantic functions)\n",
    "- Process native functions as semantic functions\n",
    "\n",
    "\n",
    "## Load the required .NET packages and supporting classes"
   ]
  },
  {
   "cell_type": "code",
   "execution_count": null,
   "metadata": {
    "dotnet_interactive": {
     "language": "csharp"
    },
    "polyglot_notebook": {
     "kernelName": "csharp"
    },
    "vscode": {
     "languageId": "polyglot-notebook"
    }
   },
   "outputs": [],
   "source": [
    "using System;\n",
    "using System.Net.Http;\n",
    "using System.Net.Http.Headers;\n",
    "using System.Text;\n",
    "using System.Text.Json;\n",
    "using System.Text.Json.Serialization;\n",
    "using dotenv.net;\n",
    "using InteractiveKernel = Microsoft.DotNet.Interactive.Kernel;\n",
    "\n",
    "#r \"nuget: dotenv.net\"\n",
    "\n",
    "#!import Models/Models.cs\n",
    "#!import Utils/HttpUtils.cs"
   ]
  },
  {
   "cell_type": "markdown",
   "metadata": {},
   "source": [
    "## Load the OpenAI variables from environment variables or an .env file"
   ]
  },
  {
   "cell_type": "code",
   "execution_count": null,
   "metadata": {
    "dotnet_interactive": {
     "language": "csharp"
    },
    "polyglot_notebook": {
     "kernelName": "csharp"
    },
    "vscode": {
     "languageId": "polyglot-notebook"
    }
   },
   "outputs": [],
   "source": [
    "DotEnv.Load();\n",
    "var uri = Environment.GetEnvironmentVariable(\"GPT_OPENAI_FULL_ENDPOINT\");\n",
    "var apiKey = Environment.GetEnvironmentVariable(\"GPT_OPENAI_KEY\");\n",
    "Console.WriteLine($\"Using deployment at: {uri} with key {apiKey.Substring(0, 5)}...\");"
   ]
  },
  {
   "cell_type": "markdown",
   "metadata": {},
   "source": [
    "## Get a HttpClient instance\n",
    "\n",
    "**> Note:** This is not necessary, but it may help prevent port exhaustion issues."
   ]
  },
  {
   "cell_type": "code",
   "execution_count": null,
   "metadata": {
    "dotnet_interactive": {
     "language": "csharp"
    },
    "polyglot_notebook": {
     "kernelName": "csharp"
    },
    "vscode": {
     "languageId": "polyglot-notebook"
    }
   },
   "outputs": [],
   "source": [
    "// Note: This may be good practice depending on your use case. Otherwise, an HttpClient will be created for you.\n",
    "var client = new HttpClient();\n",
    "client.DefaultRequestHeaders.Accept.Add(new MediaTypeWithQualityHeaderValue(\"application/json\"));\n",
    "client.DefaultRequestHeaders.Add(\"api-key\", $\"{apiKey}\");"
   ]
  },
  {
   "cell_type": "markdown",
   "metadata": {},
   "source": [
    "## Call the bot for the first time"
   ]
  },
  {
   "cell_type": "code",
   "execution_count": null,
   "metadata": {
    "dotnet_interactive": {
     "language": "csharp"
    },
    "polyglot_notebook": {
     "kernelName": "csharp"
    },
    "vscode": {
     "languageId": "polyglot-notebook"
    }
   },
   "outputs": [],
   "source": [
    "var DefaultSystemMessage = \"You are a general assitant.\";\n",
    "var chatHistory = new List<Message>();\n",
    "chatHistory.Add(new Message(\"system\", DefaultSystemMessage));\n",
    "var ans = await GetGptCompletionAsync(client,uri,chatHistory);\n",
    "Console.WriteLine(ans.Item1 + \"\\n\");\n"
   ]
  },
  {
   "cell_type": "markdown",
   "metadata": {},
   "source": [
    "## Enter the while loop and process the user and system messages"
   ]
  },
  {
   "cell_type": "code",
   "execution_count": null,
   "metadata": {
    "dotnet_interactive": {
     "language": "csharp"
    },
    "polyglot_notebook": {
     "kernelName": "csharp"
    },
    "vscode": {
     "languageId": "polyglot-notebook"
    }
   },
   "outputs": [],
   "source": [
    "while (true) {\n",
    "    var userMessage = await InteractiveKernel.GetInputAsync(\"Your message\");\n",
    "    Console.WriteLine($\"User: {userMessage}\");\n",
    "    switch(userMessage) {\n",
    "        case \"history\":\n",
    "            foreach (var message in chatHistory) {\n",
    "                Console.WriteLine(message.Role+ \": \" + message.Content);\n",
    "            }\n",
    "            continue;\n",
    "        default:\n",
    "            chatHistory.Add(new Message(\"user\", userMessage));\n",
    "            ans = await GetGptCompletionAsync(client,uri,chatHistory);\n",
    "            Console.WriteLine(ans.Item1 + \"\\n\");\n",
    "            chatHistory.Add(new Message(\"system\", ans.Item1));\n",
    "            break;\n",
    "    }        \n",
    "}"
   ]
  }
 ],
 "metadata": {
  "language_info": {
   "name": "python"
  },
  "orig_nbformat": 4
 },
 "nbformat": 4,
 "nbformat_minor": 2
}
